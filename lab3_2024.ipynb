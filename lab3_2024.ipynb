{
  "nbformat": 4,
  "nbformat_minor": 0,
  "metadata": {
    "colab": {
      "provenance": [],
      "collapsed_sections": [
        "4DRvswhK6nnj"
      ]
    },
    "kernelspec": {
      "name": "python3",
      "display_name": "Python 3"
    }
  },
  "cells": [
    {
      "cell_type": "markdown",
      "metadata": {
        "id": "ZUWm0aQb9BC8"
      },
      "source": [
        "---\n",
        "# <font color=\"#CA3532\">Deep Learning Fundamentals and Basic Tools (2024/2025) - Lab Assignment 3</font>\n",
        "---\n",
        "\n",
        "Last updated on 2024-10-11\n",
        "\n",
        "Please report any bugs to luis.lago@uam.es\n",
        "\n",
        "\n",
        "\n",
        "---"
      ]
    },
    {
      "cell_type": "markdown",
      "source": [
        "This third lab includes the following tasks:\n",
        "\n",
        "- The implementation of simple models using [PyTorch](https://pytorch.org/).\n",
        "\n",
        "- <font color=\"#CA3532\">The implementation of a convolutional neural network for the [CIFAR-10](https://www.cs.toronto.edu/~kriz/cifar.html) problem, including hyperparameter optimization.</font>"
      ],
      "metadata": {
        "id": "EBpMcVbBTcd-"
      }
    },
    {
      "cell_type": "markdown",
      "metadata": {
        "id": "areLUgwp4ZhC"
      },
      "source": [
        "### <font color=\"#CA3532\">Clone the lab's github repo</font>\n",
        "\n",
        "The easiest way of having all the lab material available from *Colab* is to clone our github repository:"
      ]
    },
    {
      "cell_type": "code",
      "metadata": {
        "id": "WUhhu4QTzbDn",
        "colab": {
          "base_uri": "https://localhost:8080/"
        },
        "outputId": "9901fc21-d0d0-4b40-9e37-3f096c4d72c9"
      },
      "source": [
        "!git clone https://github.com/luisferuam/DLFBT-LAB"
      ],
      "execution_count": 1,
      "outputs": [
        {
          "output_type": "stream",
          "name": "stdout",
          "text": [
            "Cloning into 'DLFBT-LAB'...\n",
            "remote: Enumerating objects: 156, done.\u001b[K\n",
            "remote: Counting objects: 100% (28/28), done.\u001b[K\n",
            "remote: Compressing objects: 100% (21/21), done.\u001b[K\n",
            "remote: Total 156 (delta 12), reused 19 (delta 5), pack-reused 128 (from 1)\u001b[K\n",
            "Receiving objects: 100% (156/156), 7.53 MiB | 5.57 MiB/s, done.\n",
            "Resolving deltas: 100% (77/77), done.\n"
          ]
        }
      ]
    },
    {
      "cell_type": "markdown",
      "source": [
        "### <font color=\"#CA3532\">Instructions</font>\n",
        "\n",
        "- The assignment must be done in pairs.\n",
        "\n",
        "- All the exercises are described in this notebook. You must code your solutions in the file ``dlfbt_lab3.py`` provided as part of the material. Just complete the sections in the code marked with ``TO-DO`` comments.\n",
        "\n",
        "- The results for exercise 3, including the hyperparameter search, must be included at the end of this notebook.\n",
        "\n",
        "- Create a zip file containing both the ``dlfbt_lab3.py`` and this notebook and upload it to the [course Moodle page](https://posgrado.uam.es/course/view.php?id=62684) before the due date.\n",
        "\n",
        "- **Due date:** Friday, 2024-10-25, 23:59."
      ],
      "metadata": {
        "id": "kd1GM-6uTBTE"
      }
    },
    {
      "cell_type": "markdown",
      "metadata": {
        "id": "0zPXQteNbA9N"
      },
      "source": [
        "### <font color=\"#CA3532\">Import the libraries</font>\n",
        "\n",
        "The following code cells import the required libraries."
      ]
    },
    {
      "cell_type": "code",
      "metadata": {
        "id": "5qoR3iD7bLKF"
      },
      "source": [
        "import numpy as np\n",
        "import matplotlib.pyplot as plt\n",
        "from mpl_toolkits import mplot3d\n",
        "import pickle\n",
        "\n",
        "from time import time\n",
        "import shutil"
      ],
      "execution_count": 2,
      "outputs": []
    },
    {
      "cell_type": "code",
      "metadata": {
        "id": "f1qAknm_nF70"
      },
      "source": [
        "import tensorflow as tf\n",
        "from tensorflow import keras"
      ],
      "execution_count": 3,
      "outputs": []
    },
    {
      "cell_type": "code",
      "metadata": {
        "id": "TZBohNN5nH7f"
      },
      "source": [
        "import torch"
      ],
      "execution_count": 4,
      "outputs": []
    },
    {
      "cell_type": "code",
      "metadata": {
        "id": "QQ3mdiCYu8HZ"
      },
      "source": [
        "import sys\n",
        "sys.path.append('DLFBT-LAB')\n",
        "import dlfbt"
      ],
      "execution_count": 5,
      "outputs": []
    },
    {
      "cell_type": "markdown",
      "metadata": {
        "id": "4DRvswhK6nnj"
      },
      "source": [
        "### <font color=\"#CA3532\">Introduction to PyTorch</font>\n",
        "\n",
        "[PyTorch](https://pytorch.org/) is an open source machine learning framework that can be a good alternative to [TensorFlow](https://www.tensorflow.org/). It is usually the preferred option amongst the academic comunity because it offers more flexibility and hence it is easier to build custom models. However it lacks a high level layer like [Keras](https://keras.io/), so development could be a bit harder.\n",
        "\n",
        "In this first part of the lab you will be introduced to the PyTorch framework.\n",
        "\n",
        "Follow the introductory tutorial in the [PyTorch 60-Minute Blitz](https://pytorch.org/tutorials/beginner/deep_learning_60min_blitz.html) and then solve the exercises.\n"
      ]
    },
    {
      "cell_type": "markdown",
      "metadata": {
        "id": "EVGPz5tsD1iJ"
      },
      "source": [
        "### <font color=\"#CA3532\">Automatic differentiation with PyTorch</font>"
      ]
    },
    {
      "cell_type": "markdown",
      "metadata": {
        "id": "iQeDujFAEPGn"
      },
      "source": [
        "As you have seen in the tutorial, the flag ``requires_grad=True`` is used when creating a tensor to indicate that we will compute gradients with respect to it:"
      ]
    },
    {
      "cell_type": "code",
      "metadata": {
        "id": "C86e-JdkCjgg",
        "colab": {
          "base_uri": "https://localhost:8080/"
        },
        "outputId": "c8ba59e9-2cee-4ad5-ae36-32d1c1b6c9b5"
      },
      "source": [
        "x = torch.ones(2, 2, requires_grad=True)\n",
        "print(x)"
      ],
      "execution_count": 6,
      "outputs": [
        {
          "output_type": "stream",
          "name": "stdout",
          "text": [
            "tensor([[1., 1.],\n",
            "        [1., 1.]], requires_grad=True)\n"
          ]
        }
      ]
    },
    {
      "cell_type": "markdown",
      "metadata": {
        "id": "Nxt6-qn_E2cE"
      },
      "source": [
        "Now, whenever we perform an operation with this tensor, the new tensor that results from this operation includes a function to compute the gradient (``grad_fn``):"
      ]
    },
    {
      "cell_type": "code",
      "metadata": {
        "id": "BjQo0ZcnD_vY",
        "colab": {
          "base_uri": "https://localhost:8080/"
        },
        "outputId": "8bd47e48-210e-46eb-84ca-25e6ccc72312"
      },
      "source": [
        "y = x + 2\n",
        "print(y)"
      ],
      "execution_count": 7,
      "outputs": [
        {
          "output_type": "stream",
          "name": "stdout",
          "text": [
            "tensor([[3., 3.],\n",
            "        [3., 3.]], grad_fn=<AddBackward0>)\n"
          ]
        }
      ]
    },
    {
      "cell_type": "markdown",
      "metadata": {
        "id": "MwVdJhpcTg5h"
      },
      "source": [
        "Another example follows:"
      ]
    },
    {
      "cell_type": "code",
      "metadata": {
        "id": "jLu0aHfdD_sM",
        "colab": {
          "base_uri": "https://localhost:8080/"
        },
        "outputId": "16ad7d78-e1b9-4b4d-e822-da52a268765f"
      },
      "source": [
        "z = y * y * 3\n",
        "out = z.mean()\n",
        "\n",
        "print(z)\n",
        "print(out)"
      ],
      "execution_count": 8,
      "outputs": [
        {
          "output_type": "stream",
          "name": "stdout",
          "text": [
            "tensor([[27., 27.],\n",
            "        [27., 27.]], grad_fn=<MulBackward0>)\n",
            "tensor(27., grad_fn=<MeanBackward0>)\n"
          ]
        }
      ]
    },
    {
      "cell_type": "markdown",
      "metadata": {
        "id": "-gtLvuM8FHNW"
      },
      "source": [
        "To compute the gradients we must run the *backward pass* on the output tensor:"
      ]
    },
    {
      "cell_type": "code",
      "metadata": {
        "id": "1PxF2JSmD_pC"
      },
      "source": [
        "out.backward()"
      ],
      "execution_count": 9,
      "outputs": []
    },
    {
      "cell_type": "markdown",
      "metadata": {
        "id": "cBTIfPryFM7E"
      },
      "source": [
        "And then we can access the gradient using the ``grad`` field:"
      ]
    },
    {
      "cell_type": "code",
      "metadata": {
        "id": "WlGVD58CD_lQ",
        "colab": {
          "base_uri": "https://localhost:8080/"
        },
        "outputId": "261d569c-7196-483f-8d81-21dca39a12d6"
      },
      "source": [
        "print(x.grad)"
      ],
      "execution_count": 10,
      "outputs": [
        {
          "output_type": "stream",
          "name": "stdout",
          "text": [
            "tensor([[4.5000, 4.5000],\n",
            "        [4.5000, 4.5000]])\n"
          ]
        }
      ]
    },
    {
      "cell_type": "markdown",
      "metadata": {
        "id": "cyJxs-ZKFxEL"
      },
      "source": [
        "A simpler example, with scalar variables $x$ and $y$, follows:\n",
        "\n",
        "$$\n",
        "z = 2x^{2}y\n",
        "$$"
      ]
    },
    {
      "cell_type": "code",
      "metadata": {
        "id": "k4inFyscD_gv",
        "colab": {
          "base_uri": "https://localhost:8080/"
        },
        "outputId": "fb8d2566-4240-463f-9128-2ae954a2c959"
      },
      "source": [
        "x = torch.tensor(2., requires_grad=True)\n",
        "print(x)\n",
        "y = torch.tensor(3., requires_grad=True)\n",
        "print(y)\n",
        "z = 2*x*x*y\n",
        "print(z)"
      ],
      "execution_count": 11,
      "outputs": [
        {
          "output_type": "stream",
          "name": "stdout",
          "text": [
            "tensor(2., requires_grad=True)\n",
            "tensor(3., requires_grad=True)\n",
            "tensor(24., grad_fn=<MulBackward0>)\n"
          ]
        }
      ]
    },
    {
      "cell_type": "markdown",
      "metadata": {
        "id": "Ueq663yyGSmW"
      },
      "source": [
        "Backward pass:"
      ]
    },
    {
      "cell_type": "code",
      "metadata": {
        "id": "qc6Ac7htGRHF"
      },
      "source": [
        "z.backward()"
      ],
      "execution_count": 12,
      "outputs": []
    },
    {
      "cell_type": "markdown",
      "metadata": {
        "id": "EPf4FYqiGa2u"
      },
      "source": [
        "Gradients:\n",
        "\n",
        "$$\n",
        "\\frac{dz}{dx} = 4xy\n",
        "$$\n",
        "\n",
        "$$\n",
        "\\frac{dz}{dy} = 2x^{2}\n",
        "$$\n"
      ]
    },
    {
      "cell_type": "code",
      "metadata": {
        "id": "34BW29GdGREy",
        "colab": {
          "base_uri": "https://localhost:8080/"
        },
        "outputId": "219f34ba-e7cc-4511-83fc-841c37962a00"
      },
      "source": [
        "print(x.grad)\n",
        "print(y.grad)"
      ],
      "execution_count": 13,
      "outputs": [
        {
          "output_type": "stream",
          "name": "stdout",
          "text": [
            "tensor(24.)\n",
            "tensor(8.)\n"
          ]
        }
      ]
    },
    {
      "cell_type": "markdown",
      "metadata": {
        "id": "kJsqBAU2G0yn"
      },
      "source": [
        "### <font color=\"#CA3532\">Exercise 1: Gradient descent to find the minimum of a function</font>\n",
        "\n",
        "In the file ``dlfbt_lab3.py``, complete the code of the function ``gradient_descent_pytorch(f, x0, learning_rate, niters)`` that finds a minimum of a function using gradient descent. The function receives the following arguments:\n",
        "\n",
        "- ``f``: the function to minimize\n",
        "- ``x0``: the initial value\n",
        "- ``learning_rate``: the learning rate\n",
        "- ``niters``: the number of iterations\n",
        "\n",
        "The function returns a Numpy array with all the values of $x$.\n",
        "\n",
        "You can run the following code to test your implementation.\n"
      ]
    },
    {
      "cell_type": "code",
      "source": [
        "from dlfbt_lab3 import gradient_descent_pytorch"
      ],
      "metadata": {
        "id": "AMCB_kfDYDYD"
      },
      "execution_count": 14,
      "outputs": []
    },
    {
      "cell_type": "markdown",
      "source": [
        "Find the mimimum of the function $f(x) = (x-4)^{2}$:"
      ],
      "metadata": {
        "id": "vZtRdHguYMRa"
      }
    },
    {
      "cell_type": "code",
      "metadata": {
        "id": "vpRBIS0KArNl",
        "colab": {
          "base_uri": "https://localhost:8080/",
          "height": 449
        },
        "outputId": "bd5e001a-c26f-4219-98a3-76f26792b142"
      },
      "source": [
        "f = lambda x : (x - 4)**2\n",
        "x_history = gradient_descent_pytorch(f, 0.0, 1.e-2, 500)\n",
        "\n",
        "# Plot x versus iteration:\n",
        "plt.plot(x_history)\n",
        "plt.plot([0, 500], [4, 4])\n",
        "plt.grid(True)\n",
        "plt.legend(('Predicted', 'True'))\n",
        "plt.xlabel('Iteration')\n",
        "plt.ylabel('x value')\n",
        "plt.show()"
      ],
      "execution_count": 15,
      "outputs": [
        {
          "output_type": "display_data",
          "data": {
            "text/plain": [
              "<Figure size 640x480 with 1 Axes>"
            ],
            "image/png": "[encoded data removed]"
          },
          "metadata": {}
        }
      ]
    },
    {
      "cell_type": "markdown",
      "source": [
        "Find a local mimimum of the function $f(x) = \\cos x$:"
      ],
      "metadata": {
        "id": "G6B42vVgZHJ4"
      }
    },
    {
      "cell_type": "code",
      "source": [
        "f = lambda x : torch.cos(x)\n",
        "x_history = gradient_descent_pytorch(f, 1.0, 1.e-2, 1000)\n",
        "\n",
        "# Plot x versus iteration:\n",
        "plt.plot(x_history)\n",
        "plt.plot([0, 1000], [np.pi, np.pi])\n",
        "plt.grid(True)\n",
        "plt.legend(('Predicted', 'True'))\n",
        "plt.xlabel('Iteration')\n",
        "plt.ylabel('x value')\n",
        "plt.show()"
      ],
      "metadata": {
        "colab": {
          "base_uri": "https://localhost:8080/",
          "height": 449
        },
        "id": "BbvUimCwZJCB",
        "outputId": "f84fa6bc-33b2-4c8c-911a-0d2e8276b355"
      },
      "execution_count": 16,
      "outputs": [
        {
          "output_type": "display_data",
          "data": {
            "text/plain": [
              "<Figure size 640x480 with 1 Axes>"
            ],
            "image/png": "[encoded data removed]"
          },
          "metadata": {}
        }
      ]
    },
    {
      "cell_type": "markdown",
      "metadata": {
        "id": "P9aQ48l0WioT"
      },
      "source": [
        "### <font color=\"#CA3532\">Exercise 2: Linear regression using pytorch</font>\n",
        "\n",
        "Re-implement the ``LinearRegressionModel`` class of lab 1 using PyTorch.\n",
        "\n",
        "Complete the code of the class ``LinearRegressionModel_pytorch`` by filling all the ``TO-DO`` blocks, so that it implements a Linear Regression model."
      ]
    },
    {
      "cell_type": "code",
      "source": [
        "from dlfbt_lab3 import LinearRegressionModel_pytorch"
      ],
      "metadata": {
        "id": "oLiiqCN-bQdD"
      },
      "execution_count": 17,
      "outputs": []
    },
    {
      "cell_type": "markdown",
      "source": [
        "Run the following tests to check your implementation."
      ],
      "metadata": {
        "id": "Lb5YftM9bXCo"
      }
    },
    {
      "cell_type": "markdown",
      "metadata": {
        "id": "fzfaTfEdf7U4"
      },
      "source": [
        "Test the ``predict`` method:"
      ]
    },
    {
      "cell_type": "code",
      "metadata": {
        "id": "aqUn7HA4L0Oc"
      },
      "source": [
        "dg = dlfbt.DataGeneratorLinear(a=[-5.0, 2.0, -3.0, 2.0])\n",
        "dg.create_dataset(noise=0.0, n=500)\n",
        "\n",
        "linrm = LinearRegressionModel_pytorch()\n",
        "linrm.w = torch.tensor(dg.a, requires_grad=True)\n",
        "linrm.b = torch.tensor(dg.b, requires_grad=True)\n",
        "\n",
        "y = linrm.predict(dg.x).detach()\n",
        "\n",
        "tol = 1.e-8\n",
        "assert y.shape == (500, 1)\n",
        "assert np.abs(y - dg.t).max() < tol\n",
        "assert linrm.get_loss(dg.x, dg.t) < tol"
      ],
      "execution_count": 18,
      "outputs": []
    },
    {
      "cell_type": "markdown",
      "metadata": {
        "id": "FG5ACvPWf6tF"
      },
      "source": [
        "Test the ``compute_gradients`` method:"
      ]
    },
    {
      "cell_type": "code",
      "metadata": {
        "id": "81n7fG_WdgXS"
      },
      "source": [
        "dg = dlfbt.DataGeneratorLinear(a=[-5.0, 2.0, -3.0, 2.0])\n",
        "dg.create_dataset(n=50000, seed=17)\n",
        "\n",
        "linrm = LinearRegressionModel_pytorch()\n",
        "linrm.w = torch.tensor(dg.a, requires_grad=True)\n",
        "linrm.b = torch.tensor(dg.b, requires_grad=True)\n",
        "\n",
        "db, dw = linrm.compute_gradients(dg.x, dg.t)\n",
        "\n",
        "tol = 1.e-8\n",
        "assert db.shape == (1, 1)\n",
        "assert np.abs(db[0][0] + 0.00704326) < tol\n",
        "assert dw.shape == (4, 1)\n",
        "assert np.abs(dw[0][0] + 0.05353578) < tol\n",
        "assert np.abs(dw[1][0] + 0.03276935) < tol\n",
        "assert np.abs(dw[2][0] + 0.00337341) < tol\n",
        "assert np.abs(dw[3][0] + 0.03293776) < tol"
      ],
      "execution_count": 19,
      "outputs": []
    },
    {
      "cell_type": "markdown",
      "metadata": {
        "id": "m5y0C9ykgNJh"
      },
      "source": [
        "Test the ``fit`` method:"
      ]
    },
    {
      "cell_type": "code",
      "metadata": {
        "id": "xzlNX_todf91"
      },
      "source": [
        "dg = dlfbt.DataGeneratorLinear(a=[2.0, 2.0])\n",
        "dg.create_dataset(n=500, seed=17)\n",
        "\n",
        "linrm = LinearRegressionModel_pytorch(2)\n",
        "linrm.w = torch.tensor([[-2.0], [-2.0]], dtype=torch.float64, requires_grad=True)\n",
        "linrm.b = torch.tensor([[-3.0]], dtype=torch.float64, requires_grad=True)\n",
        "\n",
        "loss = linrm.fit(dg.x, dg.t, 0.01, 100)\n",
        "\n",
        "tol = 1.e-8\n",
        "assert np.abs(loss[-1] - 2.660068435196912) < tol"
      ],
      "execution_count": 20,
      "outputs": []
    },
    {
      "cell_type": "markdown",
      "metadata": {
        "id": "ypJWy5aymaIx"
      },
      "source": [
        "Plot loss vs iteration:"
      ]
    },
    {
      "cell_type": "code",
      "metadata": {
        "id": "EJsZhQGmh1Du",
        "colab": {
          "base_uri": "https://localhost:8080/",
          "height": 542
        },
        "outputId": "35657290-1c21-41a0-c0d5-64577afa89ee"
      },
      "source": [
        "plt.figure(figsize=(6, 6))\n",
        "plt.plot(loss)\n",
        "plt.xlabel('iteration')\n",
        "plt.ylabel('loss')\n",
        "plt.grid(True)\n",
        "plt.show()"
      ],
      "execution_count": 21,
      "outputs": [
        {
          "output_type": "display_data",
          "data": {
            "text/plain": [
              "<Figure size 600x600 with 1 Axes>"
            ],
            "image/png": "[encoded data removed]"
          },
          "metadata": {}
        }
      ]
    },
    {
      "cell_type": "markdown",
      "metadata": {
        "id": "beFccWoLQFA-"
      },
      "source": [
        "### <font color=\"#CA3532\">Neural networks in pytorch</font>\n"
      ]
    },
    {
      "cell_type": "markdown",
      "metadata": {
        "id": "DrIWsP8SHcB7"
      },
      "source": [
        "\n",
        "We will build a simple feedforward neural network to classify the digits in the [MNIST](http://yann.lecun.com/exdb/mnist/) dataset. The next cell loads the data:"
      ]
    },
    {
      "cell_type": "code",
      "metadata": {
        "id": "0HhfMBJVQXtC",
        "colab": {
          "base_uri": "https://localhost:8080/"
        },
        "outputId": "b0ddd08b-49b4-4d24-bd12-1561ebd495ce"
      },
      "source": [
        "(train_images, train_labels), (test_images, test_labels) = tf.keras.datasets.mnist.load_data()\n",
        "\n",
        "print(train_images.shape)\n",
        "print(train_labels.shape)\n",
        "print(train_labels)\n",
        "\n",
        "print(test_images.shape)\n",
        "print(test_labels.shape)\n",
        "print(test_labels)"
      ],
      "execution_count": 22,
      "outputs": [
        {
          "output_type": "stream",
          "name": "stdout",
          "text": [
            "Downloading data from https://storage.googleapis.com/tensorflow/tf-keras-datasets/mnist.npz\n",
            "\u001b[1m11490434/11490434\u001b[0m \u001b[32m━━━━━━━━━━━━━━━━━━━━\u001b[0m\u001b[37m\u001b[0m \u001b[1m0s\u001b[0m 0us/step\n",
            "(60000, 28, 28)\n",
            "(60000,)\n",
            "[5 0 4 ... 5 6 8]\n",
            "(10000, 28, 28)\n",
            "(10000,)\n",
            "[7 2 1 ... 4 5 6]\n"
          ]
        }
      ]
    },
    {
      "cell_type": "code",
      "metadata": {
        "id": "JnuRp4E0Qaoh"
      },
      "source": [
        "import torch\n",
        "import torch.nn as nn\n",
        "import torch.nn.functional as F\n",
        "import torch.optim as optim"
      ],
      "execution_count": 23,
      "outputs": []
    },
    {
      "cell_type": "markdown",
      "metadata": {
        "id": "XNLT7ehDRV6F"
      },
      "source": [
        "Definition of a class that implements the neural network (only the forward pass):"
      ]
    },
    {
      "cell_type": "code",
      "metadata": {
        "id": "k-l_aNmbQhq4"
      },
      "source": [
        "class Net(nn.Module):\n",
        "    def __init__(self):\n",
        "        super(Net, self).__init__()\n",
        "        self.fc1 = nn.Linear(28*28, 64)\n",
        "        self.fc2 = nn.Linear(64, 10)\n",
        "\n",
        "    def forward(self, x):\n",
        "        x = x.view(-1, 28*28)\n",
        "        x = F.relu(self.fc1(x))\n",
        "        x = self.fc2(x) # Note that we are not explicitly applying a softmax function\n",
        "        return x"
      ],
      "execution_count": 24,
      "outputs": []
    },
    {
      "cell_type": "markdown",
      "metadata": {
        "id": "6SaWvoqHH0l9"
      },
      "source": [
        "NN instantiation:"
      ]
    },
    {
      "cell_type": "code",
      "metadata": {
        "id": "kGO3VYqWHuir",
        "colab": {
          "base_uri": "https://localhost:8080/"
        },
        "outputId": "abe6f065-4b21-4fcc-aa2a-2661c6da7ffa"
      },
      "source": [
        "net = Net()\n",
        "print(net)"
      ],
      "execution_count": 25,
      "outputs": [
        {
          "output_type": "stream",
          "name": "stdout",
          "text": [
            "Net(\n",
            "  (fc1): Linear(in_features=784, out_features=64, bias=True)\n",
            "  (fc2): Linear(in_features=64, out_features=10, bias=True)\n",
            ")\n"
          ]
        }
      ]
    },
    {
      "cell_type": "markdown",
      "metadata": {
        "id": "yYDsFV2oIdLl"
      },
      "source": [
        "Network parameters:"
      ]
    },
    {
      "cell_type": "code",
      "metadata": {
        "id": "6p4XzR8WUiI9",
        "colab": {
          "base_uri": "https://localhost:8080/"
        },
        "outputId": "504fa204-c88c-4737-c8db-4da99ebfd757"
      },
      "source": [
        "params = list(net.parameters())\n",
        "print(len(params))\n",
        "\n",
        "for p in params:\n",
        "  print(p.size())"
      ],
      "execution_count": 26,
      "outputs": [
        {
          "output_type": "stream",
          "name": "stdout",
          "text": [
            "4\n",
            "torch.Size([64, 784])\n",
            "torch.Size([64])\n",
            "torch.Size([10, 64])\n",
            "torch.Size([10])\n"
          ]
        }
      ]
    },
    {
      "cell_type": "markdown",
      "metadata": {
        "id": "6vpsL9yRRZE3"
      },
      "source": [
        "Let us apply this network to a sample image:"
      ]
    },
    {
      "cell_type": "code",
      "metadata": {
        "id": "Y6SaZSOuQob_",
        "colab": {
          "base_uri": "https://localhost:8080/",
          "height": 499
        },
        "outputId": "c7b8addd-f84d-4c82-8d49-89dd0f3195fd"
      },
      "source": [
        "print(train_images[1].shape)\n",
        "print(\"target =\", train_labels[1])\n",
        "plt.imshow(train_images[1], cmap='gray')\n",
        "plt.show()\n",
        "\n",
        "# Image to tensor:\n",
        "input = torch.tensor(train_images[1], dtype=torch.float)\n",
        "\n",
        "# Predict:\n",
        "out = net(input)\n",
        "print(out)"
      ],
      "execution_count": 27,
      "outputs": [
        {
          "output_type": "stream",
          "name": "stdout",
          "text": [
            "(28, 28)\n",
            "target = 0\n"
          ]
        },
        {
          "output_type": "display_data",
          "data": {
            "text/plain": [
              "<Figure size 640x480 with 1 Axes>"
            ],
            "image/png": "[encoded data removed]"
          },
          "metadata": {}
        },
        {
          "output_type": "stream",
          "name": "stdout",
          "text": [
            "tensor([[ 13.5564, -35.2293,  -1.8026,   9.8072, -11.2711, -23.3381, -33.3275,\n",
            "          34.2610, -16.0060,  14.8356]], grad_fn=<AddmmBackward0>)\n"
          ]
        }
      ]
    },
    {
      "cell_type": "markdown",
      "metadata": {
        "id": "VWgQ-rBbUR7-"
      },
      "source": [
        "Define the optimizer:"
      ]
    },
    {
      "cell_type": "code",
      "metadata": {
        "id": "rQrG3GEfRkQf"
      },
      "source": [
        "criterion = nn.CrossEntropyLoss()\n",
        "optimizer = optim.SGD(net.parameters(), lr=0.001, momentum=0.9)"
      ],
      "execution_count": 28,
      "outputs": []
    },
    {
      "cell_type": "markdown",
      "metadata": {
        "id": "pPQCb3W0Jmp4"
      },
      "source": [
        "Network training:"
      ]
    },
    {
      "cell_type": "code",
      "metadata": {
        "id": "hYSNntVeTHYW",
        "colab": {
          "base_uri": "https://localhost:8080/"
        },
        "outputId": "240bf4ba-00ee-4980-9fa6-7f7fb86a00d4"
      },
      "source": [
        "niters = 1000\n",
        "hh = []\n",
        "for it in range(niters):\n",
        "    # Generate random mini-batch:\n",
        "    ix = np.random.permutation(60000)[:1000]\n",
        "    x = torch.tensor(train_images[ix], dtype=torch.float)\n",
        "    y = torch.tensor(train_labels[ix], dtype=torch.long)\n",
        "\n",
        "    # Reset gradients:\n",
        "    optimizer.zero_grad()\n",
        "\n",
        "    # Forward pass:\n",
        "    outputs = net(x)\n",
        "    loss = criterion(outputs, y)\n",
        "\n",
        "    # Backward pass:\n",
        "    loss.backward()\n",
        "\n",
        "    # Update:\n",
        "    optimizer.step()\n",
        "\n",
        "    # Print stats:\n",
        "    print('[%d] loss: %.3f' % (it + 1, loss.item()))\n",
        "    hh.append(loss.item())"
      ],
      "execution_count": 29,
      "outputs": [
        {
          "output_type": "stream",
          "name": "stdout",
          "text": [
            "[1] loss: 25.788\n",
            "[2] loss: 17.053\n",
            "[3] loss: 14.752\n",
            "[4] loss: 10.042\n",
            "[5] loss: 7.334\n",
            "[6] loss: 3.291\n",
            "[7] loss: 1.789\n",
            "[8] loss: 1.527\n",
            "[9] loss: 1.570\n",
            "[10] loss: 1.610\n",
            "[11] loss: 1.451\n",
            "[12] loss: 1.391\n",
            "[13] loss: 1.428\n",
            "[14] loss: 1.323\n",
            "[15] loss: 1.368\n",
            "[16] loss: 1.258\n",
            "[17] loss: 1.277\n",
            "[18] loss: 1.269\n",
            "[19] loss: 1.226\n",
            "[20] loss: 1.295\n",
            "[21] loss: 1.098\n",
            "[22] loss: 1.164\n",
            "[23] loss: 1.120\n",
            "[24] loss: 1.049\n",
            "[25] loss: 1.021\n",
            "[26] loss: 1.136\n",
            "[27] loss: 1.043\n",
            "[28] loss: 0.985\n",
            "[29] loss: 0.943\n",
            "[30] loss: 1.096\n",
            "[31] loss: 1.025\n",
            "[32] loss: 0.944\n",
            "[33] loss: 0.980\n",
            "[34] loss: 0.925\n",
            "[35] loss: 0.877\n",
            "[36] loss: 0.957\n",
            "[37] loss: 0.867\n",
            "[38] loss: 0.832\n",
            "[39] loss: 0.811\n",
            "[40] loss: 0.814\n",
            "[41] loss: 0.758\n",
            "[42] loss: 0.820\n",
            "[43] loss: 0.863\n",
            "[44] loss: 0.766\n",
            "[45] loss: 0.868\n",
            "[46] loss: 0.808\n",
            "[47] loss: 0.806\n",
            "[48] loss: 0.721\n",
            "[49] loss: 0.733\n",
            "[50] loss: 0.711\n",
            "[51] loss: 0.804\n",
            "[52] loss: 0.642\n",
            "[53] loss: 0.780\n",
            "[54] loss: 0.629\n",
            "[55] loss: 0.616\n",
            "[56] loss: 0.725\n",
            "[57] loss: 0.730\n",
            "[58] loss: 0.681\n",
            "[59] loss: 0.628\n",
            "[60] loss: 0.667\n",
            "[61] loss: 0.645\n",
            "[62] loss: 0.563\n",
            "[63] loss: 0.668\n",
            "[64] loss: 0.638\n",
            "[65] loss: 0.681\n",
            "[66] loss: 0.575\n",
            "[67] loss: 0.661\n",
            "[68] loss: 0.626\n",
            "[69] loss: 0.617\n",
            "[70] loss: 0.602\n",
            "[71] loss: 0.627\n",
            "[72] loss: 0.659\n",
            "[73] loss: 0.595\n",
            "[74] loss: 0.619\n",
            "[75] loss: 0.618\n",
            "[76] loss: 0.638\n",
            "[77] loss: 0.504\n",
            "[78] loss: 0.577\n",
            "[79] loss: 0.531\n",
            "[80] loss: 0.623\n",
            "[81] loss: 0.595\n",
            "[82] loss: 0.606\n",
            "[83] loss: 0.547\n",
            "[84] loss: 0.601\n",
            "[85] loss: 0.474\n",
            "[86] loss: 0.555\n",
            "[87] loss: 0.577\n",
            "[88] loss: 0.542\n",
            "[89] loss: 0.504\n",
            "[90] loss: 0.539\n",
            "[91] loss: 0.495\n",
            "[92] loss: 0.484\n",
            "[93] loss: 0.599\n",
            "[94] loss: 0.484\n",
            "[95] loss: 0.547\n",
            "[96] loss: 0.491\n",
            "[97] loss: 0.507\n",
            "[98] loss: 0.501\n",
            "[99] loss: 0.481\n",
            "[100] loss: 0.469\n",
            "[101] loss: 0.449\n",
            "[102] loss: 0.491\n",
            "[103] loss: 0.491\n",
            "[104] loss: 0.423\n",
            "[105] loss: 0.426\n",
            "[106] loss: 0.462\n",
            "[107] loss: 0.598\n",
            "[108] loss: 0.460\n",
            "[109] loss: 0.372\n",
            "[110] loss: 0.467\n",
            "[111] loss: 0.425\n",
            "[112] loss: 0.433\n",
            "[113] loss: 0.476\n",
            "[114] loss: 0.406\n",
            "[115] loss: 0.344\n",
            "[116] loss: 0.473\n",
            "[117] loss: 0.416\n",
            "[118] loss: 0.451\n",
            "[119] loss: 0.508\n",
            "[120] loss: 0.464\n",
            "[121] loss: 0.370\n",
            "[122] loss: 0.472\n",
            "[123] loss: 0.447\n",
            "[124] loss: 0.403\n",
            "[125] loss: 0.441\n",
            "[126] loss: 0.432\n",
            "[127] loss: 0.442\n",
            "[128] loss: 0.446\n",
            "[129] loss: 0.424\n",
            "[130] loss: 0.400\n",
            "[131] loss: 0.423\n",
            "[132] loss: 0.348\n",
            "[133] loss: 0.422\n",
            "[134] loss: 0.436\n",
            "[135] loss: 0.411\n",
            "[136] loss: 0.392\n",
            "[137] loss: 0.405\n",
            "[138] loss: 0.405\n",
            "[139] loss: 0.375\n",
            "[140] loss: 0.434\n",
            "[141] loss: 0.354\n",
            "[142] loss: 0.423\n",
            "[143] loss: 0.330\n",
            "[144] loss: 0.408\n",
            "[145] loss: 0.427\n",
            "[146] loss: 0.430\n",
            "[147] loss: 0.377\n",
            "[148] loss: 0.416\n",
            "[149] loss: 0.339\n",
            "[150] loss: 0.472\n",
            "[151] loss: 0.384\n",
            "[152] loss: 0.405\n",
            "[153] loss: 0.365\n",
            "[154] loss: 0.379\n",
            "[155] loss: 0.405\n",
            "[156] loss: 0.341\n",
            "[157] loss: 0.329\n",
            "[158] loss: 0.370\n",
            "[159] loss: 0.352\n",
            "[160] loss: 0.381\n",
            "[161] loss: 0.467\n",
            "[162] loss: 0.339\n",
            "[163] loss: 0.391\n",
            "[164] loss: 0.336\n",
            "[165] loss: 0.291\n",
            "[166] loss: 0.389\n",
            "[167] loss: 0.362\n",
            "[168] loss: 0.359\n",
            "[169] loss: 0.420\n",
            "[170] loss: 0.334\n",
            "[171] loss: 0.342\n",
            "[172] loss: 0.336\n",
            "[173] loss: 0.334\n",
            "[174] loss: 0.314\n",
            "[175] loss: 0.383\n",
            "[176] loss: 0.337\n",
            "[177] loss: 0.303\n",
            "[178] loss: 0.419\n",
            "[179] loss: 0.349\n",
            "[180] loss: 0.283\n",
            "[181] loss: 0.341\n",
            "[182] loss: 0.379\n",
            "[183] loss: 0.345\n",
            "[184] loss: 0.324\n",
            "[185] loss: 0.337\n",
            "[186] loss: 0.302\n",
            "[187] loss: 0.312\n",
            "[188] loss: 0.341\n",
            "[189] loss: 0.352\n",
            "[190] loss: 0.287\n",
            "[191] loss: 0.383\n",
            "[192] loss: 0.307\n",
            "[193] loss: 0.364\n",
            "[194] loss: 0.354\n",
            "[195] loss: 0.328\n",
            "[196] loss: 0.351\n",
            "[197] loss: 0.356\n",
            "[198] loss: 0.309\n",
            "[199] loss: 0.315\n",
            "[200] loss: 0.342\n",
            "[201] loss: 0.364\n",
            "[202] loss: 0.316\n",
            "[203] loss: 0.340\n",
            "[204] loss: 0.359\n",
            "[205] loss: 0.303\n",
            "[206] loss: 0.281\n",
            "[207] loss: 0.263\n",
            "[208] loss: 0.380\n",
            "[209] loss: 0.337\n",
            "[210] loss: 0.330\n",
            "[211] loss: 0.327\n",
            "[212] loss: 0.304\n",
            "[213] loss: 0.283\n",
            "[214] loss: 0.306\n",
            "[215] loss: 0.307\n",
            "[216] loss: 0.260\n",
            "[217] loss: 0.315\n",
            "[218] loss: 0.279\n",
            "[219] loss: 0.272\n",
            "[220] loss: 0.316\n",
            "[221] loss: 0.298\n",
            "[222] loss: 0.284\n",
            "[223] loss: 0.304\n",
            "[224] loss: 0.320\n",
            "[225] loss: 0.293\n",
            "[226] loss: 0.276\n",
            "[227] loss: 0.321\n",
            "[228] loss: 0.306\n",
            "[229] loss: 0.294\n",
            "[230] loss: 0.328\n",
            "[231] loss: 0.305\n",
            "[232] loss: 0.309\n",
            "[233] loss: 0.299\n",
            "[234] loss: 0.295\n",
            "[235] loss: 0.290\n",
            "[236] loss: 0.239\n",
            "[237] loss: 0.289\n",
            "[238] loss: 0.269\n",
            "[239] loss: 0.278\n",
            "[240] loss: 0.261\n",
            "[241] loss: 0.290\n",
            "[242] loss: 0.264\n",
            "[243] loss: 0.337\n",
            "[244] loss: 0.244\n",
            "[245] loss: 0.270\n",
            "[246] loss: 0.326\n",
            "[247] loss: 0.345\n",
            "[248] loss: 0.302\n",
            "[249] loss: 0.330\n",
            "[250] loss: 0.253\n",
            "[251] loss: 0.292\n",
            "[252] loss: 0.333\n",
            "[253] loss: 0.305\n",
            "[254] loss: 0.270\n",
            "[255] loss: 0.324\n",
            "[256] loss: 0.294\n",
            "[257] loss: 0.302\n",
            "[258] loss: 0.250\n",
            "[259] loss: 0.281\n",
            "[260] loss: 0.284\n",
            "[261] loss: 0.291\n",
            "[262] loss: 0.243\n",
            "[263] loss: 0.257\n",
            "[264] loss: 0.249\n",
            "[265] loss: 0.313\n",
            "[266] loss: 0.274\n",
            "[267] loss: 0.257\n",
            "[268] loss: 0.267\n",
            "[269] loss: 0.252\n",
            "[270] loss: 0.296\n",
            "[271] loss: 0.298\n",
            "[272] loss: 0.284\n",
            "[273] loss: 0.291\n",
            "[274] loss: 0.318\n",
            "[275] loss: 0.312\n",
            "[276] loss: 0.343\n",
            "[277] loss: 0.261\n",
            "[278] loss: 0.238\n",
            "[279] loss: 0.298\n",
            "[280] loss: 0.287\n",
            "[281] loss: 0.255\n",
            "[282] loss: 0.316\n",
            "[283] loss: 0.280\n",
            "[284] loss: 0.248\n",
            "[285] loss: 0.280\n",
            "[286] loss: 0.285\n",
            "[287] loss: 0.270\n",
            "[288] loss: 0.291\n",
            "[289] loss: 0.312\n",
            "[290] loss: 0.239\n",
            "[291] loss: 0.283\n",
            "[292] loss: 0.320\n",
            "[293] loss: 0.309\n",
            "[294] loss: 0.263\n",
            "[295] loss: 0.255\n",
            "[296] loss: 0.271\n",
            "[297] loss: 0.292\n",
            "[298] loss: 0.320\n",
            "[299] loss: 0.338\n",
            "[300] loss: 0.224\n",
            "[301] loss: 0.303\n",
            "[302] loss: 0.239\n",
            "[303] loss: 0.296\n",
            "[304] loss: 0.301\n",
            "[305] loss: 0.298\n",
            "[306] loss: 0.349\n",
            "[307] loss: 0.257\n",
            "[308] loss: 0.292\n",
            "[309] loss: 0.256\n",
            "[310] loss: 0.294\n",
            "[311] loss: 0.265\n",
            "[312] loss: 0.268\n",
            "[313] loss: 0.269\n",
            "[314] loss: 0.251\n",
            "[315] loss: 0.267\n",
            "[316] loss: 0.285\n",
            "[317] loss: 0.280\n",
            "[318] loss: 0.245\n",
            "[319] loss: 0.241\n",
            "[320] loss: 0.266\n",
            "[321] loss: 0.258\n",
            "[322] loss: 0.250\n",
            "[323] loss: 0.231\n",
            "[324] loss: 0.250\n",
            "[325] loss: 0.266\n",
            "[326] loss: 0.225\n",
            "[327] loss: 0.283\n",
            "[328] loss: 0.239\n",
            "[329] loss: 0.281\n",
            "[330] loss: 0.222\n",
            "[331] loss: 0.260\n",
            "[332] loss: 0.268\n",
            "[333] loss: 0.302\n",
            "[334] loss: 0.257\n",
            "[335] loss: 0.253\n",
            "[336] loss: 0.263\n",
            "[337] loss: 0.225\n",
            "[338] loss: 0.270\n",
            "[339] loss: 0.277\n",
            "[340] loss: 0.285\n",
            "[341] loss: 0.287\n",
            "[342] loss: 0.225\n",
            "[343] loss: 0.275\n",
            "[344] loss: 0.281\n",
            "[345] loss: 0.214\n",
            "[346] loss: 0.233\n",
            "[347] loss: 0.269\n",
            "[348] loss: 0.247\n",
            "[349] loss: 0.241\n",
            "[350] loss: 0.291\n",
            "[351] loss: 0.234\n",
            "[352] loss: 0.224\n",
            "[353] loss: 0.223\n",
            "[354] loss: 0.239\n",
            "[355] loss: 0.300\n",
            "[356] loss: 0.215\n",
            "[357] loss: 0.226\n",
            "[358] loss: 0.226\n",
            "[359] loss: 0.238\n",
            "[360] loss: 0.311\n",
            "[361] loss: 0.248\n",
            "[362] loss: 0.283\n",
            "[363] loss: 0.282\n",
            "[364] loss: 0.259\n",
            "[365] loss: 0.253\n",
            "[366] loss: 0.244\n",
            "[367] loss: 0.243\n",
            "[368] loss: 0.222\n",
            "[369] loss: 0.327\n",
            "[370] loss: 0.286\n",
            "[371] loss: 0.236\n",
            "[372] loss: 0.303\n",
            "[373] loss: 0.192\n",
            "[374] loss: 0.246\n",
            "[375] loss: 0.247\n",
            "[376] loss: 0.228\n",
            "[377] loss: 0.254\n",
            "[378] loss: 0.226\n",
            "[379] loss: 0.213\n",
            "[380] loss: 0.269\n",
            "[381] loss: 0.201\n",
            "[382] loss: 0.210\n",
            "[383] loss: 0.198\n",
            "[384] loss: 0.269\n",
            "[385] loss: 0.270\n",
            "[386] loss: 0.196\n",
            "[387] loss: 0.266\n",
            "[388] loss: 0.192\n",
            "[389] loss: 0.195\n",
            "[390] loss: 0.240\n",
            "[391] loss: 0.237\n",
            "[392] loss: 0.238\n",
            "[393] loss: 0.245\n",
            "[394] loss: 0.217\n",
            "[395] loss: 0.206\n",
            "[396] loss: 0.273\n",
            "[397] loss: 0.153\n",
            "[398] loss: 0.234\n",
            "[399] loss: 0.215\n",
            "[400] loss: 0.251\n",
            "[401] loss: 0.265\n",
            "[402] loss: 0.247\n",
            "[403] loss: 0.289\n",
            "[404] loss: 0.233\n",
            "[405] loss: 0.213\n",
            "[406] loss: 0.238\n",
            "[407] loss: 0.226\n",
            "[408] loss: 0.249\n",
            "[409] loss: 0.267\n",
            "[410] loss: 0.244\n",
            "[411] loss: 0.230\n",
            "[412] loss: 0.202\n",
            "[413] loss: 0.254\n",
            "[414] loss: 0.233\n",
            "[415] loss: 0.226\n",
            "[416] loss: 0.208\n",
            "[417] loss: 0.255\n",
            "[418] loss: 0.245\n",
            "[419] loss: 0.244\n",
            "[420] loss: 0.182\n",
            "[421] loss: 0.236\n",
            "[422] loss: 0.215\n",
            "[423] loss: 0.313\n",
            "[424] loss: 0.210\n",
            "[425] loss: 0.266\n",
            "[426] loss: 0.254\n",
            "[427] loss: 0.252\n",
            "[428] loss: 0.254\n",
            "[429] loss: 0.215\n",
            "[430] loss: 0.254\n",
            "[431] loss: 0.214\n",
            "[432] loss: 0.183\n",
            "[433] loss: 0.233\n",
            "[434] loss: 0.228\n",
            "[435] loss: 0.223\n",
            "[436] loss: 0.209\n",
            "[437] loss: 0.225\n",
            "[438] loss: 0.227\n",
            "[439] loss: 0.254\n",
            "[440] loss: 0.197\n",
            "[441] loss: 0.249\n",
            "[442] loss: 0.223\n",
            "[443] loss: 0.251\n",
            "[444] loss: 0.226\n",
            "[445] loss: 0.229\n",
            "[446] loss: 0.264\n",
            "[447] loss: 0.202\n",
            "[448] loss: 0.312\n",
            "[449] loss: 0.193\n",
            "[450] loss: 0.213\n",
            "[451] loss: 0.224\n",
            "[452] loss: 0.281\n",
            "[453] loss: 0.184\n",
            "[454] loss: 0.218\n",
            "[455] loss: 0.223\n",
            "[456] loss: 0.259\n",
            "[457] loss: 0.260\n",
            "[458] loss: 0.265\n",
            "[459] loss: 0.197\n",
            "[460] loss: 0.209\n",
            "[461] loss: 0.217\n",
            "[462] loss: 0.221\n",
            "[463] loss: 0.246\n",
            "[464] loss: 0.171\n",
            "[465] loss: 0.274\n",
            "[466] loss: 0.257\n",
            "[467] loss: 0.221\n",
            "[468] loss: 0.191\n",
            "[469] loss: 0.217\n",
            "[470] loss: 0.212\n",
            "[471] loss: 0.234\n",
            "[472] loss: 0.242\n",
            "[473] loss: 0.215\n",
            "[474] loss: 0.308\n",
            "[475] loss: 0.192\n",
            "[476] loss: 0.246\n",
            "[477] loss: 0.247\n",
            "[478] loss: 0.213\n",
            "[479] loss: 0.248\n",
            "[480] loss: 0.207\n",
            "[481] loss: 0.240\n",
            "[482] loss: 0.230\n",
            "[483] loss: 0.188\n",
            "[484] loss: 0.230\n",
            "[485] loss: 0.188\n",
            "[486] loss: 0.184\n",
            "[487] loss: 0.223\n",
            "[488] loss: 0.181\n",
            "[489] loss: 0.211\n",
            "[490] loss: 0.236\n",
            "[491] loss: 0.189\n",
            "[492] loss: 0.269\n",
            "[493] loss: 0.240\n",
            "[494] loss: 0.226\n",
            "[495] loss: 0.198\n",
            "[496] loss: 0.204\n",
            "[497] loss: 0.198\n",
            "[498] loss: 0.216\n",
            "[499] loss: 0.229\n",
            "[500] loss: 0.237\n",
            "[501] loss: 0.235\n",
            "[502] loss: 0.265\n",
            "[503] loss: 0.196\n",
            "[504] loss: 0.247\n",
            "[505] loss: 0.214\n",
            "[506] loss: 0.216\n",
            "[507] loss: 0.209\n",
            "[508] loss: 0.224\n",
            "[509] loss: 0.235\n",
            "[510] loss: 0.205\n",
            "[511] loss: 0.231\n",
            "[512] loss: 0.202\n",
            "[513] loss: 0.213\n",
            "[514] loss: 0.228\n",
            "[515] loss: 0.220\n",
            "[516] loss: 0.266\n",
            "[517] loss: 0.220\n",
            "[518] loss: 0.220\n",
            "[519] loss: 0.153\n",
            "[520] loss: 0.194\n",
            "[521] loss: 0.211\n",
            "[522] loss: 0.260\n",
            "[523] loss: 0.239\n",
            "[524] loss: 0.246\n",
            "[525] loss: 0.169\n",
            "[526] loss: 0.236\n",
            "[527] loss: 0.236\n",
            "[528] loss: 0.212\n",
            "[529] loss: 0.208\n",
            "[530] loss: 0.213\n",
            "[531] loss: 0.232\n",
            "[532] loss: 0.215\n",
            "[533] loss: 0.261\n",
            "[534] loss: 0.219\n",
            "[535] loss: 0.238\n",
            "[536] loss: 0.178\n",
            "[537] loss: 0.216\n",
            "[538] loss: 0.247\n",
            "[539] loss: 0.203\n",
            "[540] loss: 0.232\n",
            "[541] loss: 0.215\n",
            "[542] loss: 0.187\n",
            "[543] loss: 0.201\n",
            "[544] loss: 0.212\n",
            "[545] loss: 0.197\n",
            "[546] loss: 0.198\n",
            "[547] loss: 0.177\n",
            "[548] loss: 0.240\n",
            "[549] loss: 0.232\n",
            "[550] loss: 0.197\n",
            "[551] loss: 0.189\n",
            "[552] loss: 0.197\n",
            "[553] loss: 0.211\n",
            "[554] loss: 0.200\n",
            "[555] loss: 0.210\n",
            "[556] loss: 0.240\n",
            "[557] loss: 0.284\n",
            "[558] loss: 0.190\n",
            "[559] loss: 0.251\n",
            "[560] loss: 0.198\n",
            "[561] loss: 0.256\n",
            "[562] loss: 0.200\n",
            "[563] loss: 0.181\n",
            "[564] loss: 0.248\n",
            "[565] loss: 0.281\n",
            "[566] loss: 0.255\n",
            "[567] loss: 0.234\n",
            "[568] loss: 0.234\n",
            "[569] loss: 0.279\n",
            "[570] loss: 0.276\n",
            "[571] loss: 0.202\n",
            "[572] loss: 0.231\n",
            "[573] loss: 0.210\n",
            "[574] loss: 0.203\n",
            "[575] loss: 0.241\n",
            "[576] loss: 0.227\n",
            "[577] loss: 0.221\n",
            "[578] loss: 0.284\n",
            "[579] loss: 0.216\n",
            "[580] loss: 0.208\n",
            "[581] loss: 0.199\n",
            "[582] loss: 0.234\n",
            "[583] loss: 0.213\n",
            "[584] loss: 0.204\n",
            "[585] loss: 0.233\n",
            "[586] loss: 0.209\n",
            "[587] loss: 0.170\n",
            "[588] loss: 0.198\n",
            "[589] loss: 0.166\n",
            "[590] loss: 0.197\n",
            "[591] loss: 0.231\n",
            "[592] loss: 0.206\n",
            "[593] loss: 0.147\n",
            "[594] loss: 0.233\n",
            "[595] loss: 0.239\n",
            "[596] loss: 0.219\n",
            "[597] loss: 0.210\n",
            "[598] loss: 0.214\n",
            "[599] loss: 0.231\n",
            "[600] loss: 0.244\n",
            "[601] loss: 0.254\n",
            "[602] loss: 0.195\n",
            "[603] loss: 0.234\n",
            "[604] loss: 0.210\n",
            "[605] loss: 0.197\n",
            "[606] loss: 0.212\n",
            "[607] loss: 0.135\n",
            "[608] loss: 0.250\n",
            "[609] loss: 0.276\n",
            "[610] loss: 0.242\n",
            "[611] loss: 0.190\n",
            "[612] loss: 0.234\n",
            "[613] loss: 0.200\n",
            "[614] loss: 0.211\n",
            "[615] loss: 0.198\n",
            "[616] loss: 0.207\n",
            "[617] loss: 0.178\n",
            "[618] loss: 0.239\n",
            "[619] loss: 0.224\n",
            "[620] loss: 0.176\n",
            "[621] loss: 0.246\n",
            "[622] loss: 0.220\n",
            "[623] loss: 0.232\n",
            "[624] loss: 0.220\n",
            "[625] loss: 0.169\n",
            "[626] loss: 0.161\n",
            "[627] loss: 0.205\n",
            "[628] loss: 0.168\n",
            "[629] loss: 0.219\n",
            "[630] loss: 0.217\n",
            "[631] loss: 0.178\n",
            "[632] loss: 0.223\n",
            "[633] loss: 0.166\n",
            "[634] loss: 0.222\n",
            "[635] loss: 0.209\n",
            "[636] loss: 0.282\n",
            "[637] loss: 0.197\n",
            "[638] loss: 0.224\n",
            "[639] loss: 0.220\n",
            "[640] loss: 0.218\n",
            "[641] loss: 0.219\n",
            "[642] loss: 0.195\n",
            "[643] loss: 0.206\n",
            "[644] loss: 0.235\n",
            "[645] loss: 0.230\n",
            "[646] loss: 0.204\n",
            "[647] loss: 0.185\n",
            "[648] loss: 0.168\n",
            "[649] loss: 0.192\n",
            "[650] loss: 0.208\n",
            "[651] loss: 0.206\n",
            "[652] loss: 0.158\n",
            "[653] loss: 0.184\n",
            "[654] loss: 0.151\n",
            "[655] loss: 0.165\n",
            "[656] loss: 0.189\n",
            "[657] loss: 0.236\n",
            "[658] loss: 0.183\n",
            "[659] loss: 0.216\n",
            "[660] loss: 0.226\n",
            "[661] loss: 0.186\n",
            "[662] loss: 0.193\n",
            "[663] loss: 0.175\n",
            "[664] loss: 0.210\n",
            "[665] loss: 0.149\n",
            "[666] loss: 0.226\n",
            "[667] loss: 0.185\n",
            "[668] loss: 0.172\n",
            "[669] loss: 0.269\n",
            "[670] loss: 0.197\n",
            "[671] loss: 0.202\n",
            "[672] loss: 0.207\n",
            "[673] loss: 0.181\n",
            "[674] loss: 0.155\n",
            "[675] loss: 0.193\n",
            "[676] loss: 0.159\n",
            "[677] loss: 0.227\n",
            "[678] loss: 0.184\n",
            "[679] loss: 0.207\n",
            "[680] loss: 0.195\n",
            "[681] loss: 0.241\n",
            "[682] loss: 0.201\n",
            "[683] loss: 0.149\n",
            "[684] loss: 0.178\n",
            "[685] loss: 0.187\n",
            "[686] loss: 0.251\n",
            "[687] loss: 0.256\n",
            "[688] loss: 0.203\n",
            "[689] loss: 0.192\n",
            "[690] loss: 0.196\n",
            "[691] loss: 0.194\n",
            "[692] loss: 0.205\n",
            "[693] loss: 0.177\n",
            "[694] loss: 0.193\n",
            "[695] loss: 0.220\n",
            "[696] loss: 0.160\n",
            "[697] loss: 0.190\n",
            "[698] loss: 0.180\n",
            "[699] loss: 0.179\n",
            "[700] loss: 0.185\n",
            "[701] loss: 0.203\n",
            "[702] loss: 0.208\n",
            "[703] loss: 0.159\n",
            "[704] loss: 0.216\n",
            "[705] loss: 0.183\n",
            "[706] loss: 0.138\n",
            "[707] loss: 0.249\n",
            "[708] loss: 0.197\n",
            "[709] loss: 0.163\n",
            "[710] loss: 0.173\n",
            "[711] loss: 0.160\n",
            "[712] loss: 0.203\n",
            "[713] loss: 0.215\n",
            "[714] loss: 0.202\n",
            "[715] loss: 0.157\n",
            "[716] loss: 0.208\n",
            "[717] loss: 0.186\n",
            "[718] loss: 0.177\n",
            "[719] loss: 0.243\n",
            "[720] loss: 0.226\n",
            "[721] loss: 0.229\n",
            "[722] loss: 0.212\n",
            "[723] loss: 0.206\n",
            "[724] loss: 0.180\n",
            "[725] loss: 0.270\n",
            "[726] loss: 0.206\n",
            "[727] loss: 0.193\n",
            "[728] loss: 0.195\n",
            "[729] loss: 0.193\n",
            "[730] loss: 0.184\n",
            "[731] loss: 0.211\n",
            "[732] loss: 0.239\n",
            "[733] loss: 0.236\n",
            "[734] loss: 0.203\n",
            "[735] loss: 0.164\n",
            "[736] loss: 0.193\n",
            "[737] loss: 0.198\n",
            "[738] loss: 0.181\n",
            "[739] loss: 0.201\n",
            "[740] loss: 0.169\n",
            "[741] loss: 0.224\n",
            "[742] loss: 0.173\n",
            "[743] loss: 0.209\n",
            "[744] loss: 0.161\n",
            "[745] loss: 0.209\n",
            "[746] loss: 0.191\n",
            "[747] loss: 0.164\n",
            "[748] loss: 0.215\n",
            "[749] loss: 0.206\n",
            "[750] loss: 0.212\n",
            "[751] loss: 0.195\n",
            "[752] loss: 0.231\n",
            "[753] loss: 0.171\n",
            "[754] loss: 0.193\n",
            "[755] loss: 0.179\n",
            "[756] loss: 0.192\n",
            "[757] loss: 0.166\n",
            "[758] loss: 0.197\n",
            "[759] loss: 0.164\n",
            "[760] loss: 0.231\n",
            "[761] loss: 0.195\n",
            "[762] loss: 0.197\n",
            "[763] loss: 0.158\n",
            "[764] loss: 0.192\n",
            "[765] loss: 0.193\n",
            "[766] loss: 0.242\n",
            "[767] loss: 0.188\n",
            "[768] loss: 0.229\n",
            "[769] loss: 0.175\n",
            "[770] loss: 0.145\n",
            "[771] loss: 0.162\n",
            "[772] loss: 0.216\n",
            "[773] loss: 0.189\n",
            "[774] loss: 0.224\n",
            "[775] loss: 0.161\n",
            "[776] loss: 0.167\n",
            "[777] loss: 0.189\n",
            "[778] loss: 0.202\n",
            "[779] loss: 0.214\n",
            "[780] loss: 0.164\n",
            "[781] loss: 0.228\n",
            "[782] loss: 0.211\n",
            "[783] loss: 0.170\n",
            "[784] loss: 0.187\n",
            "[785] loss: 0.186\n",
            "[786] loss: 0.259\n",
            "[787] loss: 0.199\n",
            "[788] loss: 0.199\n",
            "[789] loss: 0.135\n",
            "[790] loss: 0.191\n",
            "[791] loss: 0.211\n",
            "[792] loss: 0.199\n",
            "[793] loss: 0.162\n",
            "[794] loss: 0.173\n",
            "[795] loss: 0.167\n",
            "[796] loss: 0.191\n",
            "[797] loss: 0.199\n",
            "[798] loss: 0.131\n",
            "[799] loss: 0.224\n",
            "[800] loss: 0.150\n",
            "[801] loss: 0.193\n",
            "[802] loss: 0.168\n",
            "[803] loss: 0.183\n",
            "[804] loss: 0.216\n",
            "[805] loss: 0.186\n",
            "[806] loss: 0.188\n",
            "[807] loss: 0.155\n",
            "[808] loss: 0.171\n",
            "[809] loss: 0.159\n",
            "[810] loss: 0.179\n",
            "[811] loss: 0.227\n",
            "[812] loss: 0.227\n",
            "[813] loss: 0.188\n",
            "[814] loss: 0.178\n",
            "[815] loss: 0.160\n",
            "[816] loss: 0.193\n",
            "[817] loss: 0.154\n",
            "[818] loss: 0.198\n",
            "[819] loss: 0.183\n",
            "[820] loss: 0.182\n",
            "[821] loss: 0.200\n",
            "[822] loss: 0.211\n",
            "[823] loss: 0.183\n",
            "[824] loss: 0.201\n",
            "[825] loss: 0.186\n",
            "[826] loss: 0.213\n",
            "[827] loss: 0.196\n",
            "[828] loss: 0.132\n",
            "[829] loss: 0.192\n",
            "[830] loss: 0.186\n",
            "[831] loss: 0.165\n",
            "[832] loss: 0.182\n",
            "[833] loss: 0.178\n",
            "[834] loss: 0.196\n",
            "[835] loss: 0.163\n",
            "[836] loss: 0.185\n",
            "[837] loss: 0.202\n",
            "[838] loss: 0.169\n",
            "[839] loss: 0.186\n",
            "[840] loss: 0.200\n",
            "[841] loss: 0.179\n",
            "[842] loss: 0.193\n",
            "[843] loss: 0.190\n",
            "[844] loss: 0.181\n",
            "[845] loss: 0.228\n",
            "[846] loss: 0.180\n",
            "[847] loss: 0.196\n",
            "[848] loss: 0.197\n",
            "[849] loss: 0.209\n",
            "[850] loss: 0.178\n",
            "[851] loss: 0.153\n",
            "[852] loss: 0.184\n",
            "[853] loss: 0.184\n",
            "[854] loss: 0.169\n",
            "[855] loss: 0.173\n",
            "[856] loss: 0.184\n",
            "[857] loss: 0.175\n",
            "[858] loss: 0.164\n",
            "[859] loss: 0.236\n",
            "[860] loss: 0.234\n",
            "[861] loss: 0.168\n",
            "[862] loss: 0.177\n",
            "[863] loss: 0.162\n",
            "[864] loss: 0.176\n",
            "[865] loss: 0.175\n",
            "[866] loss: 0.175\n",
            "[867] loss: 0.130\n",
            "[868] loss: 0.171\n",
            "[869] loss: 0.168\n",
            "[870] loss: 0.189\n",
            "[871] loss: 0.170\n",
            "[872] loss: 0.182\n",
            "[873] loss: 0.185\n",
            "[874] loss: 0.142\n",
            "[875] loss: 0.194\n",
            "[876] loss: 0.175\n",
            "[877] loss: 0.180\n",
            "[878] loss: 0.173\n",
            "[879] loss: 0.194\n",
            "[880] loss: 0.213\n",
            "[881] loss: 0.199\n",
            "[882] loss: 0.216\n",
            "[883] loss: 0.177\n",
            "[884] loss: 0.172\n",
            "[885] loss: 0.158\n",
            "[886] loss: 0.205\n",
            "[887] loss: 0.161\n",
            "[888] loss: 0.183\n",
            "[889] loss: 0.224\n",
            "[890] loss: 0.170\n",
            "[891] loss: 0.167\n",
            "[892] loss: 0.173\n",
            "[893] loss: 0.192\n",
            "[894] loss: 0.206\n",
            "[895] loss: 0.190\n",
            "[896] loss: 0.162\n",
            "[897] loss: 0.192\n",
            "[898] loss: 0.185\n",
            "[899] loss: 0.176\n",
            "[900] loss: 0.211\n",
            "[901] loss: 0.172\n",
            "[902] loss: 0.154\n",
            "[903] loss: 0.172\n",
            "[904] loss: 0.164\n",
            "[905] loss: 0.181\n",
            "[906] loss: 0.156\n",
            "[907] loss: 0.223\n",
            "[908] loss: 0.212\n",
            "[909] loss: 0.199\n",
            "[910] loss: 0.206\n",
            "[911] loss: 0.146\n",
            "[912] loss: 0.155\n",
            "[913] loss: 0.178\n",
            "[914] loss: 0.204\n",
            "[915] loss: 0.193\n",
            "[916] loss: 0.170\n",
            "[917] loss: 0.136\n",
            "[918] loss: 0.190\n",
            "[919] loss: 0.209\n",
            "[920] loss: 0.200\n",
            "[921] loss: 0.229\n",
            "[922] loss: 0.187\n",
            "[923] loss: 0.159\n",
            "[924] loss: 0.170\n",
            "[925] loss: 0.179\n",
            "[926] loss: 0.163\n",
            "[927] loss: 0.169\n",
            "[928] loss: 0.178\n",
            "[929] loss: 0.188\n",
            "[930] loss: 0.170\n",
            "[931] loss: 0.198\n",
            "[932] loss: 0.188\n",
            "[933] loss: 0.159\n",
            "[934] loss: 0.123\n",
            "[935] loss: 0.192\n",
            "[936] loss: 0.171\n",
            "[937] loss: 0.179\n",
            "[938] loss: 0.150\n",
            "[939] loss: 0.133\n",
            "[940] loss: 0.194\n",
            "[941] loss: 0.186\n",
            "[942] loss: 0.176\n",
            "[943] loss: 0.198\n",
            "[944] loss: 0.179\n",
            "[945] loss: 0.174\n",
            "[946] loss: 0.203\n",
            "[947] loss: 0.161\n",
            "[948] loss: 0.160\n",
            "[949] loss: 0.163\n",
            "[950] loss: 0.180\n",
            "[951] loss: 0.159\n",
            "[952] loss: 0.177\n",
            "[953] loss: 0.182\n",
            "[954] loss: 0.158\n",
            "[955] loss: 0.197\n",
            "[956] loss: 0.185\n",
            "[957] loss: 0.181\n",
            "[958] loss: 0.189\n",
            "[959] loss: 0.140\n",
            "[960] loss: 0.191\n",
            "[961] loss: 0.178\n",
            "[962] loss: 0.208\n",
            "[963] loss: 0.178\n",
            "[964] loss: 0.187\n",
            "[965] loss: 0.156\n",
            "[966] loss: 0.214\n",
            "[967] loss: 0.180\n",
            "[968] loss: 0.189\n",
            "[969] loss: 0.169\n",
            "[970] loss: 0.179\n",
            "[971] loss: 0.197\n",
            "[972] loss: 0.164\n",
            "[973] loss: 0.174\n",
            "[974] loss: 0.170\n",
            "[975] loss: 0.155\n",
            "[976] loss: 0.155\n",
            "[977] loss: 0.157\n",
            "[978] loss: 0.197\n",
            "[979] loss: 0.172\n",
            "[980] loss: 0.151\n",
            "[981] loss: 0.183\n",
            "[982] loss: 0.179\n",
            "[983] loss: 0.250\n",
            "[984] loss: 0.167\n",
            "[985] loss: 0.152\n",
            "[986] loss: 0.182\n",
            "[987] loss: 0.161\n",
            "[988] loss: 0.183\n",
            "[989] loss: 0.177\n",
            "[990] loss: 0.188\n",
            "[991] loss: 0.165\n",
            "[992] loss: 0.202\n",
            "[993] loss: 0.150\n",
            "[994] loss: 0.176\n",
            "[995] loss: 0.154\n",
            "[996] loss: 0.207\n",
            "[997] loss: 0.181\n",
            "[998] loss: 0.165\n",
            "[999] loss: 0.184\n",
            "[1000] loss: 0.180\n"
          ]
        }
      ]
    },
    {
      "cell_type": "markdown",
      "metadata": {
        "id": "1xs1ZhWcoyaz"
      },
      "source": [
        "Plot:"
      ]
    },
    {
      "cell_type": "code",
      "metadata": {
        "id": "m5sVcA63V3gI",
        "colab": {
          "base_uri": "https://localhost:8080/",
          "height": 430
        },
        "outputId": "c19704f5-5de9-4967-9ec9-6394d837fcd6"
      },
      "source": [
        "plt.plot(hh)\n",
        "plt.grid(True)\n",
        "plt.show()"
      ],
      "execution_count": 30,
      "outputs": [
        {
          "output_type": "display_data",
          "data": {
            "text/plain": [
              "<Figure size 640x480 with 1 Axes>"
            ],
            "image/png": "[encoded data removed]"
          },
          "metadata": {}
        }
      ]
    },
    {
      "cell_type": "markdown",
      "metadata": {
        "id": "HRA0N2J9p8jN"
      },
      "source": [
        "Let us classify the same image after training:"
      ]
    },
    {
      "cell_type": "code",
      "metadata": {
        "id": "1ps2jawvLWPP",
        "colab": {
          "base_uri": "https://localhost:8080/",
          "height": 499
        },
        "outputId": "d7705889-e634-4dad-be1f-07b498d2feb7"
      },
      "source": [
        "print(train_images[1].shape)\n",
        "print(\"target =\", train_labels[1])\n",
        "plt.imshow(train_images[1], cmap='gray')\n",
        "plt.show()\n",
        "\n",
        "# Image to tensor:\n",
        "input = torch.tensor(train_images[1], dtype=torch.float)\n",
        "\n",
        "# Predict:\n",
        "out = net(input)\n",
        "print(out)"
      ],
      "execution_count": 31,
      "outputs": [
        {
          "output_type": "stream",
          "name": "stdout",
          "text": [
            "(28, 28)\n",
            "target = 0\n"
          ]
        },
        {
          "output_type": "display_data",
          "data": {
            "text/plain": [
              "<Figure size 640x480 with 1 Axes>"
            ],
            "image/png": "[encoded data removed]"
          },
          "metadata": {}
        },
        {
          "output_type": "stream",
          "name": "stdout",
          "text": [
            "tensor([[  5.3381, -12.3085,  -2.7034,  -8.5577,  -7.7853, -12.4185,  -4.3150,\n",
            "          -2.6751,  -6.2294,  -2.2491]], grad_fn=<AddmmBackward0>)\n"
          ]
        }
      ]
    },
    {
      "cell_type": "markdown",
      "metadata": {
        "id": "duQUCaXOo_zD"
      },
      "source": [
        "Now the highest output is assigned to the correct target."
      ]
    },
    {
      "cell_type": "markdown",
      "metadata": {
        "id": "VZya0QZ6q1-k"
      },
      "source": [
        "Accuracy on training data:"
      ]
    },
    {
      "cell_type": "code",
      "metadata": {
        "id": "R1WcjW5_pCqx",
        "colab": {
          "base_uri": "https://localhost:8080/"
        },
        "outputId": "680a6fdb-203a-40b8-c1ef-332e1099a70c"
      },
      "source": [
        "input = torch.tensor(train_images, dtype=torch.float)\n",
        "out = net(input)\n",
        "_, predicted = torch.max(out, 1)\n",
        "(predicted.numpy() == train_labels).sum() / 60000"
      ],
      "execution_count": 32,
      "outputs": [
        {
          "output_type": "execute_result",
          "data": {
            "text/plain": [
              "0.9493"
            ]
          },
          "metadata": {},
          "execution_count": 32
        }
      ]
    },
    {
      "cell_type": "markdown",
      "metadata": {
        "id": "g9Ick4n0LiFM"
      },
      "source": [
        "Accuracy on test data:"
      ]
    },
    {
      "cell_type": "code",
      "metadata": {
        "id": "sQ_ChRoBrAVp",
        "colab": {
          "base_uri": "https://localhost:8080/"
        },
        "outputId": "3c6f5501-bc3d-4e3a-9012-6902ba02f9ec"
      },
      "source": [
        "input = torch.tensor(test_images, dtype=torch.float)\n",
        "out = net(input)\n",
        "_, predicted = torch.max(out, 1)\n",
        "(predicted.numpy() == test_labels).sum() / 10000"
      ],
      "execution_count": 33,
      "outputs": [
        {
          "output_type": "execute_result",
          "data": {
            "text/plain": [
              "0.9419"
            ]
          },
          "metadata": {},
          "execution_count": 33
        }
      ]
    },
    {
      "cell_type": "markdown",
      "metadata": {
        "id": "2s0RalLicamt"
      },
      "source": [
        "PyTorch offers some utilities to process batches of data:\n"
      ]
    },
    {
      "cell_type": "code",
      "metadata": {
        "id": "oYm-GgOpMegb"
      },
      "source": [
        "import torch\n",
        "import torchvision\n",
        "import torchvision.transforms as transforms\n",
        "from torch.utils.data import TensorDataset, DataLoader"
      ],
      "execution_count": 34,
      "outputs": []
    },
    {
      "cell_type": "markdown",
      "metadata": {
        "id": "VfOh-OtOdY9M"
      },
      "source": [
        "Let us build ``DataLoader``s for training and test data:"
      ]
    },
    {
      "cell_type": "code",
      "metadata": {
        "id": "Ruc-zjUsch3a"
      },
      "source": [
        "tensor_x = torch.tensor(train_images, dtype=torch.float)\n",
        "tensor_y = torch.tensor(train_labels, dtype=torch.long)\n",
        "train_dataset = TensorDataset(tensor_x, tensor_y)\n",
        "train_dataloader = DataLoader(train_dataset, batch_size=1000, shuffle=True)\n",
        "\n",
        "tensor_x = torch.tensor(test_images, dtype=torch.float)\n",
        "tensor_y = torch.tensor(test_labels, dtype=torch.long)\n",
        "test_dataset = TensorDataset(tensor_x,tensor_y)\n",
        "test_dataloader = DataLoader(test_dataset, batch_size=1000, shuffle=True)"
      ],
      "execution_count": 35,
      "outputs": []
    },
    {
      "cell_type": "markdown",
      "metadata": {
        "id": "9YmbmnGLptjM"
      },
      "source": [
        "New network:"
      ]
    },
    {
      "cell_type": "code",
      "metadata": {
        "id": "LXiHXKcSd3pG"
      },
      "source": [
        "net = Net()\n",
        "criterion = nn.CrossEntropyLoss()\n",
        "optimizer = optim.SGD(net.parameters(), lr=0.001, momentum=0.9)"
      ],
      "execution_count": 36,
      "outputs": []
    },
    {
      "cell_type": "markdown",
      "metadata": {
        "id": "u2CMHzKMd35s"
      },
      "source": [
        "Reimplement the training loop using epochs and batches:"
      ]
    },
    {
      "cell_type": "code",
      "metadata": {
        "id": "jR0cEnSWd3kf",
        "colab": {
          "base_uri": "https://localhost:8080/"
        },
        "outputId": "bd004486-e467-46c0-a2ed-fd70ae719a45"
      },
      "source": [
        "nepochs = 10\n",
        "hh = []\n",
        "for it in range(nepochs):\n",
        "  rloss = 0.0\n",
        "  for x, t in train_dataloader:\n",
        "    # Reset gradients to 0:\n",
        "    optimizer.zero_grad()\n",
        "\n",
        "    # Forward pass:\n",
        "    outputs = net(x)\n",
        "    loss = criterion(outputs, t)\n",
        "\n",
        "    # Backward pass:\n",
        "    loss.backward()\n",
        "\n",
        "    # Actualización de los pesos:\n",
        "    optimizer.step()\n",
        "\n",
        "    # Acumulo loss:\n",
        "    rloss += loss.item()\n",
        "\n",
        "  # Imprimir loss de la época:\n",
        "  print('[%d] loss: %.3f' % (it + 1, rloss))\n",
        "  hh.append(rloss)"
      ],
      "execution_count": 37,
      "outputs": [
        {
          "output_type": "stream",
          "name": "stdout",
          "text": [
            "[1] loss: 177.841\n",
            "[2] loss: 34.651\n",
            "[3] loss: 26.463\n",
            "[4] loss: 22.264\n",
            "[5] loss: 20.332\n",
            "[6] loss: 18.670\n",
            "[7] loss: 17.590\n",
            "[8] loss: 16.816\n",
            "[9] loss: 16.068\n",
            "[10] loss: 15.411\n"
          ]
        }
      ]
    },
    {
      "cell_type": "markdown",
      "metadata": {
        "id": "F96yqgS3gGZF"
      },
      "source": [
        "Accuracy on training and test data:"
      ]
    },
    {
      "cell_type": "code",
      "metadata": {
        "id": "8Z2KFUhBqD1C",
        "colab": {
          "base_uri": "https://localhost:8080/"
        },
        "outputId": "b5f217d7-5bf2-4211-ed54-24d829d9e070"
      },
      "source": [
        "input = torch.tensor(train_images, dtype=torch.float)\n",
        "out = net(input)\n",
        "_, predicted = torch.max(out, 1)\n",
        "(predicted.numpy() == train_labels).sum() / 60000"
      ],
      "execution_count": 38,
      "outputs": [
        {
          "output_type": "execute_result",
          "data": {
            "text/plain": [
              "0.9299333333333333"
            ]
          },
          "metadata": {},
          "execution_count": 38
        }
      ]
    },
    {
      "cell_type": "code",
      "metadata": {
        "id": "bN3Bc0qtd3hB",
        "colab": {
          "base_uri": "https://localhost:8080/"
        },
        "outputId": "48905b1c-0496-401a-c698-26d4403a64dc"
      },
      "source": [
        "input = torch.tensor(test_images, dtype=torch.float)\n",
        "out = net(input)\n",
        "_, predicted = torch.max(out, 1)\n",
        "(predicted.numpy() == test_labels).sum() / 10000"
      ],
      "execution_count": 39,
      "outputs": [
        {
          "output_type": "execute_result",
          "data": {
            "text/plain": [
              "0.9246"
            ]
          },
          "metadata": {},
          "execution_count": 39
        }
      ]
    },
    {
      "cell_type": "markdown",
      "metadata": {
        "id": "JNu0TkFdqM64"
      },
      "source": [
        "### <font color=\"#CA3532\">Exercise 3: Recurrent Neural Networks with pytorch</font>\n",
        "\n",
        "Complete the code of the classes ``RNN`` and ``LSTM`` in the file ``dlfbt_lab3.py``. Then run the following code to test your implementation.\n",
        "\n",
        "\n",
        "\n"
      ]
    },
    {
      "cell_type": "markdown",
      "source": [
        "Dataset creation:"
      ],
      "metadata": {
        "id": "auMN8aFggB59"
      }
    },
    {
      "cell_type": "code",
      "source": [
        "def create_data_set(n, seq_len, pattern):\n",
        "  x = np.random.randint(0, 2, (n, seq_len))\n",
        "\n",
        "  x_as_string = [''.join([chr(c+48) for c in a]) for a in x]\n",
        "  t = np.array([pattern in s for s in x_as_string])*1\n",
        "\n",
        "  return x, x_as_string, t"
      ],
      "metadata": {
        "id": "w-Ip8wefqD7B"
      },
      "execution_count": 40,
      "outputs": []
    },
    {
      "cell_type": "code",
      "source": [
        "n = 50000\n",
        "seq_len = 25\n",
        "pattern = '11011'\n",
        "\n",
        "x, x_as_string, t = create_data_set(n, seq_len, pattern)\n",
        "xval, xval_as_string, tval = create_data_set(n, seq_len, pattern)\n",
        "\n",
        "for s, c in zip(x_as_string[:20], t[:20]):\n",
        "  print(s, c)\n",
        "\n",
        "print('Class mean (training):', t.mean())\n",
        "print('Class mean (validation):', tval.mean())"
      ],
      "metadata": {
        "colab": {
          "base_uri": "https://localhost:8080/"
        },
        "id": "94zFFIGEqMe6",
        "outputId": "a540e408-fa96-4017-a2e7-ed3c67407bca"
      },
      "execution_count": 41,
      "outputs": [
        {
          "output_type": "stream",
          "name": "stdout",
          "text": [
            "0101010010010000100100010 0\n",
            "1000111100100100000000000 0\n",
            "1001110100101111000110001 0\n",
            "1100000000111001101100110 1\n",
            "1110001011100000001010101 0\n",
            "0011011100101111011110111 1\n",
            "0010110001010100101100011 0\n",
            "0000001111000010111011011 1\n",
            "1111000001011100001110010 0\n",
            "0010111101001011110101111 0\n",
            "1101000001010001010100110 0\n",
            "0111011100010011100101000 1\n",
            "1101001111011001000001001 1\n",
            "1101100101010110111001001 1\n",
            "0001110110001101001110011 1\n",
            "1010011111100000011011101 1\n",
            "0001010100110111000111111 1\n",
            "0100111111111011100110010 1\n",
            "1110110111111100010111101 1\n",
            "0111000001100011111110000 0\n",
            "Class mean (training): 0.46782\n",
            "Class mean (validation): 0.46948\n"
          ]
        }
      ]
    },
    {
      "cell_type": "code",
      "source": [
        "print(x.shape)\n",
        "print(t.shape)"
      ],
      "metadata": {
        "colab": {
          "base_uri": "https://localhost:8080/"
        },
        "id": "6ZC7TL-iqz1V",
        "outputId": "014be556-2d58-470b-987b-74df63482309"
      },
      "execution_count": 42,
      "outputs": [
        {
          "output_type": "stream",
          "name": "stdout",
          "text": [
            "(50000, 25)\n",
            "(50000,)\n"
          ]
        }
      ]
    },
    {
      "cell_type": "markdown",
      "source": [
        "Data loader for generating batches:"
      ],
      "metadata": {
        "id": "vQF_ga0ZpGiA"
      }
    },
    {
      "cell_type": "code",
      "source": [
        "batch_size = 32\n",
        "\n",
        "tensor_x = torch.tensor(x, dtype=torch.float)\n",
        "tensor_t = torch.tensor(t, dtype=torch.long)\n",
        "train_dataset = TensorDataset(tensor_x[:, :, None], tensor_t)\n",
        "train_dataloader = DataLoader(train_dataset, batch_size=batch_size, shuffle=True)"
      ],
      "metadata": {
        "id": "KtRNHI_yBKgG"
      },
      "execution_count": 43,
      "outputs": []
    },
    {
      "cell_type": "markdown",
      "source": [
        "Test for the RNN implementation:"
      ],
      "metadata": {
        "id": "pXVoAJUIpXDu"
      }
    },
    {
      "cell_type": "code",
      "source": [
        "from dlfbt_lab3 import RNN"
      ],
      "metadata": {
        "id": "u5r1hI9I_06z"
      },
      "execution_count": 44,
      "outputs": []
    },
    {
      "cell_type": "code",
      "source": [
        "class Network(nn.Module):\n",
        "    def __init__(self, input_size, hidden_size, output_size):\n",
        "        super(Network, self).__init__()\n",
        "\n",
        "        self.rnn = RNN(input_size, hidden_size)\n",
        "        self.h2o = nn.Linear(hidden_size, output_size)\n",
        "\n",
        "    def forward(self, input, hidden):\n",
        "        x = self.rnn(input, hidden)\n",
        "        output = self.h2o(x)\n",
        "\n",
        "        return output"
      ],
      "metadata": {
        "id": "ZhdUyI_1C7fd"
      },
      "execution_count": 45,
      "outputs": []
    },
    {
      "cell_type": "code",
      "source": [
        "hidden_size = 10\n",
        "net = Network(1, hidden_size, 2)"
      ],
      "metadata": {
        "id": "4ItjtGdOC7XE"
      },
      "execution_count": 46,
      "outputs": []
    },
    {
      "cell_type": "code",
      "source": [
        "criterion = nn.CrossEntropyLoss()\n",
        "optimizer = optim.Adam(net.parameters())"
      ],
      "metadata": {
        "id": "ukWXNQVoD3qT"
      },
      "execution_count": 47,
      "outputs": []
    },
    {
      "cell_type": "code",
      "source": [
        "nepochs = 10\n",
        "hh = []\n",
        "acc = []\n",
        "for it in range(nepochs):\n",
        "  rloss = 0.0\n",
        "  racc = 0.0\n",
        "  for xbatch, tbatch in train_dataloader:\n",
        "    # Reset gradients to 0:\n",
        "    optimizer.zero_grad()\n",
        "\n",
        "    # Forward pass:\n",
        "    outputs = net(xbatch, torch.zeros(xbatch.shape[0], hidden_size))\n",
        "    loss = criterion(outputs, tbatch)\n",
        "\n",
        "    # Backward pass:\n",
        "    loss.backward()\n",
        "\n",
        "    # Weights update:\n",
        "    optimizer.step()\n",
        "\n",
        "    # Loss:\n",
        "    rloss += loss.item()\n",
        "\n",
        "    # Accuracy:\n",
        "    preds = np.argmax(outputs.detach(), axis=1)\n",
        "    racc += (preds == tbatch).numpy().mean()\n",
        "\n",
        "  # Prints:\n",
        "  rloss /= len(train_dataloader)\n",
        "  racc /= len(train_dataloader)\n",
        "  print('[%d] loss = %.3f, acc = %.3f' % (it + 1, rloss, racc))\n",
        "  hh.append(rloss)\n",
        "  acc.append(racc)"
      ],
      "metadata": {
        "colab": {
          "base_uri": "https://localhost:8080/"
        },
        "id": "Pg-32CwbRh7B",
        "outputId": "1321355a-d863-47db-94ef-554433207881"
      },
      "execution_count": 48,
      "outputs": [
        {
          "output_type": "stream",
          "name": "stdout",
          "text": [
            "[1] loss = 0.610, acc = 0.656\n",
            "[2] loss = 0.522, acc = 0.737\n",
            "[3] loss = 0.182, acc = 0.937\n",
            "[4] loss = 0.170, acc = 0.952\n",
            "[5] loss = 0.030, acc = 0.996\n",
            "[6] loss = 0.310, acc = 0.913\n",
            "[7] loss = 0.092, acc = 0.981\n",
            "[8] loss = 0.104, acc = 0.981\n",
            "[9] loss = 0.020, acc = 1.000\n",
            "[10] loss = 0.010, acc = 1.000\n"
          ]
        }
      ]
    },
    {
      "cell_type": "code",
      "source": [
        "plt.figure(figsize=(10, 5))\n",
        "plt.subplot(1, 2, 1)\n",
        "plt.plot(hh)\n",
        "plt.grid(True)\n",
        "plt.subplot(1, 2, 2)\n",
        "plt.plot(acc)\n",
        "plt.grid(True)\n",
        "plt.show()"
      ],
      "metadata": {
        "colab": {
          "base_uri": "https://localhost:8080/",
          "height": 445
        },
        "id": "bwvPEr-hTDiR",
        "outputId": "0d7179ff-4c7c-48b4-ce0b-c47bd621b489"
      },
      "execution_count": 49,
      "outputs": [
        {
          "output_type": "display_data",
          "data": {
            "text/plain": [
              "<Figure size 1000x500 with 2 Axes>"
            ],
            "image/png": "[encoded data removed]"
          },
          "metadata": {}
        }
      ]
    },
    {
      "cell_type": "markdown",
      "source": [
        "Test for the LSTM implementation:"
      ],
      "metadata": {
        "id": "-gWtJHKbgSNr"
      }
    },
    {
      "cell_type": "code",
      "source": [
        "from dlfbt_lab3 import LSTM"
      ],
      "metadata": {
        "id": "CKr58raOVVCf"
      },
      "execution_count": 50,
      "outputs": []
    },
    {
      "cell_type": "code",
      "source": [
        "class Network(nn.Module):\n",
        "    def __init__(self, input_size, hidden_size, output_size):\n",
        "        super(Network, self).__init__()\n",
        "\n",
        "        self.lstm = LSTM(input_size, hidden_size)\n",
        "        self.h2o = nn.Linear(hidden_size, output_size)\n",
        "\n",
        "    def forward(self, input, hidden, cell):\n",
        "        x = self.lstm(input, hidden, cell)\n",
        "        output = self.h2o(x)\n",
        "\n",
        "        return output\n"
      ],
      "metadata": {
        "id": "e2kMK4WuBWOQ"
      },
      "execution_count": 51,
      "outputs": []
    },
    {
      "cell_type": "code",
      "source": [
        "hidden_size = 10\n",
        "net = Network(1, hidden_size, 2)"
      ],
      "metadata": {
        "id": "CYTig1lsBWKW"
      },
      "execution_count": 52,
      "outputs": []
    },
    {
      "cell_type": "code",
      "source": [
        "criterion = nn.CrossEntropyLoss()\n",
        "optimizer = optim.Adam(net.parameters())"
      ],
      "metadata": {
        "id": "fmNrC8U3jUTE"
      },
      "execution_count": 53,
      "outputs": []
    },
    {
      "cell_type": "code",
      "source": [
        "nepochs = 10\n",
        "hh = []\n",
        "acc = []\n",
        "for it in range(nepochs):\n",
        "  rloss = 0.0\n",
        "  racc = 0.0\n",
        "  for xbatch, tbatch in train_dataloader:\n",
        "    # Reset gradients to 0:\n",
        "    optimizer.zero_grad()\n",
        "\n",
        "    # Forward pass:\n",
        "    outputs = net(xbatch, torch.zeros(xbatch.shape[0], hidden_size), torch.zeros(xbatch.shape[0], hidden_size))\n",
        "    loss = criterion(outputs, tbatch)\n",
        "\n",
        "    # Backward pass:\n",
        "    loss.backward()\n",
        "\n",
        "    # Weights update:\n",
        "    optimizer.step()\n",
        "\n",
        "    # Loss:\n",
        "    rloss += loss.item()\n",
        "\n",
        "    # Accuracy:\n",
        "    preds = np.argmax(outputs.detach(), axis=1)\n",
        "    racc += (preds == tbatch).numpy().mean()\n",
        "\n",
        "  # Prints:\n",
        "  rloss /= len(train_dataloader)\n",
        "  racc /= len(train_dataloader)\n",
        "  print('[%d] loss = %.3f, acc = %.3f' % (it + 1, rloss, racc))\n",
        "  hh.append(rloss)\n",
        "  acc.append(racc)"
      ],
      "metadata": {
        "colab": {
          "base_uri": "https://localhost:8080/"
        },
        "id": "2Wh_gQBrq9G0",
        "outputId": "dbb5b1fe-8763-4864-f6c7-3f59ae953309"
      },
      "execution_count": 54,
      "outputs": [
        {
          "output_type": "stream",
          "name": "stdout",
          "text": [
            "[1] loss = 0.611, acc = 0.660\n",
            "[2] loss = 0.527, acc = 0.733\n",
            "[3] loss = 0.092, acc = 0.971\n",
            "[4] loss = 0.015, acc = 0.999\n",
            "[5] loss = 0.005, acc = 1.000\n",
            "[6] loss = 0.010, acc = 0.999\n",
            "[7] loss = 0.002, acc = 1.000\n",
            "[8] loss = 0.001, acc = 1.000\n",
            "[9] loss = 0.000, acc = 1.000\n",
            "[10] loss = 0.000, acc = 1.000\n"
          ]
        }
      ]
    },
    {
      "cell_type": "code",
      "source": [
        "plt.figure(figsize=(10, 5))\n",
        "plt.subplot(1, 2, 1)\n",
        "plt.plot(hh)\n",
        "plt.grid(True)\n",
        "plt.subplot(1, 2, 2)\n",
        "plt.plot(acc)\n",
        "plt.grid(True)\n",
        "plt.show()"
      ],
      "metadata": {
        "colab": {
          "base_uri": "https://localhost:8080/",
          "height": 445
        },
        "id": "bOkPoAEgjUOw",
        "outputId": "b423d7e4-948b-4662-d86c-0b5d223ae807"
      },
      "execution_count": 55,
      "outputs": [
        {
          "output_type": "display_data",
          "data": {
            "text/plain": [
              "<Figure size 1000x500 with 2 Axes>"
            ],
            "image/png": "[encoded data removed]"
          },
          "metadata": {}
        }
      ]
    },
    {
      "cell_type": "markdown",
      "source": [
        "### <font color=\"#CA3532\">Exercise 4: Language modeling</font>\n",
        "\n",
        "Apply your recurrent networks to a language modeling problem (predict the next character). **TO DO...**"
      ],
      "metadata": {
        "id": "7OV5n4apsEss"
      }
    }
  ]
}