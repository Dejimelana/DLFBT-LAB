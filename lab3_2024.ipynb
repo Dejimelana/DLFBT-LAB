{
  "nbformat": 4,
  "nbformat_minor": 0,
  "metadata": {
    "colab": {
      "provenance": [],
      "collapsed_sections": [
        "4DRvswhK6nnj"
      ]
    },
    "kernelspec": {
      "name": "python3",
      "display_name": "Python 3"
    }
  },
  "cells": [
    {
      "cell_type": "markdown",
      "metadata": {
        "id": "ZUWm0aQb9BC8"
      },
      "source": [
        "---\n",
        "# <font color=\"#CA3532\">Deep Learning Fundamentals and Basic Tools (2024/2025) - Lab Assignment 3</font>\n",
        "---\n",
        "\n",
        "Last updated on 2024-10-18\n",
        "\n",
        "Please report any bugs to luis.lago@uam.es\n",
        "\n",
        "\n",
        "\n",
        "---"
      ]
    },
    {
      "cell_type": "markdown",
      "source": [
        "This third lab includes the following tasks:\n",
        "\n",
        "- The implementation of simple models using [PyTorch](https://pytorch.org/).\n",
        "\n",
        "- The implementation of recurrent neural networks using [PyTorch](https://pytorch.org/), and their application to a language modeling problem."
      ],
      "metadata": {
        "id": "EBpMcVbBTcd-"
      }
    },
    {
      "cell_type": "markdown",
      "metadata": {
        "id": "areLUgwp4ZhC"
      },
      "source": [
        "### <font color=\"#CA3532\">Clone the lab's github repo</font>\n",
        "\n",
        "The easiest way of having all the lab material available from *Colab* is to clone our github repository:"
      ]
    },
    {
      "cell_type": "code",
      "metadata": {
        "id": "WUhhu4QTzbDn",
        "colab": {
          "base_uri": "https://localhost:8080/"
        },
        "outputId": "134a2fdf-3816-4d54-ead8-5d314db9f709"
      },
      "source": [
        "!git clone https://github.com/luisferuam/DLFBT-LAB"
      ],
      "execution_count": null,
      "outputs": [
        {
          "output_type": "stream",
          "name": "stdout",
          "text": [
            "Cloning into 'DLFBT-LAB'...\n",
            "remote: Enumerating objects: 166, done.\u001b[K\n",
            "remote: Counting objects: 100% (38/38), done.\u001b[K\n",
            "remote: Compressing objects: 100% (29/29), done.\u001b[K\n",
            "remote: Total 166 (delta 19), reused 24 (delta 7), pack-reused 128 (from 1)\u001b[K\n",
            "Receiving objects: 100% (166/166), 7.72 MiB | 10.63 MiB/s, done.\n",
            "Resolving deltas: 100% (84/84), done.\n"
          ]
        }
      ]
    },
    {
      "cell_type": "markdown",
      "source": [
        "### <font color=\"#CA3532\">Instructions</font>\n",
        "\n",
        "- The assignment must be done in pairs.\n",
        "\n",
        "- All the exercises are described in this notebook. You must code your solutions in the file ``dlfbt_lab3.py`` provided as part of the material. Just complete the sections in the code marked with ``TO-DO`` comments.\n",
        "\n",
        "- The results for exercises 3 and 4 must be included at the end of this notebook.\n",
        "\n",
        "- Create a zip file containing both the ``dlfbt_lab3.py`` and this notebook and upload it to the [course Moodle page](https://posgrado.uam.es/course/view.php?id=62684) before the due date.\n",
        "\n",
        "- **Due date:** Friday, 2024-10-25, 23:59."
      ],
      "metadata": {
        "id": "kd1GM-6uTBTE"
      }
    },
    {
      "cell_type": "markdown",
      "metadata": {
        "id": "0zPXQteNbA9N"
      },
      "source": [
        "### <font color=\"#CA3532\">Import the libraries</font>\n",
        "\n",
        "The following code cells import the required libraries."
      ]
    },
    {
      "cell_type": "code",
      "metadata": {
        "id": "5qoR3iD7bLKF"
      },
      "source": [
        "import numpy as np\n",
        "import matplotlib.pyplot as plt\n",
        "from mpl_toolkits import mplot3d\n",
        "import pickle\n",
        "\n",
        "from time import time\n",
        "import shutil"
      ],
      "execution_count": null,
      "outputs": []
    },
    {
      "cell_type": "code",
      "metadata": {
        "id": "f1qAknm_nF70"
      },
      "source": [
        "import tensorflow as tf\n",
        "from tensorflow import keras"
      ],
      "execution_count": null,
      "outputs": []
    },
    {
      "cell_type": "code",
      "metadata": {
        "id": "TZBohNN5nH7f"
      },
      "source": [
        "import torch"
      ],
      "execution_count": null,
      "outputs": []
    },
    {
      "cell_type": "code",
      "metadata": {
        "id": "QQ3mdiCYu8HZ"
      },
      "source": [
        "import sys\n",
        "sys.path.append('DLFBT-LAB')\n",
        "import dlfbt"
      ],
      "execution_count": null,
      "outputs": []
    },
    {
      "cell_type": "markdown",
      "metadata": {
        "id": "4DRvswhK6nnj"
      },
      "source": [
        "### <font color=\"#CA3532\">Introduction to PyTorch</font>\n",
        "\n",
        "[PyTorch](https://pytorch.org/) is an open source machine learning framework that can be a good alternative to [TensorFlow](https://www.tensorflow.org/). It is usually the preferred option amongst the academic comunity because it offers more flexibility and hence it is easier to build custom models. However it lacks a high level layer like [Keras](https://keras.io/), so development could be a bit harder.\n",
        "\n",
        "In this first part of the lab you will be introduced to the PyTorch framework.\n",
        "\n",
        "Follow the introductory tutorial in the [PyTorch 60-Minute Blitz](https://pytorch.org/tutorials/beginner/deep_learning_60min_blitz.html) and then solve the exercises.\n"
      ]
    },
    {
      "cell_type": "markdown",
      "metadata": {
        "id": "EVGPz5tsD1iJ"
      },
      "source": [
        "### <font color=\"#CA3532\">Automatic differentiation with PyTorch</font>"
      ]
    },
    {
      "cell_type": "markdown",
      "metadata": {
        "id": "iQeDujFAEPGn"
      },
      "source": [
        "As you have seen in the tutorial, the flag ``requires_grad=True`` is used when creating a tensor to indicate that we will compute gradients with respect to it:"
      ]
    },
    {
      "cell_type": "code",
      "metadata": {
        "id": "C86e-JdkCjgg",
        "colab": {
          "base_uri": "https://localhost:8080/"
        },
        "outputId": "401a5ed9-6047-47d3-ed4c-8b8dacec5742"
      },
      "source": [
        "x = torch.ones(2, 2, requires_grad=True)\n",
        "print(x)"
      ],
      "execution_count": null,
      "outputs": [
        {
          "output_type": "stream",
          "name": "stdout",
          "text": [
            "tensor([[1., 1.],\n",
            "        [1., 1.]], requires_grad=True)\n"
          ]
        }
      ]
    },
    {
      "cell_type": "markdown",
      "metadata": {
        "id": "Nxt6-qn_E2cE"
      },
      "source": [
        "Now, whenever we perform an operation with this tensor, the new tensor that results from this operation includes a function to compute the gradient (``grad_fn``):"
      ]
    },
    {
      "cell_type": "code",
      "metadata": {
        "id": "BjQo0ZcnD_vY",
        "colab": {
          "base_uri": "https://localhost:8080/"
        },
        "outputId": "14bb5c5e-4d08-4b63-eaec-c70e7f3194ea"
      },
      "source": [
        "y = x + 2\n",
        "print(y)"
      ],
      "execution_count": null,
      "outputs": [
        {
          "output_type": "stream",
          "name": "stdout",
          "text": [
            "tensor([[3., 3.],\n",
            "        [3., 3.]], grad_fn=<AddBackward0>)\n"
          ]
        }
      ]
    },
    {
      "cell_type": "markdown",
      "metadata": {
        "id": "MwVdJhpcTg5h"
      },
      "source": [
        "Another example follows:"
      ]
    },
    {
      "cell_type": "code",
      "metadata": {
        "id": "jLu0aHfdD_sM",
        "colab": {
          "base_uri": "https://localhost:8080/"
        },
        "outputId": "8b6c39ef-4e3c-43ee-c741-ace62f67c018"
      },
      "source": [
        "z = y * y * 3\n",
        "out = z.mean()\n",
        "\n",
        "print(z)\n",
        "print(out)"
      ],
      "execution_count": null,
      "outputs": [
        {
          "output_type": "stream",
          "name": "stdout",
          "text": [
            "tensor([[27., 27.],\n",
            "        [27., 27.]], grad_fn=<MulBackward0>)\n",
            "tensor(27., grad_fn=<MeanBackward0>)\n"
          ]
        }
      ]
    },
    {
      "cell_type": "markdown",
      "metadata": {
        "id": "-gtLvuM8FHNW"
      },
      "source": [
        "To compute the gradients we must run the *backward pass* on the output tensor:"
      ]
    },
    {
      "cell_type": "code",
      "metadata": {
        "id": "1PxF2JSmD_pC"
      },
      "source": [
        "out.backward()"
      ],
      "execution_count": null,
      "outputs": []
    },
    {
      "cell_type": "markdown",
      "metadata": {
        "id": "cBTIfPryFM7E"
      },
      "source": [
        "And then we can access the gradient using the ``grad`` field:"
      ]
    },
    {
      "cell_type": "code",
      "metadata": {
        "id": "WlGVD58CD_lQ",
        "colab": {
          "base_uri": "https://localhost:8080/"
        },
        "outputId": "5a200317-7836-46f7-d8fe-f0519de50516"
      },
      "source": [
        "print(x.grad)"
      ],
      "execution_count": null,
      "outputs": [
        {
          "output_type": "stream",
          "name": "stdout",
          "text": [
            "tensor([[4.5000, 4.5000],\n",
            "        [4.5000, 4.5000]])\n"
          ]
        }
      ]
    },
    {
      "cell_type": "markdown",
      "metadata": {
        "id": "cyJxs-ZKFxEL"
      },
      "source": [
        "A simpler example, with scalar variables $x$ and $y$, follows:\n",
        "\n",
        "$$\n",
        "z = 2x^{2}y\n",
        "$$"
      ]
    },
    {
      "cell_type": "code",
      "metadata": {
        "id": "k4inFyscD_gv",
        "colab": {
          "base_uri": "https://localhost:8080/"
        },
        "outputId": "e6fca5c7-68e6-4bb5-dad5-9b49a5b1819f"
      },
      "source": [
        "x = torch.tensor(2., requires_grad=True)\n",
        "print(x)\n",
        "y = torch.tensor(3., requires_grad=True)\n",
        "print(y)\n",
        "z = 2*x*x*y\n",
        "print(z)"
      ],
      "execution_count": null,
      "outputs": [
        {
          "output_type": "stream",
          "name": "stdout",
          "text": [
            "tensor(2., requires_grad=True)\n",
            "tensor(3., requires_grad=True)\n",
            "tensor(24., grad_fn=<MulBackward0>)\n"
          ]
        }
      ]
    },
    {
      "cell_type": "markdown",
      "metadata": {
        "id": "Ueq663yyGSmW"
      },
      "source": [
        "Backward pass:"
      ]
    },
    {
      "cell_type": "code",
      "metadata": {
        "id": "qc6Ac7htGRHF"
      },
      "source": [
        "z.backward()"
      ],
      "execution_count": null,
      "outputs": []
    },
    {
      "cell_type": "markdown",
      "metadata": {
        "id": "EPf4FYqiGa2u"
      },
      "source": [
        "Gradients:\n",
        "\n",
        "$$\n",
        "\\frac{dz}{dx} = 4xy\n",
        "$$\n",
        "\n",
        "$$\n",
        "\\frac{dz}{dy} = 2x^{2}\n",
        "$$\n"
      ]
    },
    {
      "cell_type": "code",
      "metadata": {
        "id": "34BW29GdGREy",
        "colab": {
          "base_uri": "https://localhost:8080/"
        },
        "outputId": "ffa13b56-9ff5-4e62-9933-00f19bc5fe52"
      },
      "source": [
        "print(x.grad)\n",
        "print(y.grad)"
      ],
      "execution_count": null,
      "outputs": [
        {
          "output_type": "stream",
          "name": "stdout",
          "text": [
            "tensor(24.)\n",
            "tensor(8.)\n"
          ]
        }
      ]
    },
    {
      "cell_type": "markdown",
      "metadata": {
        "id": "kJsqBAU2G0yn"
      },
      "source": [
        "### <font color=\"#CA3532\">Exercise 1: Gradient descent to find the minimum of a function</font>\n",
        "\n",
        "In the file ``dlfbt_lab3.py``, complete the code of the function ``gradient_descent_pytorch(f, x0, learning_rate, niters)`` that finds a minimum of a function using gradient descent. The function receives the following arguments:\n",
        "\n",
        "- ``f``: the function to minimize\n",
        "- ``x0``: the initial value\n",
        "- ``learning_rate``: the learning rate\n",
        "- ``niters``: the number of iterations\n",
        "\n",
        "The function returns a Numpy array with all the values of $x$.\n",
        "\n",
        "You can run the following code to test your implementation.\n"
      ]
    },
    {
      "cell_type": "code",
      "source": [
        "from dlfbt_lab3 import gradient_descent_pytorch"
      ],
      "metadata": {
        "id": "AMCB_kfDYDYD"
      },
      "execution_count": null,
      "outputs": []
    },
    {
      "cell_type": "markdown",
      "source": [
        "Find the mimimum of the function $f(x) = (x-4)^{2}$:"
      ],
      "metadata": {
        "id": "vZtRdHguYMRa"
      }
    },
    {
      "cell_type": "code",
      "metadata": {
        "id": "vpRBIS0KArNl",
        "colab": {
          "base_uri": "https://localhost:8080/",
          "height": 449
        },
        "outputId": "9518b828-69b9-46d2-f8c1-da154070ee60"
      },
      "source": [
        "f = lambda x : (x - 4)**2\n",
        "x_history = gradient_descent_pytorch(f, 0.0, 1.e-2, 500)\n",
        "\n",
        "# Plot x versus iteration:\n",
        "plt.plot(x_history)\n",
        "plt.plot([0, 500], [4, 4])\n",
        "plt.grid(True)\n",
        "plt.legend(('Predicted', 'True'))\n",
        "plt.xlabel('Iteration')\n",
        "plt.ylabel('x value')\n",
        "plt.show()"
      ],
      "execution_count": null,
      "outputs": [
        {
          "output_type": "display_data",
          "data": {
            "text/plain": [
              "<Figure size 640x480 with 1 Axes>"
            ],
            "image/png": "[encoded data removed]"
          },
          "metadata": {}
        }
      ]
    },
    {
      "cell_type": "markdown",
      "source": [
        "Find a local mimimum of the function $f(x) = \\cos x$:"
      ],
      "metadata": {
        "id": "G6B42vVgZHJ4"
      }
    },
    {
      "cell_type": "code",
      "source": [
        "f = lambda x : torch.cos(x)\n",
        "x_history = gradient_descent_pytorch(f, 1.0, 1.e-2, 1000)\n",
        "\n",
        "# Plot x versus iteration:\n",
        "plt.plot(x_history)\n",
        "plt.plot([0, 1000], [np.pi, np.pi])\n",
        "plt.grid(True)\n",
        "plt.legend(('Predicted', 'True'))\n",
        "plt.xlabel('Iteration')\n",
        "plt.ylabel('x value')\n",
        "plt.show()"
      ],
      "metadata": {
        "colab": {
          "base_uri": "https://localhost:8080/",
          "height": 449
        },
        "id": "BbvUimCwZJCB",
        "outputId": "35495011-94ca-4dcc-a614-2ef61f972c02"
      },
      "execution_count": null,
      "outputs": [
        {
          "output_type": "display_data",
          "data": {
            "text/plain": [
              "<Figure size 640x480 with 1 Axes>"
            ],
            "image/png": "[encoded data removed]"
          },
          "metadata": {}
        }
      ]
    },
    {
      "cell_type": "markdown",
      "metadata": {
        "id": "P9aQ48l0WioT"
      },
      "source": [
        "### <font color=\"#CA3532\">Exercise 2: Linear regression using pytorch</font>\n",
        "\n",
        "Re-implement the ``LinearRegressionModel`` class of lab 1 using PyTorch.\n",
        "\n",
        "Complete the code of the class ``LinearRegressionModel_pytorch`` by filling all the ``TO-DO`` blocks, so that it implements a Linear Regression model."
      ]
    },
    {
      "cell_type": "code",
      "source": [
        "from dlfbt_lab3 import LinearRegressionModel_pytorch"
      ],
      "metadata": {
        "id": "oLiiqCN-bQdD"
      },
      "execution_count": null,
      "outputs": []
    },
    {
      "cell_type": "markdown",
      "source": [
        "Run the following tests to check your implementation."
      ],
      "metadata": {
        "id": "Lb5YftM9bXCo"
      }
    },
    {
      "cell_type": "markdown",
      "metadata": {
        "id": "fzfaTfEdf7U4"
      },
      "source": [
        "Test the ``predict`` method:"
      ]
    },
    {
      "cell_type": "code",
      "metadata": {
        "id": "aqUn7HA4L0Oc"
      },
      "source": [
        "dg = dlfbt.DataGeneratorLinear(a=[-5.0, 2.0, -3.0, 2.0])\n",
        "dg.create_dataset(noise=0.0, n=500)\n",
        "\n",
        "linrm = LinearRegressionModel_pytorch()\n",
        "linrm.w = torch.tensor(dg.a, requires_grad=True)\n",
        "linrm.b = torch.tensor(dg.b, requires_grad=True)\n",
        "\n",
        "y = linrm.predict(dg.x).detach()\n",
        "\n",
        "tol = 1.e-8\n",
        "assert y.shape == (500, 1)\n",
        "assert np.abs(y - dg.t).max() < tol\n",
        "assert linrm.get_loss(dg.x, dg.t) < tol"
      ],
      "execution_count": null,
      "outputs": []
    },
    {
      "cell_type": "markdown",
      "metadata": {
        "id": "FG5ACvPWf6tF"
      },
      "source": [
        "Test the ``compute_gradients`` method:"
      ]
    },
    {
      "cell_type": "code",
      "metadata": {
        "id": "81n7fG_WdgXS"
      },
      "source": [
        "dg = dlfbt.DataGeneratorLinear(a=[-5.0, 2.0, -3.0, 2.0])\n",
        "dg.create_dataset(n=50000, seed=17)\n",
        "\n",
        "linrm = LinearRegressionModel_pytorch()\n",
        "linrm.w = torch.tensor(dg.a, requires_grad=True)\n",
        "linrm.b = torch.tensor(dg.b, requires_grad=True)\n",
        "\n",
        "db, dw = linrm.compute_gradients(dg.x, dg.t)\n",
        "\n",
        "tol = 1.e-8\n",
        "assert db.shape == (1, 1)\n",
        "assert np.abs(db[0][0] + 0.00704326) < tol\n",
        "assert dw.shape == (4, 1)\n",
        "assert np.abs(dw[0][0] + 0.05353578) < tol\n",
        "assert np.abs(dw[1][0] + 0.03276935) < tol\n",
        "assert np.abs(dw[2][0] + 0.00337341) < tol\n",
        "assert np.abs(dw[3][0] + 0.03293776) < tol"
      ],
      "execution_count": null,
      "outputs": []
    },
    {
      "cell_type": "markdown",
      "metadata": {
        "id": "m5y0C9ykgNJh"
      },
      "source": [
        "Test the ``fit`` method:"
      ]
    },
    {
      "cell_type": "code",
      "metadata": {
        "id": "xzlNX_todf91"
      },
      "source": [
        "dg = dlfbt.DataGeneratorLinear(a=[2.0, 2.0])\n",
        "dg.create_dataset(n=500, seed=17)\n",
        "\n",
        "linrm = LinearRegressionModel_pytorch(2)\n",
        "linrm.w = torch.tensor([[-2.0], [-2.0]], dtype=torch.float64, requires_grad=True)\n",
        "linrm.b = torch.tensor([[-3.0]], dtype=torch.float64, requires_grad=True)\n",
        "\n",
        "loss = linrm.fit(dg.x, dg.t, 0.01, 100)\n",
        "\n",
        "tol = 1.e-8\n",
        "assert np.abs(loss[-1] - 2.660068435196912) < tol"
      ],
      "execution_count": null,
      "outputs": []
    },
    {
      "cell_type": "markdown",
      "metadata": {
        "id": "ypJWy5aymaIx"
      },
      "source": [
        "Plot loss vs iteration:"
      ]
    },
    {
      "cell_type": "code",
      "metadata": {
        "id": "EJsZhQGmh1Du",
        "colab": {
          "base_uri": "https://localhost:8080/",
          "height": 542
        },
        "outputId": "9d0a4108-e3a6-498c-b432-3f9d24efb3c7"
      },
      "source": [
        "plt.figure(figsize=(6, 6))\n",
        "plt.plot(loss)\n",
        "plt.xlabel('iteration')\n",
        "plt.ylabel('loss')\n",
        "plt.grid(True)\n",
        "plt.show()"
      ],
      "execution_count": null,
      "outputs": [
        {
          "output_type": "display_data",
          "data": {
            "text/plain": [
              "<Figure size 600x600 with 1 Axes>"
            ],
            "image/png": "[encoded data removed]"
          },
          "metadata": {}
        }
      ]
    },
    {
      "cell_type": "markdown",
      "metadata": {
        "id": "beFccWoLQFA-"
      },
      "source": [
        "### <font color=\"#CA3532\">Neural networks in pytorch</font>\n"
      ]
    },
    {
      "cell_type": "markdown",
      "metadata": {
        "id": "DrIWsP8SHcB7"
      },
      "source": [
        "\n",
        "We will build a simple feedforward neural network to classify the digits in the [MNIST](http://yann.lecun.com/exdb/mnist/) dataset. The next cell loads the data:"
      ]
    },
    {
      "cell_type": "code",
      "metadata": {
        "id": "0HhfMBJVQXtC",
        "colab": {
          "base_uri": "https://localhost:8080/"
        },
        "outputId": "df610c0c-5dd7-4423-bf62-2cd4e8fff691"
      },
      "source": [
        "(train_images, train_labels), (test_images, test_labels) = tf.keras.datasets.mnist.load_data()\n",
        "\n",
        "print(train_images.shape)\n",
        "print(train_labels.shape)\n",
        "print(train_labels)\n",
        "\n",
        "print(test_images.shape)\n",
        "print(test_labels.shape)\n",
        "print(test_labels)"
      ],
      "execution_count": null,
      "outputs": [
        {
          "output_type": "stream",
          "name": "stdout",
          "text": [
            "Downloading data from https://storage.googleapis.com/tensorflow/tf-keras-datasets/mnist.npz\n",
            "\u001b[1m11490434/11490434\u001b[0m \u001b[32m━━━━━━━━━━━━━━━━━━━━\u001b[0m\u001b[37m\u001b[0m \u001b[1m0s\u001b[0m 0us/step\n",
            "(60000, 28, 28)\n",
            "(60000,)\n",
            "[5 0 4 ... 5 6 8]\n",
            "(10000, 28, 28)\n",
            "(10000,)\n",
            "[7 2 1 ... 4 5 6]\n"
          ]
        }
      ]
    },
    {
      "cell_type": "code",
      "metadata": {
        "id": "JnuRp4E0Qaoh"
      },
      "source": [
        "import torch\n",
        "import torch.nn as nn\n",
        "import torch.nn.functional as F\n",
        "import torch.optim as optim"
      ],
      "execution_count": null,
      "outputs": []
    },
    {
      "cell_type": "markdown",
      "metadata": {
        "id": "XNLT7ehDRV6F"
      },
      "source": [
        "Definition of a class that implements the neural network (only the forward pass):"
      ]
    },
    {
      "cell_type": "code",
      "metadata": {
        "id": "k-l_aNmbQhq4"
      },
      "source": [
        "class Net(nn.Module):\n",
        "    def __init__(self):\n",
        "        super(Net, self).__init__()\n",
        "        self.fc1 = nn.Linear(28*28, 64)\n",
        "        self.fc2 = nn.Linear(64, 10)\n",
        "\n",
        "    def forward(self, x):\n",
        "        x = x.view(-1, 28*28)\n",
        "        x = F.relu(self.fc1(x))\n",
        "        x = self.fc2(x) # Note that we are not explicitly applying a softmax function\n",
        "        return x"
      ],
      "execution_count": null,
      "outputs": []
    },
    {
      "cell_type": "markdown",
      "metadata": {
        "id": "6SaWvoqHH0l9"
      },
      "source": [
        "NN instantiation:"
      ]
    },
    {
      "cell_type": "code",
      "metadata": {
        "id": "kGO3VYqWHuir",
        "colab": {
          "base_uri": "https://localhost:8080/"
        },
        "outputId": "232c8e47-8ffb-4fe4-b654-75b0d470136c"
      },
      "source": [
        "net = Net()\n",
        "print(net)"
      ],
      "execution_count": null,
      "outputs": [
        {
          "output_type": "stream",
          "name": "stdout",
          "text": [
            "Net(\n",
            "  (fc1): Linear(in_features=784, out_features=64, bias=True)\n",
            "  (fc2): Linear(in_features=64, out_features=10, bias=True)\n",
            ")\n"
          ]
        }
      ]
    },
    {
      "cell_type": "markdown",
      "metadata": {
        "id": "yYDsFV2oIdLl"
      },
      "source": [
        "Network parameters:"
      ]
    },
    {
      "cell_type": "code",
      "metadata": {
        "id": "6p4XzR8WUiI9",
        "colab": {
          "base_uri": "https://localhost:8080/"
        },
        "outputId": "ec39b205-ffe8-4338-d316-3129988d34a2"
      },
      "source": [
        "params = list(net.parameters())\n",
        "print(len(params))\n",
        "\n",
        "for p in params:\n",
        "  print(p.size())"
      ],
      "execution_count": null,
      "outputs": [
        {
          "output_type": "stream",
          "name": "stdout",
          "text": [
            "4\n",
            "torch.Size([64, 784])\n",
            "torch.Size([64])\n",
            "torch.Size([10, 64])\n",
            "torch.Size([10])\n"
          ]
        }
      ]
    },
    {
      "cell_type": "markdown",
      "metadata": {
        "id": "6vpsL9yRRZE3"
      },
      "source": [
        "Let us apply this network to a sample image:"
      ]
    },
    {
      "cell_type": "code",
      "metadata": {
        "id": "Y6SaZSOuQob_",
        "colab": {
          "base_uri": "https://localhost:8080/",
          "height": 499
        },
        "outputId": "109fba77-baf8-4be1-9704-e0ef2c55577e"
      },
      "source": [
        "print(train_images[1].shape)\n",
        "print(\"target =\", train_labels[1])\n",
        "plt.imshow(train_images[1], cmap='gray')\n",
        "plt.show()\n",
        "\n",
        "# Image to tensor:\n",
        "input = torch.tensor(train_images[1], dtype=torch.float)\n",
        "\n",
        "# Predict:\n",
        "out = net(input)\n",
        "print(out)"
      ],
      "execution_count": null,
      "outputs": [
        {
          "output_type": "stream",
          "name": "stdout",
          "text": [
            "(28, 28)\n",
            "target = 0\n"
          ]
        },
        {
          "output_type": "display_data",
          "data": {
            "text/plain": [
              "<Figure size 640x480 with 1 Axes>"
            ],
            "image/png": "[encoded data removed]"
          },
          "metadata": {}
        },
        {
          "output_type": "stream",
          "name": "stdout",
          "text": [
            "tensor([[ -6.1568,   9.8986,  29.4698, -17.9469,   3.1599,  -3.5657,  -4.7700,\n",
            "         -13.6695,  24.1064, -19.8155]], grad_fn=<AddmmBackward0>)\n"
          ]
        }
      ]
    },
    {
      "cell_type": "markdown",
      "metadata": {
        "id": "VWgQ-rBbUR7-"
      },
      "source": [
        "Define the optimizer:"
      ]
    },
    {
      "cell_type": "code",
      "metadata": {
        "id": "rQrG3GEfRkQf"
      },
      "source": [
        "criterion = nn.CrossEntropyLoss()\n",
        "optimizer = optim.SGD(net.parameters(), lr=0.001, momentum=0.9)"
      ],
      "execution_count": null,
      "outputs": []
    },
    {
      "cell_type": "markdown",
      "metadata": {
        "id": "pPQCb3W0Jmp4"
      },
      "source": [
        "Network training:"
      ]
    },
    {
      "cell_type": "code",
      "metadata": {
        "id": "hYSNntVeTHYW",
        "colab": {
          "base_uri": "https://localhost:8080/"
        },
        "outputId": "09509f55-6d95-4cfc-d5f4-47a0aa4cde9b"
      },
      "source": [
        "niters = 1000\n",
        "hh = []\n",
        "for it in range(niters):\n",
        "    # Generate random mini-batch:\n",
        "    ix = np.random.permutation(60000)[:1000]\n",
        "    x = torch.tensor(train_images[ix], dtype=torch.float)\n",
        "    y = torch.tensor(train_labels[ix], dtype=torch.long)\n",
        "\n",
        "    # Reset gradients:\n",
        "    optimizer.zero_grad()\n",
        "\n",
        "    # Forward pass:\n",
        "    outputs = net(x)\n",
        "    loss = criterion(outputs, y)\n",
        "\n",
        "    # Backward pass:\n",
        "    loss.backward()\n",
        "\n",
        "    # Update:\n",
        "    optimizer.step()\n",
        "\n",
        "    # Print stats:\n",
        "    print('[%d] loss: %.3f' % (it + 1, loss.item()))\n",
        "    hh.append(loss.item())"
      ],
      "execution_count": null,
      "outputs": [
        {
          "output_type": "stream",
          "name": "stdout",
          "text": [
            "[1] loss: 39.743\n",
            "[2] loss: 48.984\n",
            "[3] loss: 49.328\n",
            "[4] loss: 46.814\n",
            "[5] loss: 22.236\n",
            "[6] loss: 2.961\n",
            "[7] loss: 2.078\n",
            "[8] loss: 2.038\n",
            "[9] loss: 2.139\n",
            "[10] loss: 2.118\n",
            "[11] loss: 2.095\n",
            "[12] loss: 2.127\n",
            "[13] loss: 2.104\n",
            "[14] loss: 2.102\n",
            "[15] loss: 2.070\n",
            "[16] loss: 2.061\n",
            "[17] loss: 2.037\n",
            "[18] loss: 1.992\n",
            "[19] loss: 1.966\n",
            "[20] loss: 2.057\n",
            "[21] loss: 1.944\n",
            "[22] loss: 1.904\n",
            "[23] loss: 1.850\n",
            "[24] loss: 1.860\n",
            "[25] loss: 1.806\n",
            "[26] loss: 1.867\n",
            "[27] loss: 1.730\n",
            "[28] loss: 1.680\n",
            "[29] loss: 1.852\n",
            "[30] loss: 1.861\n",
            "[31] loss: 1.786\n",
            "[32] loss: 1.762\n",
            "[33] loss: 1.722\n",
            "[34] loss: 1.668\n",
            "[35] loss: 1.794\n",
            "[36] loss: 1.795\n",
            "[37] loss: 1.710\n",
            "[38] loss: 1.630\n",
            "[39] loss: 1.726\n",
            "[40] loss: 1.723\n",
            "[41] loss: 1.640\n",
            "[42] loss: 1.719\n",
            "[43] loss: 1.632\n",
            "[44] loss: 1.605\n",
            "[45] loss: 1.610\n",
            "[46] loss: 1.595\n",
            "[47] loss: 1.585\n",
            "[48] loss: 1.526\n",
            "[49] loss: 1.592\n",
            "[50] loss: 1.478\n",
            "[51] loss: 1.578\n",
            "[52] loss: 1.480\n",
            "[53] loss: 1.608\n",
            "[54] loss: 1.498\n",
            "[55] loss: 1.450\n",
            "[56] loss: 1.479\n",
            "[57] loss: 1.487\n",
            "[58] loss: 1.407\n",
            "[59] loss: 1.434\n",
            "[60] loss: 1.431\n",
            "[61] loss: 1.447\n",
            "[62] loss: 1.417\n",
            "[63] loss: 1.347\n",
            "[64] loss: 1.457\n",
            "[65] loss: 1.379\n",
            "[66] loss: 1.344\n",
            "[67] loss: 1.314\n",
            "[68] loss: 1.286\n",
            "[69] loss: 1.411\n",
            "[70] loss: 1.417\n",
            "[71] loss: 1.363\n",
            "[72] loss: 1.393\n",
            "[73] loss: 1.345\n",
            "[74] loss: 1.449\n",
            "[75] loss: 1.324\n",
            "[76] loss: 1.376\n",
            "[77] loss: 1.312\n",
            "[78] loss: 1.242\n",
            "[79] loss: 1.161\n",
            "[80] loss: 1.288\n",
            "[81] loss: 1.229\n",
            "[82] loss: 1.268\n",
            "[83] loss: 1.255\n",
            "[84] loss: 1.249\n",
            "[85] loss: 1.233\n",
            "[86] loss: 1.269\n",
            "[87] loss: 1.277\n",
            "[88] loss: 1.214\n",
            "[89] loss: 1.117\n",
            "[90] loss: 1.122\n",
            "[91] loss: 1.121\n",
            "[92] loss: 1.109\n",
            "[93] loss: 1.218\n",
            "[94] loss: 1.135\n",
            "[95] loss: 1.259\n",
            "[96] loss: 1.151\n",
            "[97] loss: 1.070\n",
            "[98] loss: 1.129\n",
            "[99] loss: 1.148\n",
            "[100] loss: 1.136\n",
            "[101] loss: 1.129\n",
            "[102] loss: 1.104\n",
            "[103] loss: 1.129\n",
            "[104] loss: 1.103\n",
            "[105] loss: 1.108\n",
            "[106] loss: 1.127\n",
            "[107] loss: 1.138\n",
            "[108] loss: 1.071\n",
            "[109] loss: 0.963\n",
            "[110] loss: 1.036\n",
            "[111] loss: 0.984\n",
            "[112] loss: 0.941\n",
            "[113] loss: 0.977\n",
            "[114] loss: 0.959\n",
            "[115] loss: 0.881\n",
            "[116] loss: 1.005\n",
            "[117] loss: 0.972\n",
            "[118] loss: 0.942\n",
            "[119] loss: 0.910\n",
            "[120] loss: 0.956\n",
            "[121] loss: 0.866\n",
            "[122] loss: 0.937\n",
            "[123] loss: 0.910\n",
            "[124] loss: 0.872\n",
            "[125] loss: 0.878\n",
            "[126] loss: 0.824\n",
            "[127] loss: 0.808\n",
            "[128] loss: 0.907\n",
            "[129] loss: 0.813\n",
            "[130] loss: 0.932\n",
            "[131] loss: 0.762\n",
            "[132] loss: 0.713\n",
            "[133] loss: 0.828\n",
            "[134] loss: 0.883\n",
            "[135] loss: 0.824\n",
            "[136] loss: 0.771\n",
            "[137] loss: 0.748\n",
            "[138] loss: 0.826\n",
            "[139] loss: 0.752\n",
            "[140] loss: 0.855\n",
            "[141] loss: 0.725\n",
            "[142] loss: 0.709\n",
            "[143] loss: 0.721\n",
            "[144] loss: 0.825\n",
            "[145] loss: 0.788\n",
            "[146] loss: 0.844\n",
            "[147] loss: 0.789\n",
            "[148] loss: 0.812\n",
            "[149] loss: 0.720\n",
            "[150] loss: 0.843\n",
            "[151] loss: 0.717\n",
            "[152] loss: 0.769\n",
            "[153] loss: 0.692\n",
            "[154] loss: 0.767\n",
            "[155] loss: 0.822\n",
            "[156] loss: 0.702\n",
            "[157] loss: 0.642\n",
            "[158] loss: 0.681\n",
            "[159] loss: 0.722\n",
            "[160] loss: 0.693\n",
            "[161] loss: 0.837\n",
            "[162] loss: 0.649\n",
            "[163] loss: 0.775\n",
            "[164] loss: 0.685\n",
            "[165] loss: 0.625\n",
            "[166] loss: 0.665\n",
            "[167] loss: 0.698\n",
            "[168] loss: 0.682\n",
            "[169] loss: 0.633\n",
            "[170] loss: 0.670\n",
            "[171] loss: 0.686\n",
            "[172] loss: 0.663\n",
            "[173] loss: 0.695\n",
            "[174] loss: 0.648\n",
            "[175] loss: 0.667\n",
            "[176] loss: 0.623\n",
            "[177] loss: 0.569\n",
            "[178] loss: 0.664\n",
            "[179] loss: 0.753\n",
            "[180] loss: 0.617\n",
            "[181] loss: 0.666\n",
            "[182] loss: 0.647\n",
            "[183] loss: 0.665\n",
            "[184] loss: 0.653\n",
            "[185] loss: 0.598\n",
            "[186] loss: 0.701\n",
            "[187] loss: 0.576\n",
            "[188] loss: 0.632\n",
            "[189] loss: 0.623\n",
            "[190] loss: 0.610\n",
            "[191] loss: 0.686\n",
            "[192] loss: 0.567\n",
            "[193] loss: 0.625\n",
            "[194] loss: 0.639\n",
            "[195] loss: 0.589\n",
            "[196] loss: 0.566\n",
            "[197] loss: 0.614\n",
            "[198] loss: 0.594\n",
            "[199] loss: 0.544\n",
            "[200] loss: 0.606\n",
            "[201] loss: 0.687\n",
            "[202] loss: 0.614\n",
            "[203] loss: 0.629\n",
            "[204] loss: 0.563\n",
            "[205] loss: 0.644\n",
            "[206] loss: 0.480\n",
            "[207] loss: 0.553\n",
            "[208] loss: 0.660\n",
            "[209] loss: 0.575\n",
            "[210] loss: 0.586\n",
            "[211] loss: 0.602\n",
            "[212] loss: 0.563\n",
            "[213] loss: 0.561\n",
            "[214] loss: 0.607\n",
            "[215] loss: 0.550\n",
            "[216] loss: 0.533\n",
            "[217] loss: 0.575\n",
            "[218] loss: 0.487\n",
            "[219] loss: 0.504\n",
            "[220] loss: 0.618\n",
            "[221] loss: 0.568\n",
            "[222] loss: 0.588\n",
            "[223] loss: 0.610\n",
            "[224] loss: 0.586\n",
            "[225] loss: 0.569\n",
            "[226] loss: 0.557\n",
            "[227] loss: 0.569\n",
            "[228] loss: 0.561\n",
            "[229] loss: 0.591\n",
            "[230] loss: 0.544\n",
            "[231] loss: 0.500\n",
            "[232] loss: 0.575\n",
            "[233] loss: 0.510\n",
            "[234] loss: 0.555\n",
            "[235] loss: 0.527\n",
            "[236] loss: 0.486\n",
            "[237] loss: 0.560\n",
            "[238] loss: 0.449\n",
            "[239] loss: 0.510\n",
            "[240] loss: 0.494\n",
            "[241] loss: 0.496\n",
            "[242] loss: 0.540\n",
            "[243] loss: 0.549\n",
            "[244] loss: 0.548\n",
            "[245] loss: 0.504\n",
            "[246] loss: 0.524\n",
            "[247] loss: 0.579\n",
            "[248] loss: 0.508\n",
            "[249] loss: 0.546\n",
            "[250] loss: 0.500\n",
            "[251] loss: 0.510\n",
            "[252] loss: 0.579\n",
            "[253] loss: 0.541\n",
            "[254] loss: 0.472\n",
            "[255] loss: 0.554\n",
            "[256] loss: 0.520\n",
            "[257] loss: 0.525\n",
            "[258] loss: 0.471\n",
            "[259] loss: 0.479\n",
            "[260] loss: 0.473\n",
            "[261] loss: 0.479\n",
            "[262] loss: 0.477\n",
            "[263] loss: 0.478\n",
            "[264] loss: 0.480\n",
            "[265] loss: 0.515\n",
            "[266] loss: 0.451\n",
            "[267] loss: 0.466\n",
            "[268] loss: 0.487\n",
            "[269] loss: 0.484\n",
            "[270] loss: 0.574\n",
            "[271] loss: 0.524\n",
            "[272] loss: 0.448\n",
            "[273] loss: 0.478\n",
            "[274] loss: 0.551\n",
            "[275] loss: 0.528\n",
            "[276] loss: 0.572\n",
            "[277] loss: 0.536\n",
            "[278] loss: 0.398\n",
            "[279] loss: 0.512\n",
            "[280] loss: 0.461\n",
            "[281] loss: 0.507\n",
            "[282] loss: 0.534\n",
            "[283] loss: 0.454\n",
            "[284] loss: 0.448\n",
            "[285] loss: 0.536\n",
            "[286] loss: 0.508\n",
            "[287] loss: 0.509\n",
            "[288] loss: 0.474\n",
            "[289] loss: 0.477\n",
            "[290] loss: 0.510\n",
            "[291] loss: 0.509\n",
            "[292] loss: 0.454\n",
            "[293] loss: 0.497\n",
            "[294] loss: 0.511\n",
            "[295] loss: 0.440\n",
            "[296] loss: 0.502\n",
            "[297] loss: 0.463\n",
            "[298] loss: 0.490\n",
            "[299] loss: 0.584\n",
            "[300] loss: 0.393\n",
            "[301] loss: 0.487\n",
            "[302] loss: 0.458\n",
            "[303] loss: 0.472\n",
            "[304] loss: 0.449\n",
            "[305] loss: 0.435\n",
            "[306] loss: 0.522\n",
            "[307] loss: 0.460\n",
            "[308] loss: 0.456\n",
            "[309] loss: 0.456\n",
            "[310] loss: 0.492\n",
            "[311] loss: 0.471\n",
            "[312] loss: 0.496\n",
            "[313] loss: 0.482\n",
            "[314] loss: 0.455\n",
            "[315] loss: 0.480\n",
            "[316] loss: 0.478\n",
            "[317] loss: 0.482\n",
            "[318] loss: 0.475\n",
            "[319] loss: 0.444\n",
            "[320] loss: 0.447\n",
            "[321] loss: 0.432\n",
            "[322] loss: 0.423\n",
            "[323] loss: 0.431\n",
            "[324] loss: 0.434\n",
            "[325] loss: 0.533\n",
            "[326] loss: 0.399\n",
            "[327] loss: 0.445\n",
            "[328] loss: 0.496\n",
            "[329] loss: 0.412\n",
            "[330] loss: 0.413\n",
            "[331] loss: 0.519\n",
            "[332] loss: 0.452\n",
            "[333] loss: 0.512\n",
            "[334] loss: 0.432\n",
            "[335] loss: 0.392\n",
            "[336] loss: 0.472\n",
            "[337] loss: 0.442\n",
            "[338] loss: 0.445\n",
            "[339] loss: 0.528\n",
            "[340] loss: 0.458\n",
            "[341] loss: 0.452\n",
            "[342] loss: 0.417\n",
            "[343] loss: 0.474\n",
            "[344] loss: 0.482\n",
            "[345] loss: 0.397\n",
            "[346] loss: 0.391\n",
            "[347] loss: 0.456\n",
            "[348] loss: 0.466\n",
            "[349] loss: 0.441\n",
            "[350] loss: 0.512\n",
            "[351] loss: 0.440\n",
            "[352] loss: 0.396\n",
            "[353] loss: 0.411\n",
            "[354] loss: 0.432\n",
            "[355] loss: 0.515\n",
            "[356] loss: 0.388\n",
            "[357] loss: 0.422\n",
            "[358] loss: 0.410\n",
            "[359] loss: 0.440\n",
            "[360] loss: 0.527\n",
            "[361] loss: 0.424\n",
            "[362] loss: 0.473\n",
            "[363] loss: 0.513\n",
            "[364] loss: 0.444\n",
            "[365] loss: 0.471\n",
            "[366] loss: 0.478\n",
            "[367] loss: 0.433\n",
            "[368] loss: 0.403\n",
            "[369] loss: 0.504\n",
            "[370] loss: 0.537\n",
            "[371] loss: 0.424\n",
            "[372] loss: 0.443\n",
            "[373] loss: 0.425\n",
            "[374] loss: 0.463\n",
            "[375] loss: 0.446\n",
            "[376] loss: 0.435\n",
            "[377] loss: 0.492\n",
            "[378] loss: 0.467\n",
            "[379] loss: 0.455\n",
            "[380] loss: 0.436\n",
            "[381] loss: 0.406\n",
            "[382] loss: 0.437\n",
            "[383] loss: 0.379\n",
            "[384] loss: 0.462\n",
            "[385] loss: 0.431\n",
            "[386] loss: 0.386\n",
            "[387] loss: 0.416\n",
            "[388] loss: 0.366\n",
            "[389] loss: 0.380\n",
            "[390] loss: 0.441\n",
            "[391] loss: 0.422\n",
            "[392] loss: 0.405\n",
            "[393] loss: 0.446\n",
            "[394] loss: 0.388\n",
            "[395] loss: 0.404\n",
            "[396] loss: 0.469\n",
            "[397] loss: 0.338\n",
            "[398] loss: 0.403\n",
            "[399] loss: 0.408\n",
            "[400] loss: 0.467\n",
            "[401] loss: 0.426\n",
            "[402] loss: 0.437\n",
            "[403] loss: 0.475\n",
            "[404] loss: 0.380\n",
            "[405] loss: 0.402\n",
            "[406] loss: 0.435\n",
            "[407] loss: 0.399\n",
            "[408] loss: 0.437\n",
            "[409] loss: 0.473\n",
            "[410] loss: 0.472\n",
            "[411] loss: 0.393\n",
            "[412] loss: 0.406\n",
            "[413] loss: 0.481\n",
            "[414] loss: 0.403\n",
            "[415] loss: 0.421\n",
            "[416] loss: 0.433\n",
            "[417] loss: 0.481\n",
            "[418] loss: 0.454\n",
            "[419] loss: 0.371\n",
            "[420] loss: 0.355\n",
            "[421] loss: 0.402\n",
            "[422] loss: 0.407\n",
            "[423] loss: 0.516\n",
            "[424] loss: 0.429\n",
            "[425] loss: 0.485\n",
            "[426] loss: 0.450\n",
            "[427] loss: 0.459\n",
            "[428] loss: 0.422\n",
            "[429] loss: 0.376\n",
            "[430] loss: 0.367\n",
            "[431] loss: 0.418\n",
            "[432] loss: 0.361\n",
            "[433] loss: 0.361\n",
            "[434] loss: 0.456\n",
            "[435] loss: 0.388\n",
            "[436] loss: 0.368\n",
            "[437] loss: 0.375\n",
            "[438] loss: 0.392\n",
            "[439] loss: 0.436\n",
            "[440] loss: 0.407\n",
            "[441] loss: 0.445\n",
            "[442] loss: 0.416\n",
            "[443] loss: 0.456\n",
            "[444] loss: 0.375\n",
            "[445] loss: 0.397\n",
            "[446] loss: 0.431\n",
            "[447] loss: 0.380\n",
            "[448] loss: 0.459\n",
            "[449] loss: 0.323\n",
            "[450] loss: 0.336\n",
            "[451] loss: 0.441\n",
            "[452] loss: 0.452\n",
            "[453] loss: 0.379\n",
            "[454] loss: 0.431\n",
            "[455] loss: 0.420\n",
            "[456] loss: 0.427\n",
            "[457] loss: 0.469\n",
            "[458] loss: 0.447\n",
            "[459] loss: 0.387\n",
            "[460] loss: 0.421\n",
            "[461] loss: 0.358\n",
            "[462] loss: 0.396\n",
            "[463] loss: 0.402\n",
            "[464] loss: 0.351\n",
            "[465] loss: 0.423\n",
            "[466] loss: 0.395\n",
            "[467] loss: 0.419\n",
            "[468] loss: 0.396\n",
            "[469] loss: 0.355\n",
            "[470] loss: 0.448\n",
            "[471] loss: 0.393\n",
            "[472] loss: 0.409\n",
            "[473] loss: 0.401\n",
            "[474] loss: 0.451\n",
            "[475] loss: 0.397\n",
            "[476] loss: 0.442\n",
            "[477] loss: 0.441\n",
            "[478] loss: 0.344\n",
            "[479] loss: 0.413\n",
            "[480] loss: 0.434\n",
            "[481] loss: 0.455\n",
            "[482] loss: 0.407\n",
            "[483] loss: 0.377\n",
            "[484] loss: 0.376\n",
            "[485] loss: 0.341\n",
            "[486] loss: 0.351\n",
            "[487] loss: 0.405\n",
            "[488] loss: 0.365\n",
            "[489] loss: 0.355\n",
            "[490] loss: 0.410\n",
            "[491] loss: 0.381\n",
            "[492] loss: 0.386\n",
            "[493] loss: 0.429\n",
            "[494] loss: 0.397\n",
            "[495] loss: 0.388\n",
            "[496] loss: 0.365\n",
            "[497] loss: 0.437\n",
            "[498] loss: 0.370\n",
            "[499] loss: 0.412\n",
            "[500] loss: 0.381\n",
            "[501] loss: 0.421\n",
            "[502] loss: 0.436\n",
            "[503] loss: 0.348\n",
            "[504] loss: 0.428\n",
            "[505] loss: 0.412\n",
            "[506] loss: 0.367\n",
            "[507] loss: 0.336\n",
            "[508] loss: 0.360\n",
            "[509] loss: 0.418\n",
            "[510] loss: 0.384\n",
            "[511] loss: 0.447\n",
            "[512] loss: 0.392\n",
            "[513] loss: 0.373\n",
            "[514] loss: 0.376\n",
            "[515] loss: 0.463\n",
            "[516] loss: 0.387\n",
            "[517] loss: 0.362\n",
            "[518] loss: 0.369\n",
            "[519] loss: 0.359\n",
            "[520] loss: 0.362\n",
            "[521] loss: 0.356\n",
            "[522] loss: 0.387\n",
            "[523] loss: 0.414\n",
            "[524] loss: 0.395\n",
            "[525] loss: 0.409\n",
            "[526] loss: 0.406\n",
            "[527] loss: 0.366\n",
            "[528] loss: 0.377\n",
            "[529] loss: 0.413\n",
            "[530] loss: 0.347\n",
            "[531] loss: 0.389\n",
            "[532] loss: 0.362\n",
            "[533] loss: 0.444\n",
            "[534] loss: 0.404\n",
            "[535] loss: 0.405\n",
            "[536] loss: 0.339\n",
            "[537] loss: 0.359\n",
            "[538] loss: 0.413\n",
            "[539] loss: 0.336\n",
            "[540] loss: 0.414\n",
            "[541] loss: 0.375\n",
            "[542] loss: 0.366\n",
            "[543] loss: 0.392\n",
            "[544] loss: 0.366\n",
            "[545] loss: 0.400\n",
            "[546] loss: 0.405\n",
            "[547] loss: 0.356\n",
            "[548] loss: 0.365\n",
            "[549] loss: 0.409\n",
            "[550] loss: 0.368\n",
            "[551] loss: 0.360\n",
            "[552] loss: 0.371\n",
            "[553] loss: 0.409\n",
            "[554] loss: 0.343\n",
            "[555] loss: 0.356\n",
            "[556] loss: 0.394\n",
            "[557] loss: 0.436\n",
            "[558] loss: 0.347\n",
            "[559] loss: 0.390\n",
            "[560] loss: 0.319\n",
            "[561] loss: 0.436\n",
            "[562] loss: 0.370\n",
            "[563] loss: 0.362\n",
            "[564] loss: 0.350\n",
            "[565] loss: 0.408\n",
            "[566] loss: 0.400\n",
            "[567] loss: 0.401\n",
            "[568] loss: 0.372\n",
            "[569] loss: 0.402\n",
            "[570] loss: 0.468\n",
            "[571] loss: 0.388\n",
            "[572] loss: 0.400\n",
            "[573] loss: 0.355\n",
            "[574] loss: 0.358\n",
            "[575] loss: 0.411\n",
            "[576] loss: 0.430\n",
            "[577] loss: 0.397\n",
            "[578] loss: 0.458\n",
            "[579] loss: 0.363\n",
            "[580] loss: 0.363\n",
            "[581] loss: 0.366\n",
            "[582] loss: 0.393\n",
            "[583] loss: 0.392\n",
            "[584] loss: 0.360\n",
            "[585] loss: 0.445\n",
            "[586] loss: 0.359\n",
            "[587] loss: 0.385\n",
            "[588] loss: 0.405\n",
            "[589] loss: 0.308\n",
            "[590] loss: 0.317\n",
            "[591] loss: 0.428\n",
            "[592] loss: 0.368\n",
            "[593] loss: 0.292\n",
            "[594] loss: 0.406\n",
            "[595] loss: 0.448\n",
            "[596] loss: 0.387\n",
            "[597] loss: 0.384\n",
            "[598] loss: 0.322\n",
            "[599] loss: 0.330\n",
            "[600] loss: 0.386\n",
            "[601] loss: 0.346\n",
            "[602] loss: 0.390\n",
            "[603] loss: 0.376\n",
            "[604] loss: 0.364\n",
            "[605] loss: 0.329\n",
            "[606] loss: 0.387\n",
            "[607] loss: 0.335\n",
            "[608] loss: 0.394\n",
            "[609] loss: 0.394\n",
            "[610] loss: 0.368\n",
            "[611] loss: 0.336\n",
            "[612] loss: 0.376\n",
            "[613] loss: 0.326\n",
            "[614] loss: 0.338\n",
            "[615] loss: 0.361\n",
            "[616] loss: 0.337\n",
            "[617] loss: 0.322\n",
            "[618] loss: 0.363\n",
            "[619] loss: 0.396\n",
            "[620] loss: 0.353\n",
            "[621] loss: 0.375\n",
            "[622] loss: 0.408\n",
            "[623] loss: 0.378\n",
            "[624] loss: 0.365\n",
            "[625] loss: 0.391\n",
            "[626] loss: 0.363\n",
            "[627] loss: 0.366\n",
            "[628] loss: 0.397\n",
            "[629] loss: 0.366\n",
            "[630] loss: 0.377\n",
            "[631] loss: 0.348\n",
            "[632] loss: 0.412\n",
            "[633] loss: 0.352\n",
            "[634] loss: 0.364\n",
            "[635] loss: 0.349\n",
            "[636] loss: 0.411\n",
            "[637] loss: 0.355\n",
            "[638] loss: 0.395\n",
            "[639] loss: 0.371\n",
            "[640] loss: 0.301\n",
            "[641] loss: 0.401\n",
            "[642] loss: 0.380\n",
            "[643] loss: 0.326\n",
            "[644] loss: 0.378\n",
            "[645] loss: 0.470\n",
            "[646] loss: 0.341\n",
            "[647] loss: 0.383\n",
            "[648] loss: 0.375\n",
            "[649] loss: 0.306\n",
            "[650] loss: 0.416\n",
            "[651] loss: 0.363\n",
            "[652] loss: 0.314\n",
            "[653] loss: 0.313\n",
            "[654] loss: 0.283\n",
            "[655] loss: 0.323\n",
            "[656] loss: 0.342\n",
            "[657] loss: 0.384\n",
            "[658] loss: 0.379\n",
            "[659] loss: 0.353\n",
            "[660] loss: 0.426\n",
            "[661] loss: 0.333\n",
            "[662] loss: 0.338\n",
            "[663] loss: 0.327\n",
            "[664] loss: 0.381\n",
            "[665] loss: 0.337\n",
            "[666] loss: 0.363\n",
            "[667] loss: 0.366\n",
            "[668] loss: 0.315\n",
            "[669] loss: 0.476\n",
            "[670] loss: 0.367\n",
            "[671] loss: 0.328\n",
            "[672] loss: 0.310\n",
            "[673] loss: 0.331\n",
            "[674] loss: 0.304\n",
            "[675] loss: 0.342\n",
            "[676] loss: 0.331\n",
            "[677] loss: 0.435\n",
            "[678] loss: 0.313\n",
            "[679] loss: 0.343\n",
            "[680] loss: 0.346\n",
            "[681] loss: 0.445\n",
            "[682] loss: 0.348\n",
            "[683] loss: 0.306\n",
            "[684] loss: 0.298\n",
            "[685] loss: 0.340\n",
            "[686] loss: 0.387\n",
            "[687] loss: 0.414\n",
            "[688] loss: 0.369\n",
            "[689] loss: 0.310\n",
            "[690] loss: 0.365\n",
            "[691] loss: 0.370\n",
            "[692] loss: 0.360\n",
            "[693] loss: 0.337\n",
            "[694] loss: 0.354\n",
            "[695] loss: 0.425\n",
            "[696] loss: 0.317\n",
            "[697] loss: 0.312\n",
            "[698] loss: 0.351\n",
            "[699] loss: 0.377\n",
            "[700] loss: 0.309\n",
            "[701] loss: 0.357\n",
            "[702] loss: 0.361\n",
            "[703] loss: 0.295\n",
            "[704] loss: 0.443\n",
            "[705] loss: 0.369\n",
            "[706] loss: 0.306\n",
            "[707] loss: 0.417\n",
            "[708] loss: 0.352\n",
            "[709] loss: 0.290\n",
            "[710] loss: 0.384\n",
            "[711] loss: 0.351\n",
            "[712] loss: 0.321\n",
            "[713] loss: 0.317\n",
            "[714] loss: 0.330\n",
            "[715] loss: 0.333\n",
            "[716] loss: 0.413\n",
            "[717] loss: 0.336\n",
            "[718] loss: 0.316\n",
            "[719] loss: 0.348\n",
            "[720] loss: 0.343\n",
            "[721] loss: 0.417\n",
            "[722] loss: 0.357\n",
            "[723] loss: 0.356\n",
            "[724] loss: 0.304\n",
            "[725] loss: 0.428\n",
            "[726] loss: 0.364\n",
            "[727] loss: 0.332\n",
            "[728] loss: 0.337\n",
            "[729] loss: 0.383\n",
            "[730] loss: 0.310\n",
            "[731] loss: 0.386\n",
            "[732] loss: 0.382\n",
            "[733] loss: 0.420\n",
            "[734] loss: 0.362\n",
            "[735] loss: 0.342\n",
            "[736] loss: 0.368\n",
            "[737] loss: 0.350\n",
            "[738] loss: 0.343\n",
            "[739] loss: 0.367\n",
            "[740] loss: 0.293\n",
            "[741] loss: 0.381\n",
            "[742] loss: 0.344\n",
            "[743] loss: 0.401\n",
            "[744] loss: 0.319\n",
            "[745] loss: 0.358\n",
            "[746] loss: 0.337\n",
            "[747] loss: 0.317\n",
            "[748] loss: 0.377\n",
            "[749] loss: 0.361\n",
            "[750] loss: 0.367\n",
            "[751] loss: 0.381\n",
            "[752] loss: 0.358\n",
            "[753] loss: 0.333\n",
            "[754] loss: 0.367\n",
            "[755] loss: 0.354\n",
            "[756] loss: 0.404\n",
            "[757] loss: 0.294\n",
            "[758] loss: 0.331\n",
            "[759] loss: 0.319\n",
            "[760] loss: 0.385\n",
            "[761] loss: 0.341\n",
            "[762] loss: 0.334\n",
            "[763] loss: 0.308\n",
            "[764] loss: 0.341\n",
            "[765] loss: 0.384\n",
            "[766] loss: 0.375\n",
            "[767] loss: 0.341\n",
            "[768] loss: 0.324\n",
            "[769] loss: 0.367\n",
            "[770] loss: 0.325\n",
            "[771] loss: 0.298\n",
            "[772] loss: 0.389\n",
            "[773] loss: 0.318\n",
            "[774] loss: 0.361\n",
            "[775] loss: 0.321\n",
            "[776] loss: 0.299\n",
            "[777] loss: 0.343\n",
            "[778] loss: 0.386\n",
            "[779] loss: 0.332\n",
            "[780] loss: 0.344\n",
            "[781] loss: 0.421\n",
            "[782] loss: 0.319\n",
            "[783] loss: 0.342\n",
            "[784] loss: 0.298\n",
            "[785] loss: 0.339\n",
            "[786] loss: 0.383\n",
            "[787] loss: 0.381\n",
            "[788] loss: 0.324\n",
            "[789] loss: 0.287\n",
            "[790] loss: 0.363\n",
            "[791] loss: 0.345\n",
            "[792] loss: 0.426\n",
            "[793] loss: 0.307\n",
            "[794] loss: 0.344\n",
            "[795] loss: 0.287\n",
            "[796] loss: 0.352\n",
            "[797] loss: 0.355\n",
            "[798] loss: 0.281\n",
            "[799] loss: 0.359\n",
            "[800] loss: 0.333\n",
            "[801] loss: 0.329\n",
            "[802] loss: 0.326\n",
            "[803] loss: 0.332\n",
            "[804] loss: 0.371\n",
            "[805] loss: 0.336\n",
            "[806] loss: 0.291\n",
            "[807] loss: 0.327\n",
            "[808] loss: 0.356\n",
            "[809] loss: 0.336\n",
            "[810] loss: 0.292\n",
            "[811] loss: 0.365\n",
            "[812] loss: 0.343\n",
            "[813] loss: 0.290\n",
            "[814] loss: 0.333\n",
            "[815] loss: 0.328\n",
            "[816] loss: 0.299\n",
            "[817] loss: 0.334\n",
            "[818] loss: 0.385\n",
            "[819] loss: 0.368\n",
            "[820] loss: 0.284\n",
            "[821] loss: 0.333\n",
            "[822] loss: 0.354\n",
            "[823] loss: 0.357\n",
            "[824] loss: 0.362\n",
            "[825] loss: 0.357\n",
            "[826] loss: 0.363\n",
            "[827] loss: 0.299\n",
            "[828] loss: 0.279\n",
            "[829] loss: 0.338\n",
            "[830] loss: 0.316\n",
            "[831] loss: 0.298\n",
            "[832] loss: 0.390\n",
            "[833] loss: 0.346\n",
            "[834] loss: 0.341\n",
            "[835] loss: 0.325\n",
            "[836] loss: 0.303\n",
            "[837] loss: 0.292\n",
            "[838] loss: 0.312\n",
            "[839] loss: 0.298\n",
            "[840] loss: 0.409\n",
            "[841] loss: 0.293\n",
            "[842] loss: 0.345\n",
            "[843] loss: 0.296\n",
            "[844] loss: 0.305\n",
            "[845] loss: 0.357\n",
            "[846] loss: 0.309\n",
            "[847] loss: 0.347\n",
            "[848] loss: 0.310\n",
            "[849] loss: 0.313\n",
            "[850] loss: 0.299\n",
            "[851] loss: 0.306\n",
            "[852] loss: 0.342\n",
            "[853] loss: 0.305\n",
            "[854] loss: 0.299\n",
            "[855] loss: 0.281\n",
            "[856] loss: 0.312\n",
            "[857] loss: 0.290\n",
            "[858] loss: 0.296\n",
            "[859] loss: 0.372\n",
            "[860] loss: 0.355\n",
            "[861] loss: 0.291\n",
            "[862] loss: 0.307\n",
            "[863] loss: 0.245\n",
            "[864] loss: 0.347\n",
            "[865] loss: 0.356\n",
            "[866] loss: 0.324\n",
            "[867] loss: 0.268\n",
            "[868] loss: 0.299\n",
            "[869] loss: 0.321\n",
            "[870] loss: 0.413\n",
            "[871] loss: 0.305\n",
            "[872] loss: 0.305\n",
            "[873] loss: 0.323\n",
            "[874] loss: 0.295\n",
            "[875] loss: 0.309\n",
            "[876] loss: 0.347\n",
            "[877] loss: 0.305\n",
            "[878] loss: 0.299\n",
            "[879] loss: 0.374\n",
            "[880] loss: 0.360\n",
            "[881] loss: 0.305\n",
            "[882] loss: 0.367\n",
            "[883] loss: 0.348\n",
            "[884] loss: 0.294\n",
            "[885] loss: 0.307\n",
            "[886] loss: 0.388\n",
            "[887] loss: 0.316\n",
            "[888] loss: 0.297\n",
            "[889] loss: 0.378\n",
            "[890] loss: 0.308\n",
            "[891] loss: 0.344\n",
            "[892] loss: 0.289\n",
            "[893] loss: 0.325\n",
            "[894] loss: 0.344\n",
            "[895] loss: 0.323\n",
            "[896] loss: 0.297\n",
            "[897] loss: 0.295\n",
            "[898] loss: 0.315\n",
            "[899] loss: 0.336\n",
            "[900] loss: 0.374\n",
            "[901] loss: 0.326\n",
            "[902] loss: 0.321\n",
            "[903] loss: 0.300\n",
            "[904] loss: 0.312\n",
            "[905] loss: 0.314\n",
            "[906] loss: 0.271\n",
            "[907] loss: 0.385\n",
            "[908] loss: 0.346\n",
            "[909] loss: 0.356\n",
            "[910] loss: 0.361\n",
            "[911] loss: 0.292\n",
            "[912] loss: 0.319\n",
            "[913] loss: 0.303\n",
            "[914] loss: 0.346\n",
            "[915] loss: 0.319\n",
            "[916] loss: 0.304\n",
            "[917] loss: 0.317\n",
            "[918] loss: 0.310\n",
            "[919] loss: 0.350\n",
            "[920] loss: 0.395\n",
            "[921] loss: 0.391\n",
            "[922] loss: 0.396\n",
            "[923] loss: 0.312\n",
            "[924] loss: 0.322\n",
            "[925] loss: 0.314\n",
            "[926] loss: 0.271\n",
            "[927] loss: 0.272\n",
            "[928] loss: 0.278\n",
            "[929] loss: 0.321\n",
            "[930] loss: 0.346\n",
            "[931] loss: 0.313\n",
            "[932] loss: 0.349\n",
            "[933] loss: 0.343\n",
            "[934] loss: 0.253\n",
            "[935] loss: 0.305\n",
            "[936] loss: 0.289\n",
            "[937] loss: 0.301\n",
            "[938] loss: 0.270\n",
            "[939] loss: 0.298\n",
            "[940] loss: 0.299\n",
            "[941] loss: 0.274\n",
            "[942] loss: 0.306\n",
            "[943] loss: 0.303\n",
            "[944] loss: 0.307\n",
            "[945] loss: 0.323\n",
            "[946] loss: 0.349\n",
            "[947] loss: 0.296\n",
            "[948] loss: 0.311\n",
            "[949] loss: 0.287\n",
            "[950] loss: 0.296\n",
            "[951] loss: 0.291\n",
            "[952] loss: 0.295\n",
            "[953] loss: 0.392\n",
            "[954] loss: 0.263\n",
            "[955] loss: 0.292\n",
            "[956] loss: 0.339\n",
            "[957] loss: 0.291\n",
            "[958] loss: 0.350\n",
            "[959] loss: 0.279\n",
            "[960] loss: 0.319\n",
            "[961] loss: 0.312\n",
            "[962] loss: 0.349\n",
            "[963] loss: 0.375\n",
            "[964] loss: 0.291\n",
            "[965] loss: 0.268\n",
            "[966] loss: 0.389\n",
            "[967] loss: 0.343\n",
            "[968] loss: 0.323\n",
            "[969] loss: 0.291\n",
            "[970] loss: 0.314\n",
            "[971] loss: 0.360\n",
            "[972] loss: 0.283\n",
            "[973] loss: 0.298\n",
            "[974] loss: 0.280\n",
            "[975] loss: 0.317\n",
            "[976] loss: 0.336\n",
            "[977] loss: 0.297\n",
            "[978] loss: 0.328\n",
            "[979] loss: 0.279\n",
            "[980] loss: 0.275\n",
            "[981] loss: 0.315\n",
            "[982] loss: 0.295\n",
            "[983] loss: 0.385\n",
            "[984] loss: 0.309\n",
            "[985] loss: 0.294\n",
            "[986] loss: 0.308\n",
            "[987] loss: 0.302\n",
            "[988] loss: 0.290\n",
            "[989] loss: 0.286\n",
            "[990] loss: 0.309\n",
            "[991] loss: 0.304\n",
            "[992] loss: 0.326\n",
            "[993] loss: 0.275\n",
            "[994] loss: 0.309\n",
            "[995] loss: 0.301\n",
            "[996] loss: 0.308\n",
            "[997] loss: 0.331\n",
            "[998] loss: 0.287\n",
            "[999] loss: 0.301\n",
            "[1000] loss: 0.304\n"
          ]
        }
      ]
    },
    {
      "cell_type": "markdown",
      "metadata": {
        "id": "1xs1ZhWcoyaz"
      },
      "source": [
        "Plot:"
      ]
    },
    {
      "cell_type": "code",
      "metadata": {
        "id": "m5sVcA63V3gI",
        "colab": {
          "base_uri": "https://localhost:8080/",
          "height": 430
        },
        "outputId": "995908f1-a36d-4cb9-b31b-400bd70a98fc"
      },
      "source": [
        "plt.plot(hh)\n",
        "plt.grid(True)\n",
        "plt.show()"
      ],
      "execution_count": null,
      "outputs": [
        {
          "output_type": "display_data",
          "data": {
            "text/plain": [
              "<Figure size 640x480 with 1 Axes>"
            ],
            "image/png": "[encoded data removed]"
          },
          "metadata": {}
        }
      ]
    },
    {
      "cell_type": "markdown",
      "metadata": {
        "id": "HRA0N2J9p8jN"
      },
      "source": [
        "Let us classify the same image after training:"
      ]
    },
    {
      "cell_type": "code",
      "metadata": {
        "id": "1ps2jawvLWPP",
        "colab": {
          "base_uri": "https://localhost:8080/",
          "height": 499
        },
        "outputId": "c0220b0c-a275-473b-eb3a-8b6054d99c08"
      },
      "source": [
        "print(train_images[1].shape)\n",
        "print(\"target =\", train_labels[1])\n",
        "plt.imshow(train_images[1], cmap='gray')\n",
        "plt.show()\n",
        "\n",
        "# Image to tensor:\n",
        "input = torch.tensor(train_images[1], dtype=torch.float)\n",
        "\n",
        "# Predict:\n",
        "out = net(input)\n",
        "print(out)"
      ],
      "execution_count": null,
      "outputs": [
        {
          "output_type": "stream",
          "name": "stdout",
          "text": [
            "(28, 28)\n",
            "target = 0\n"
          ]
        },
        {
          "output_type": "display_data",
          "data": {
            "text/plain": [
              "<Figure size 640x480 with 1 Axes>"
            ],
            "image/png": "[encoded data removed]"
          },
          "metadata": {}
        },
        {
          "output_type": "stream",
          "name": "stdout",
          "text": [
            "tensor([[ 16.7177,  -9.5891,   5.2113,  -4.3485,   0.0986,   3.7959,   3.3920,\n",
            "           8.1764, -12.6352,  -3.2900]], grad_fn=<AddmmBackward0>)\n"
          ]
        }
      ]
    },
    {
      "cell_type": "markdown",
      "metadata": {
        "id": "duQUCaXOo_zD"
      },
      "source": [
        "Now the highest output is assigned to the correct target."
      ]
    },
    {
      "cell_type": "markdown",
      "metadata": {
        "id": "VZya0QZ6q1-k"
      },
      "source": [
        "Accuracy on training data:"
      ]
    },
    {
      "cell_type": "code",
      "metadata": {
        "id": "R1WcjW5_pCqx",
        "colab": {
          "base_uri": "https://localhost:8080/"
        },
        "outputId": "9af5b532-4e40-43c6-b3bb-050d7734adb5"
      },
      "source": [
        "input = torch.tensor(train_images, dtype=torch.float)\n",
        "out = net(input)\n",
        "_, predicted = torch.max(out, 1)\n",
        "(predicted.numpy() == train_labels).sum() / 60000"
      ],
      "execution_count": null,
      "outputs": [
        {
          "output_type": "execute_result",
          "data": {
            "text/plain": [
              "0.9147166666666666"
            ]
          },
          "metadata": {},
          "execution_count": 33
        }
      ]
    },
    {
      "cell_type": "markdown",
      "metadata": {
        "id": "g9Ick4n0LiFM"
      },
      "source": [
        "Accuracy on test data:"
      ]
    },
    {
      "cell_type": "code",
      "metadata": {
        "id": "sQ_ChRoBrAVp",
        "colab": {
          "base_uri": "https://localhost:8080/"
        },
        "outputId": "b93ab9e7-5696-49b2-d6c7-1df779399d81"
      },
      "source": [
        "input = torch.tensor(test_images, dtype=torch.float)\n",
        "out = net(input)\n",
        "_, predicted = torch.max(out, 1)\n",
        "(predicted.numpy() == test_labels).sum() / 10000"
      ],
      "execution_count": null,
      "outputs": [
        {
          "output_type": "execute_result",
          "data": {
            "text/plain": [
              "0.9139"
            ]
          },
          "metadata": {},
          "execution_count": 34
        }
      ]
    },
    {
      "cell_type": "markdown",
      "metadata": {
        "id": "2s0RalLicamt"
      },
      "source": [
        "PyTorch offers some utilities to process batches of data:\n"
      ]
    },
    {
      "cell_type": "code",
      "metadata": {
        "id": "oYm-GgOpMegb"
      },
      "source": [
        "import torch\n",
        "import torchvision\n",
        "import torchvision.transforms as transforms\n",
        "from torch.utils.data import TensorDataset, DataLoader"
      ],
      "execution_count": null,
      "outputs": []
    },
    {
      "cell_type": "markdown",
      "metadata": {
        "id": "VfOh-OtOdY9M"
      },
      "source": [
        "Let us build ``DataLoader``s for training and test data:"
      ]
    },
    {
      "cell_type": "code",
      "metadata": {
        "id": "Ruc-zjUsch3a"
      },
      "source": [
        "tensor_x = torch.tensor(train_images, dtype=torch.float)\n",
        "tensor_y = torch.tensor(train_labels, dtype=torch.long)\n",
        "train_dataset = TensorDataset(tensor_x, tensor_y)\n",
        "train_dataloader = DataLoader(train_dataset, batch_size=1000, shuffle=True)\n",
        "\n",
        "tensor_x = torch.tensor(test_images, dtype=torch.float)\n",
        "tensor_y = torch.tensor(test_labels, dtype=torch.long)\n",
        "test_dataset = TensorDataset(tensor_x,tensor_y)\n",
        "test_dataloader = DataLoader(test_dataset, batch_size=1000, shuffle=True)"
      ],
      "execution_count": null,
      "outputs": []
    },
    {
      "cell_type": "markdown",
      "metadata": {
        "id": "9YmbmnGLptjM"
      },
      "source": [
        "New network:"
      ]
    },
    {
      "cell_type": "code",
      "metadata": {
        "id": "LXiHXKcSd3pG"
      },
      "source": [
        "net = Net()\n",
        "criterion = nn.CrossEntropyLoss()\n",
        "optimizer = optim.SGD(net.parameters(), lr=0.001, momentum=0.9)"
      ],
      "execution_count": null,
      "outputs": []
    },
    {
      "cell_type": "markdown",
      "metadata": {
        "id": "u2CMHzKMd35s"
      },
      "source": [
        "Reimplement the training loop using epochs and batches:"
      ]
    },
    {
      "cell_type": "code",
      "metadata": {
        "id": "jR0cEnSWd3kf",
        "colab": {
          "base_uri": "https://localhost:8080/"
        },
        "outputId": "6a1cd3d9-bbf1-4365-f258-dd6ed256258b"
      },
      "source": [
        "nepochs = 10\n",
        "hh = []\n",
        "for it in range(nepochs):\n",
        "  rloss = 0.0\n",
        "  for x, t in train_dataloader:\n",
        "    # Reset gradients to 0:\n",
        "    optimizer.zero_grad()\n",
        "\n",
        "    # Forward pass:\n",
        "    outputs = net(x)\n",
        "    loss = criterion(outputs, t)\n",
        "\n",
        "    # Backward pass:\n",
        "    loss.backward()\n",
        "\n",
        "    # Actualización de los pesos:\n",
        "    optimizer.step()\n",
        "\n",
        "    # Acumulo loss:\n",
        "    rloss += loss.item()\n",
        "\n",
        "  # Imprimir loss de la época:\n",
        "  print('[%d] loss: %.3f' % (it + 1, rloss))\n",
        "  hh.append(rloss)"
      ],
      "execution_count": null,
      "outputs": [
        {
          "output_type": "stream",
          "name": "stdout",
          "text": [
            "[1] loss: 177.622\n",
            "[2] loss: 45.871\n",
            "[3] loss: 28.999\n",
            "[4] loss: 22.808\n",
            "[5] loss: 19.599\n",
            "[6] loss: 18.024\n",
            "[7] loss: 16.901\n",
            "[8] loss: 15.869\n",
            "[9] loss: 15.153\n",
            "[10] loss: 14.870\n"
          ]
        }
      ]
    },
    {
      "cell_type": "markdown",
      "metadata": {
        "id": "F96yqgS3gGZF"
      },
      "source": [
        "Accuracy on training and test data:"
      ]
    },
    {
      "cell_type": "code",
      "metadata": {
        "id": "8Z2KFUhBqD1C",
        "colab": {
          "base_uri": "https://localhost:8080/"
        },
        "outputId": "279a5554-bb43-41e7-9cea-fd493387c722"
      },
      "source": [
        "input = torch.tensor(train_images, dtype=torch.float)\n",
        "out = net(input)\n",
        "_, predicted = torch.max(out, 1)\n",
        "(predicted.numpy() == train_labels).sum() / 60000"
      ],
      "execution_count": null,
      "outputs": [
        {
          "output_type": "execute_result",
          "data": {
            "text/plain": [
              "0.9292"
            ]
          },
          "metadata": {},
          "execution_count": 39
        }
      ]
    },
    {
      "cell_type": "code",
      "metadata": {
        "id": "bN3Bc0qtd3hB",
        "colab": {
          "base_uri": "https://localhost:8080/"
        },
        "outputId": "9b1b843b-5dcc-4669-96b4-b6001d40201f"
      },
      "source": [
        "input = torch.tensor(test_images, dtype=torch.float)\n",
        "out = net(input)\n",
        "_, predicted = torch.max(out, 1)\n",
        "(predicted.numpy() == test_labels).sum() / 10000"
      ],
      "execution_count": null,
      "outputs": [
        {
          "output_type": "execute_result",
          "data": {
            "text/plain": [
              "0.9297"
            ]
          },
          "metadata": {},
          "execution_count": 40
        }
      ]
    },
    {
      "cell_type": "markdown",
      "metadata": {
        "id": "JNu0TkFdqM64"
      },
      "source": [
        "### <font color=\"#CA3532\">Exercise 3: Recurrent Neural Networks with pytorch</font>\n",
        "\n",
        "Complete the code of the classes ``RNN`` and ``LSTM`` in the file ``dlfbt_lab3.py``. Then run the following code to test your implementation.\n",
        "\n",
        "\n",
        "\n"
      ]
    },
    {
      "cell_type": "markdown",
      "source": [
        "Dataset creation:"
      ],
      "metadata": {
        "id": "auMN8aFggB59"
      }
    },
    {
      "cell_type": "code",
      "source": [
        "def create_data_set(n, seq_len, pattern):\n",
        "  x = np.random.randint(0, 2, (n, seq_len))\n",
        "\n",
        "  x_as_string = [''.join([chr(c+48) for c in a]) for a in x]\n",
        "  t = np.array([pattern in s for s in x_as_string])*1\n",
        "\n",
        "  return x, x_as_string, t"
      ],
      "metadata": {
        "id": "w-Ip8wefqD7B"
      },
      "execution_count": null,
      "outputs": []
    },
    {
      "cell_type": "code",
      "source": [
        "n = 50000\n",
        "seq_len = 25\n",
        "pattern = '11011'\n",
        "\n",
        "x, x_as_string, t = create_data_set(n, seq_len, pattern)\n",
        "xval, xval_as_string, tval = create_data_set(n, seq_len, pattern)\n",
        "\n",
        "for s, c in zip(x_as_string[:20], t[:20]):\n",
        "  print(s, c)\n",
        "\n",
        "print('Class mean (training):', t.mean())\n",
        "print('Class mean (validation):', tval.mean())"
      ],
      "metadata": {
        "colab": {
          "base_uri": "https://localhost:8080/"
        },
        "id": "94zFFIGEqMe6",
        "outputId": "ad8df0d4-af00-4ce8-8a36-099025366e8b"
      },
      "execution_count": null,
      "outputs": [
        {
          "output_type": "stream",
          "name": "stdout",
          "text": [
            "0101111011111110000011100 1\n",
            "1000010010101010011000000 0\n",
            "1001100101010100001011000 0\n",
            "1101010110111110111101011 1\n",
            "0110000101011011111000000 1\n",
            "1011100111100111001011001 0\n",
            "1000111001100001010110010 0\n",
            "0010001011010010111000101 0\n",
            "1001000000011111011010001 1\n",
            "0111100111011010101110000 1\n",
            "1111010100110000101100111 0\n",
            "0000101000001110110011101 1\n",
            "1010101111100010001110110 1\n",
            "1011011111110101010011010 1\n",
            "1111111001101100110000011 1\n",
            "0000001101011001001011001 0\n",
            "1011000110110011101100100 1\n",
            "1000010110011000011001111 0\n",
            "0001001100100101000011011 1\n",
            "1001111110001010111010100 0\n",
            "Class mean (training): 0.46882\n",
            "Class mean (validation): 0.46852\n"
          ]
        }
      ]
    },
    {
      "cell_type": "code",
      "source": [
        "print(x.shape)\n",
        "print(t.shape)"
      ],
      "metadata": {
        "colab": {
          "base_uri": "https://localhost:8080/"
        },
        "id": "6ZC7TL-iqz1V",
        "outputId": "69aa072e-8706-43ae-fddf-981c716f3ba3"
      },
      "execution_count": null,
      "outputs": [
        {
          "output_type": "stream",
          "name": "stdout",
          "text": [
            "(50000, 25)\n",
            "(50000,)\n"
          ]
        }
      ]
    },
    {
      "cell_type": "markdown",
      "source": [
        "Data loader for generating batches:"
      ],
      "metadata": {
        "id": "vQF_ga0ZpGiA"
      }
    },
    {
      "cell_type": "code",
      "source": [
        "batch_size = 32\n",
        "\n",
        "tensor_x = torch.tensor(x, dtype=torch.float)\n",
        "tensor_t = torch.tensor(t, dtype=torch.long)\n",
        "train_dataset = TensorDataset(tensor_x[:, :, None], tensor_t)\n",
        "train_dataloader = DataLoader(train_dataset, batch_size=batch_size, shuffle=True)"
      ],
      "metadata": {
        "id": "KtRNHI_yBKgG"
      },
      "execution_count": null,
      "outputs": []
    },
    {
      "cell_type": "markdown",
      "source": [
        "Test for the RNN implementation:"
      ],
      "metadata": {
        "id": "pXVoAJUIpXDu"
      }
    },
    {
      "cell_type": "code",
      "source": [
        "from dlfbt_lab3 import RNN"
      ],
      "metadata": {
        "id": "u5r1hI9I_06z"
      },
      "execution_count": null,
      "outputs": []
    },
    {
      "cell_type": "code",
      "source": [
        "class Network(nn.Module):\n",
        "    def __init__(self, input_size, hidden_size, output_size):\n",
        "        super(Network, self).__init__()\n",
        "\n",
        "        self.rnn = RNN(input_size, hidden_size)\n",
        "        self.h2o = nn.Linear(hidden_size, output_size)\n",
        "\n",
        "    def forward(self, input, hidden):\n",
        "        x = self.rnn(input, hidden)\n",
        "        output = self.h2o(x)\n",
        "\n",
        "        return output"
      ],
      "metadata": {
        "id": "ZhdUyI_1C7fd"
      },
      "execution_count": null,
      "outputs": []
    },
    {
      "cell_type": "code",
      "source": [
        "hidden_size = 10\n",
        "net = Network(1, hidden_size, 2)"
      ],
      "metadata": {
        "id": "4ItjtGdOC7XE"
      },
      "execution_count": null,
      "outputs": []
    },
    {
      "cell_type": "code",
      "source": [
        "criterion = nn.CrossEntropyLoss()\n",
        "optimizer = optim.Adam(net.parameters())"
      ],
      "metadata": {
        "id": "ukWXNQVoD3qT"
      },
      "execution_count": null,
      "outputs": []
    },
    {
      "cell_type": "code",
      "source": [
        "nepochs = 10\n",
        "hh = []\n",
        "acc = []\n",
        "for it in range(nepochs):\n",
        "  rloss = 0.0\n",
        "  racc = 0.0\n",
        "  for xbatch, tbatch in train_dataloader:\n",
        "    # Reset gradients to 0:\n",
        "    optimizer.zero_grad()\n",
        "\n",
        "    # Forward pass:\n",
        "    outputs = net(xbatch, torch.zeros(xbatch.shape[0], hidden_size))\n",
        "    loss = criterion(outputs, tbatch)\n",
        "\n",
        "    # Backward pass:\n",
        "    loss.backward()\n",
        "\n",
        "    # Weights update:\n",
        "    optimizer.step()\n",
        "\n",
        "    # Loss:\n",
        "    rloss += loss.item()\n",
        "\n",
        "    # Accuracy:\n",
        "    preds = np.argmax(outputs.detach(), axis=1)\n",
        "    racc += (preds == tbatch).numpy().mean()\n",
        "\n",
        "  # Prints:\n",
        "  rloss /= len(train_dataloader)\n",
        "  racc /= len(train_dataloader)\n",
        "  print('[%d] loss = %.3f, acc = %.3f' % (it + 1, rloss, racc))\n",
        "  hh.append(rloss)\n",
        "  acc.append(racc)"
      ],
      "metadata": {
        "colab": {
          "base_uri": "https://localhost:8080/"
        },
        "id": "Pg-32CwbRh7B",
        "outputId": "47eb25f7-81e0-4920-cdc9-c6f14702ddef"
      },
      "execution_count": null,
      "outputs": [
        {
          "output_type": "stream",
          "name": "stdout",
          "text": [
            "[1] loss = 0.617, acc = 0.649\n",
            "[2] loss = 0.552, acc = 0.718\n",
            "[3] loss = 0.171, acc = 0.935\n",
            "[4] loss = 0.029, acc = 0.992\n",
            "[5] loss = 0.031, acc = 0.997\n",
            "[6] loss = 0.009, acc = 1.000\n",
            "[7] loss = 0.006, acc = 1.000\n",
            "[8] loss = 0.003, acc = 1.000\n",
            "[9] loss = 0.070, acc = 0.993\n",
            "[10] loss = 0.004, acc = 1.000\n"
          ]
        }
      ]
    },
    {
      "cell_type": "code",
      "source": [
        "plt.figure(figsize=(10, 5))\n",
        "plt.subplot(1, 2, 1)\n",
        "plt.plot(hh)\n",
        "plt.grid(True)\n",
        "plt.subplot(1, 2, 2)\n",
        "plt.plot(acc)\n",
        "plt.grid(True)\n",
        "plt.show()"
      ],
      "metadata": {
        "colab": {
          "base_uri": "https://localhost:8080/",
          "height": 387
        },
        "id": "bwvPEr-hTDiR",
        "outputId": "0c2b1327-8131-41a8-8b02-043744920b94"
      },
      "execution_count": null,
      "outputs": [
        {
          "output_type": "display_data",
          "data": {
            "text/plain": [
              "<Figure size 1000x500 with 2 Axes>"
            ],
            "image/png": "[encoded data removed]"
          },
          "metadata": {}
        }
      ]
    },
    {
      "cell_type": "markdown",
      "source": [
        "Test for the LSTM implementation:"
      ],
      "metadata": {
        "id": "-gWtJHKbgSNr"
      }
    },
    {
      "cell_type": "code",
      "source": [
        "from dlfbt_lab3 import LSTM"
      ],
      "metadata": {
        "id": "CKr58raOVVCf"
      },
      "execution_count": null,
      "outputs": []
    },
    {
      "cell_type": "code",
      "source": [
        "class Network(nn.Module):\n",
        "    def __init__(self, input_size, hidden_size, output_size):\n",
        "        super(Network, self).__init__()\n",
        "\n",
        "        self.lstm = LSTM(input_size, hidden_size)\n",
        "        self.h2o = nn.Linear(hidden_size, output_size)\n",
        "\n",
        "    def forward(self, input, hidden, cell):\n",
        "        x = self.lstm(input, hidden, cell)\n",
        "        output = self.h2o(x)\n",
        "\n",
        "        return output\n"
      ],
      "metadata": {
        "id": "e2kMK4WuBWOQ"
      },
      "execution_count": null,
      "outputs": []
    },
    {
      "cell_type": "code",
      "source": [
        "hidden_size = 10\n",
        "net = Network(1, hidden_size, 2)"
      ],
      "metadata": {
        "id": "CYTig1lsBWKW"
      },
      "execution_count": null,
      "outputs": []
    },
    {
      "cell_type": "code",
      "source": [
        "criterion = nn.CrossEntropyLoss()\n",
        "optimizer = optim.Adam(net.parameters())"
      ],
      "metadata": {
        "id": "fmNrC8U3jUTE"
      },
      "execution_count": null,
      "outputs": []
    },
    {
      "cell_type": "code",
      "source": [
        "nepochs = 10\n",
        "hh = []\n",
        "acc = []\n",
        "for it in range(nepochs):\n",
        "  rloss = 0.0\n",
        "  racc = 0.0\n",
        "  for xbatch, tbatch in train_dataloader:\n",
        "    # Reset gradients to 0:\n",
        "    optimizer.zero_grad()\n",
        "\n",
        "    # Forward pass:\n",
        "    outputs = net(xbatch, torch.zeros(xbatch.shape[0], hidden_size), torch.zeros(xbatch.shape[0], hidden_size))\n",
        "    loss = criterion(outputs, tbatch)\n",
        "\n",
        "    # Backward pass:\n",
        "    loss.backward()\n",
        "\n",
        "    # Weights update:\n",
        "    optimizer.step()\n",
        "\n",
        "    # Loss:\n",
        "    rloss += loss.item()\n",
        "\n",
        "    # Accuracy:\n",
        "    preds = np.argmax(outputs.detach(), axis=1)\n",
        "    racc += (preds == tbatch).numpy().mean()\n",
        "\n",
        "  # Prints:\n",
        "  rloss /= len(train_dataloader)\n",
        "  racc /= len(train_dataloader)\n",
        "  print('[%d] loss = %.3f, acc = %.3f' % (it + 1, rloss, racc))\n",
        "  hh.append(rloss)\n",
        "  acc.append(racc)"
      ],
      "metadata": {
        "colab": {
          "base_uri": "https://localhost:8080/"
        },
        "id": "2Wh_gQBrq9G0",
        "outputId": "89a4967b-59b7-4a9b-c21b-20a3b5422394"
      },
      "execution_count": null,
      "outputs": [
        {
          "output_type": "stream",
          "name": "stdout",
          "text": [
            "[1] loss = 0.597, acc = 0.675\n",
            "[2] loss = 0.348, acc = 0.842\n",
            "[3] loss = 0.044, acc = 0.987\n",
            "[4] loss = 0.024, acc = 0.997\n",
            "[5] loss = 0.006, acc = 1.000\n",
            "[6] loss = 0.003, acc = 1.000\n",
            "[7] loss = 0.012, acc = 0.998\n",
            "[8] loss = 0.002, acc = 1.000\n",
            "[9] loss = 0.001, acc = 1.000\n",
            "[10] loss = 0.000, acc = 1.000\n"
          ]
        }
      ]
    },
    {
      "cell_type": "code",
      "source": [
        "plt.figure(figsize=(10, 5))\n",
        "plt.subplot(1, 2, 1)\n",
        "plt.plot(hh)\n",
        "plt.grid(True)\n",
        "plt.subplot(1, 2, 2)\n",
        "plt.plot(acc)\n",
        "plt.grid(True)\n",
        "plt.show()"
      ],
      "metadata": {
        "colab": {
          "base_uri": "https://localhost:8080/",
          "height": 387
        },
        "id": "bOkPoAEgjUOw",
        "outputId": "935d2dc7-9583-4eea-fae4-01e42db46d5c"
      },
      "execution_count": null,
      "outputs": [
        {
          "output_type": "display_data",
          "data": {
            "text/plain": [
              "<Figure size 1000x500 with 2 Axes>"
            ],
            "image/png": "[encoded data removed]"
          },
          "metadata": {}
        }
      ]
    },
    {
      "cell_type": "markdown",
      "source": [
        "### <font color=\"#CA3532\">Exercise 4: Language modeling</font>\n",
        "\n",
        "Using PyTorch, design a recurrent neural network that can be applied to a language modeling task at the character level. The network can make use of the classes ``RNN`` and ``LSTM`` developed for exercise 3, more general classes such as ``torch.nn.RNN`` or ``torch.nn.LSTM``, available in the PyTorch library, or any other.\n",
        "\n",
        "Include your class definition in the file ``dlfbf_lab3.py``, as class ``SequenceModelingNetwork``. Then import the class and use it to run the following examples. Depending on how you defined your network, it may be necessary to adapt the examples. Here I assume that:\n",
        "\n",
        "1. There is only one recurrent layer with an LSTM architecture.\n",
        "1. The constructor (``__init__`` method) receives the *input size*, the *hidden size* and the *output size*.\n",
        "2. The ``forward`` method receives the *input* and the *hidden state* variables."
      ],
      "metadata": {
        "id": "7OV5n4apsEss"
      }
    },
    {
      "cell_type": "code",
      "source": [
        "from dlfbt_lab3 import SequenceModelingNetwork"
      ],
      "metadata": {
        "id": "z1h3r1FymGuP"
      },
      "execution_count": null,
      "outputs": []
    },
    {
      "cell_type": "markdown",
      "source": [
        "### Apply your network to the parity problem\n",
        "\n",
        "As a first test, you will apply your network to the parity problem that we defined in https://luisferuam.github.io/DLFBT/recurrent_neural_networks/recurrent_neural_networks.html"
      ],
      "metadata": {
        "id": "BIPAu_PGPPJJ"
      }
    },
    {
      "cell_type": "markdown",
      "source": [
        "This function generates the random input and output sequences:"
      ],
      "metadata": {
        "id": "iKy4O6QyqaXF"
      }
    },
    {
      "cell_type": "code",
      "source": [
        "def generate_sequences(n, p0, p1):\n",
        "  \"\"\"\n",
        "  n is the number of elements in the sequence\n",
        "  p0 and p1 must be probabilities, with p0 + p1 <= 1\n",
        "  the probability for the $ symbol is assumed to be p$ = 1 - p0 - p1\n",
        "  \"\"\"\n",
        "  r = np.random.rand(n)\n",
        "  x_sym = np.full(n, '$')\n",
        "  x = np.full(n, 2)\n",
        "  x_sym[r < p0 + p1] = '1'\n",
        "  x[r < p0 + p1] = 1\n",
        "  x_sym[r < p0] = '0'\n",
        "  x[r < p0] = 0\n",
        "  x_sym[0] = '$'\n",
        "  x[0] = 2\n",
        "  t = np.zeros(n, dtype=int)\n",
        "  k = 0\n",
        "  for i in range(n):\n",
        "    if x[i] == 2:\n",
        "      t[i] = 0\n",
        "      k = 0\n",
        "    else:\n",
        "      k += x[i]\n",
        "      t[i] = k%2\n",
        "\n",
        "  x_string = ''.join(x_sym)\n",
        "  t_string = ''.join([chr(c+48) for c in t])\n",
        "\n",
        "  x_one_hot = 1*(np.arange(3)[:, None] == x[None, :])\n",
        "\n",
        "  return x, t, x_one_hot, x_string, t_string"
      ],
      "metadata": {
        "id": "O4DCbLX7POp1"
      },
      "execution_count": null,
      "outputs": []
    },
    {
      "cell_type": "markdown",
      "source": [
        "Here we create sequences of length 5000:"
      ],
      "metadata": {
        "id": "cGlHUTGmqjbY"
      }
    },
    {
      "cell_type": "code",
      "source": [
        "num_pats = 5000\n",
        "x, t, x_one_hot, x_string, t_string = generate_sequences(num_pats, 0.45, 0.45)"
      ],
      "metadata": {
        "id": "Iw_hkqolPdwp"
      },
      "execution_count": null,
      "outputs": []
    },
    {
      "cell_type": "markdown",
      "source": [
        "Next we define the network. Note that the input size is 3 (number of input symbols: ``0``, ``1`` or ``$``) and the output size is 2 (the parity can be either 0 or 1). The number of hidden units is arbitrary."
      ],
      "metadata": {
        "id": "5JpA88Tzmzrb"
      }
    },
    {
      "cell_type": "code",
      "source": [
        "hidden_size = 10\n",
        "net = SequenceModelingNetwork(3, hidden_size, 2)"
      ],
      "metadata": {
        "id": "wHbBAQfhRd7M"
      },
      "execution_count": null,
      "outputs": []
    },
    {
      "cell_type": "markdown",
      "source": [
        "Loss function and optimizer:"
      ],
      "metadata": {
        "id": "yeeyARCIr7XU"
      }
    },
    {
      "cell_type": "code",
      "source": [
        "criterion = nn.CrossEntropyLoss()\n",
        "optimizer = optim.Adam(net.parameters())"
      ],
      "metadata": {
        "id": "cTmet_tGRPgS"
      },
      "execution_count": null,
      "outputs": []
    },
    {
      "cell_type": "markdown",
      "source": [
        "Network training:"
      ],
      "metadata": {
        "id": "nmoNpfnur-l8"
      }
    },
    {
      "cell_type": "code",
      "source": [
        "nepochs = 30\n",
        "seq_len = 25\n",
        "hh = []\n",
        "acc = []\n",
        "for it in range(nepochs):\n",
        "  rloss = 0.0\n",
        "  racc = 0.0\n",
        "  ix = 0\n",
        "  state = (torch.zeros(1, 1, hidden_size), torch.zeros(1, 1, hidden_size))\n",
        "  niters = x_one_hot.transpose().shape[0] // seq_len\n",
        "  while ix + seq_len <= x_one_hot.transpose().shape[0]:\n",
        "    xbatch = torch.tensor(x_one_hot.transpose()[None, ix:ix+seq_len, :], dtype=torch.float)\n",
        "    tbatch = torch.tensor(t[None, ix:ix+seq_len], dtype=torch.long)\n",
        "    ix += seq_len\n",
        "\n",
        "    # Reset gradients to 0:\n",
        "    optimizer.zero_grad()\n",
        "\n",
        "    # Forward pass:\n",
        "    output, state = net(xbatch, state)\n",
        "    state = (state[0].detach(), state[1].detach())\n",
        "    loss = criterion(torch.transpose(output, 1, 2), tbatch)\n",
        "\n",
        "    # Backward pass:\n",
        "    loss.backward()\n",
        "\n",
        "    # Weights update:\n",
        "    optimizer.step()\n",
        "\n",
        "    # Loss:\n",
        "    rloss += loss.item()\n",
        "\n",
        "    # Accuracy:\n",
        "    preds = np.argmax(output.detach(), axis=2)\n",
        "    racc += (preds == tbatch).numpy().mean()\n",
        "\n",
        "  # Prints:\n",
        "  rloss /= niters\n",
        "  racc /= niters\n",
        "  print('[%d] loss = %.3f, acc = %.3f' % (it + 1, rloss, racc))\n",
        "  hh.append(rloss)\n",
        "  acc.append(racc)"
      ],
      "metadata": {
        "colab": {
          "base_uri": "https://localhost:8080/"
        },
        "id": "WSqrP_MAVih0",
        "outputId": "def16c7d-e0a8-405d-c2b0-49e1a1c10584"
      },
      "execution_count": null,
      "outputs": [
        {
          "output_type": "stream",
          "name": "stdout",
          "text": [
            "[1] loss = 0.692, acc = 0.519\n",
            "[2] loss = 0.672, acc = 0.547\n",
            "[3] loss = 0.645, acc = 0.541\n",
            "[4] loss = 0.624, acc = 0.568\n",
            "[5] loss = 0.604, acc = 0.588\n",
            "[6] loss = 0.575, acc = 0.613\n",
            "[7] loss = 0.527, acc = 0.700\n",
            "[8] loss = 0.325, acc = 0.904\n",
            "[9] loss = 0.061, acc = 1.000\n",
            "[10] loss = 0.029, acc = 1.000\n",
            "[11] loss = 0.018, acc = 1.000\n",
            "[12] loss = 0.013, acc = 1.000\n",
            "[13] loss = 0.009, acc = 1.000\n",
            "[14] loss = 0.007, acc = 1.000\n",
            "[15] loss = 0.006, acc = 1.000\n",
            "[16] loss = 0.005, acc = 1.000\n",
            "[17] loss = 0.004, acc = 1.000\n",
            "[18] loss = 0.003, acc = 1.000\n",
            "[19] loss = 0.003, acc = 1.000\n",
            "[20] loss = 0.002, acc = 1.000\n",
            "[21] loss = 0.002, acc = 1.000\n",
            "[22] loss = 0.002, acc = 1.000\n",
            "[23] loss = 0.001, acc = 1.000\n",
            "[24] loss = 0.001, acc = 1.000\n",
            "[25] loss = 0.001, acc = 1.000\n",
            "[26] loss = 0.001, acc = 1.000\n",
            "[27] loss = 0.001, acc = 1.000\n",
            "[28] loss = 0.001, acc = 1.000\n",
            "[29] loss = 0.001, acc = 1.000\n",
            "[30] loss = 0.001, acc = 1.000\n"
          ]
        }
      ]
    },
    {
      "cell_type": "code",
      "source": [
        "plt.figure(figsize=(10, 5))\n",
        "plt.subplot(1, 2, 1)\n",
        "plt.plot(hh)\n",
        "plt.grid(True)\n",
        "plt.subplot(1, 2, 2)\n",
        "plt.plot(acc)\n",
        "plt.grid(True)\n",
        "plt.show()"
      ],
      "metadata": {
        "colab": {
          "base_uri": "https://localhost:8080/",
          "height": 445
        },
        "id": "5rpCEx_ZkaQC",
        "outputId": "535f8723-a028-4ca2-a2bc-04af5a638c20"
      },
      "execution_count": null,
      "outputs": [
        {
          "output_type": "display_data",
          "data": {
            "text/plain": [
              "<Figure size 1000x500 with 2 Axes>"
            ],
            "image/png": "[encoded data removed]"
          },
          "metadata": {}
        }
      ]
    },
    {
      "cell_type": "markdown",
      "source": [
        "### Language modeling\n",
        "\n",
        "We can use the ``SequenceModelingNetwork`` in a language modeling problem, at a character level, simply by using a text string as input and the same string, shifted one position to the left, as output. In the next cells you have one example where I use the text in the *Don Quijote de la Mancha* novel.\n",
        "\n",
        "Adapt the code to your network implementation, use different texts if you prefer, and train a network that generates text when being input with the first character. Show examples of the generated text and comment on your results."
      ],
      "metadata": {
        "id": "6LhQMcdQnOvD"
      }
    },
    {
      "cell_type": "markdown",
      "source": [
        "Load the input text:"
      ],
      "metadata": {
        "id": "akecD-NJuV8D"
      }
    },
    {
      "cell_type": "code",
      "source": [
        "f = open('DLFBT-LAB/data/el_quijote.txt', 'r')\n",
        "quijote = f.read()\n",
        "f.close()\n",
        "print(len(quijote))"
      ],
      "metadata": {
        "colab": {
          "base_uri": "https://localhost:8080/"
        },
        "id": "R6hIBHj4nZr3",
        "outputId": "ca9eff3a-df6d-4128-bd58-b86580b36edd"
      },
      "execution_count": null,
      "outputs": [
        {
          "output_type": "stream",
          "name": "stdout",
          "text": [
            "1038397\n"
          ]
        }
      ]
    },
    {
      "cell_type": "markdown",
      "source": [
        "Transform to numpy arrays:"
      ],
      "metadata": {
        "id": "7Df77HhBoWEd"
      }
    },
    {
      "cell_type": "code",
      "source": [
        "z = np.array([c for c in quijote])\n",
        "print(z.shape)"
      ],
      "metadata": {
        "colab": {
          "base_uri": "https://localhost:8080/"
        },
        "id": "Dra9EFExnZg7",
        "outputId": "9ca62e75-95ae-4f4b-8af7-3c99d7b4d55f"
      },
      "execution_count": null,
      "outputs": [
        {
          "output_type": "stream",
          "name": "stdout",
          "text": [
            "(1038397,)\n"
          ]
        }
      ]
    },
    {
      "cell_type": "markdown",
      "source": [
        "Array of input symbols:"
      ],
      "metadata": {
        "id": "X0TqNoO9pFji"
      }
    },
    {
      "cell_type": "code",
      "source": [
        "symbols = np.unique(z)\n",
        "\n",
        "char_to_ix = {s: i for i, s in enumerate(symbols)}\n",
        "ix_to_char = {i: s for i, s in enumerate(symbols)}"
      ],
      "metadata": {
        "id": "SFw0G-MLpHYK"
      },
      "execution_count": null,
      "outputs": []
    },
    {
      "cell_type": "code",
      "source": [
        "symbols.shape"
      ],
      "metadata": {
        "id": "o7LYxC2OmQYw",
        "colab": {
          "base_uri": "https://localhost:8080/"
        },
        "outputId": "28988f7e-44d5-459e-af8b-f8af06ca7eb9"
      },
      "execution_count": null,
      "outputs": [
        {
          "output_type": "execute_result",
          "data": {
            "text/plain": [
              "(89,)"
            ]
          },
          "metadata": {},
          "execution_count": 18
        }
      ]
    },
    {
      "cell_type": "markdown",
      "source": [
        "One-hot encoding:"
      ],
      "metadata": {
        "id": "8SFTenydpZsr"
      }
    },
    {
      "cell_type": "code",
      "source": [
        "z_one_hot = 1*(symbols[None, :] == z[:, None])\n",
        "z_one_hot.shape"
      ],
      "metadata": {
        "colab": {
          "base_uri": "https://localhost:8080/"
        },
        "id": "Y5tTP3uepV1l",
        "outputId": "7fb4d9cd-affe-4815-a41b-6260f2ba8d13"
      },
      "execution_count": null,
      "outputs": [
        {
          "output_type": "execute_result",
          "data": {
            "text/plain": [
              "(1038397, 89)"
            ]
          },
          "metadata": {},
          "execution_count": 19
        }
      ]
    },
    {
      "cell_type": "markdown",
      "source": [
        "Input and output strings (the output is the input shifted one character to the left):"
      ],
      "metadata": {
        "id": "N6-ttVlzqBHC"
      }
    },
    {
      "cell_type": "code",
      "source": [
        "x = z_one_hot[:-1]\n",
        "t = z_one_hot[1:]\n",
        "print(x.shape)\n",
        "print(t.shape)"
      ],
      "metadata": {
        "colab": {
          "base_uri": "https://localhost:8080/"
        },
        "id": "yVPBW5ChqFnZ",
        "outputId": "582cabb0-38e8-412c-ba82-98275280275c"
      },
      "execution_count": null,
      "outputs": [
        {
          "output_type": "stream",
          "name": "stdout",
          "text": [
            "(1038396, 89)\n",
            "(1038396, 89)\n"
          ]
        }
      ]
    },
    {
      "cell_type": "markdown",
      "source": [
        "Definition of a function that will be used to generate text using the trained network:"
      ],
      "metadata": {
        "id": "MN7TMvhBvFBi"
      }
    },
    {
      "cell_type": "code",
      "source": [
        "from scipy.special import softmax\n",
        "\n",
        "def categorical(p):\n",
        "  return (p.cumsum() >= np.random.uniform(size=1)[0]).argmax()\n",
        "\n",
        "def generate(net, first_symbol, length):\n",
        "  state = (torch.zeros(1, hidden_size), torch.zeros(1, hidden_size))\n",
        "  x = torch.tensor(1*(symbols[None, :] == first_symbol), dtype=torch.float)\n",
        "\n",
        "  print(first_symbol, end='')\n",
        "\n",
        "  for i in range(length):\n",
        "    output, state = net(x, state)\n",
        "    x = output.detach()\n",
        "    probs = softmax(x.numpy().ravel())\n",
        "    ix = categorical(probs)\n",
        "    newchar = ix_to_char[ix]\n",
        "    x = torch.tensor(1*(symbols[None, :] == newchar), dtype=torch.float)\n",
        "    print(newchar, end='')\n",
        "\n",
        "  print()"
      ],
      "metadata": {
        "id": "fVhkN828h_7T"
      },
      "execution_count": null,
      "outputs": []
    },
    {
      "cell_type": "markdown",
      "source": [
        "Network definition:"
      ],
      "metadata": {
        "id": "URRqyy39qQ6y"
      }
    },
    {
      "cell_type": "code",
      "source": [
        "hidden_size = 200\n",
        "input_size = symbols.shape[0]\n",
        "output_size = symbols.shape[0]\n",
        "net = SequenceModelingNetwork(input_size, hidden_size, output_size)"
      ],
      "metadata": {
        "id": "riXdst2epbKD"
      },
      "execution_count": null,
      "outputs": []
    },
    {
      "cell_type": "code",
      "source": [
        "criterion = nn.CrossEntropyLoss()\n",
        "optimizer = optim.Adam(net.parameters())"
      ],
      "metadata": {
        "id": "IZiGiwErpbGP"
      },
      "execution_count": null,
      "outputs": []
    },
    {
      "cell_type": "markdown",
      "source": [
        "Network training:"
      ],
      "metadata": {
        "id": "PTmzHzndrc_B"
      }
    },
    {
      "cell_type": "code",
      "source": [
        "nepochs = 50\n",
        "seq_len = 100\n",
        "hh = []\n",
        "acc = []\n",
        "for it in range(nepochs):\n",
        "  rloss = 0.0\n",
        "  racc = 0.0\n",
        "  ix = 0\n",
        "  state = (torch.zeros(1, hidden_size), torch.zeros(1, hidden_size))\n",
        "  niters = x.shape[0] // seq_len\n",
        "  pb = tf.keras.utils.Progbar(niters)\n",
        "  while ix + seq_len <= x.shape[0]:\n",
        "    xbatch = torch.tensor(x[ix:ix+seq_len, :], dtype=torch.float)\n",
        "    tbatch = torch.tensor(t[ix:ix+seq_len, :], dtype=torch.float)\n",
        "    ix += seq_len\n",
        "\n",
        "    # Reset gradients to 0:\n",
        "    optimizer.zero_grad()\n",
        "\n",
        "    # Forward pass:\n",
        "    output, state = net(xbatch, state)\n",
        "    state = (state[0].detach(), state[1].detach())\n",
        "    loss = criterion(output, tbatch)\n",
        "\n",
        "    # Backward pass:\n",
        "    loss.backward()\n",
        "\n",
        "    # Weights update:\n",
        "    optimizer.step()\n",
        "\n",
        "    # Loss:\n",
        "    rloss += loss.item()\n",
        "\n",
        "    # Accuracy:\n",
        "    preds = np.argmax(output.detach(), axis=1)\n",
        "    reals = np.argmax(tbatch.detach(), axis=1)\n",
        "    racc += (preds == reals).numpy().mean()\n",
        "\n",
        "    pb.add(1)\n",
        "\n",
        "  # Prints:\n",
        "  rloss /= niters\n",
        "  racc /= niters\n",
        "  print('[%d] loss = %.3f, acc = %.3f' % (it + 1, rloss, racc))\n",
        "  hh.append(rloss)\n",
        "  acc.append(racc)\n",
        "\n",
        "  generate(net, 'D', 100)"
      ],
      "metadata": {
        "id": "ArxigGd4rcj3"
      },
      "execution_count": null,
      "outputs": []
    },
    {
      "cell_type": "code",
      "source": [
        "plt.figure(figsize=(10, 5))\n",
        "plt.subplot(1, 2, 1)\n",
        "plt.plot(hh)\n",
        "plt.grid(True)\n",
        "plt.subplot(1, 2, 2)\n",
        "plt.plot(acc)\n",
        "plt.grid(True)\n",
        "plt.show()"
      ],
      "metadata": {
        "id": "C5KjqzxMpa-k",
        "colab": {
          "base_uri": "https://localhost:8080/",
          "height": 445
        },
        "outputId": "7b045b3c-782c-404d-e4f6-0bf8911b94e0"
      },
      "execution_count": null,
      "outputs": [
        {
          "output_type": "display_data",
          "data": {
            "text/plain": [
              "<Figure size 1000x500 with 2 Axes>"
            ],
            "image/png": "[encoded data removed]"
          },
          "metadata": {}
        }
      ]
    },
    {
      "cell_type": "code",
      "source": [
        "generate(net, 'A', 500)"
      ],
      "metadata": {
        "colab": {
          "base_uri": "https://localhost:8080/"
        },
        "id": "g8JGeErX17OZ",
        "outputId": "75793686-55f0-4703-f9de-89c319ca01bc"
      },
      "execution_count": null,
      "outputs": [
        {
          "output_type": "stream",
          "name": "stdout",
          "text": [
            "Acudiar: jura yo es quitarme que todos tomemados pudieras los que pereció el carro, quistaban en esta mecedanto, yo nos tomajo bien luenea sobrinario vuestro por yo hasto fuero, le prebeniandoles compañía, mereciódo?\n",
            "-Pues, Sancho, donle, y nos tú la suces. Se senguno tú por alvintar buscar su parme y loforios, y hay no caballero, que apreventaba embritada por donde tan cuasto yo en cuaspo, cuyo brazos y tramos, dijo mudoque sugale, y de le potría soydon difierros esfertadas, los de un mis\n"
          ]
        }
      ]
    }
  ]
}